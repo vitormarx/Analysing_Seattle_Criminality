{
  "nbformat": 4,
  "nbformat_minor": 0,
  "metadata": {
    "colab": {
      "provenance": [],
      "collapsed_sections": [
        "U9566-sxmS55"
      ],
      "mount_file_id": "1QYYYr6OMmNHaqi8FvvxqxFsTd8iIgF82",
      "authorship_tag": "ABX9TyPltePlK1IisdJqYaEOcTWq"
    },
    "kernelspec": {
      "name": "python3",
      "display_name": "Python 3"
    },
    "language_info": {
      "name": "python"
    }
  },
  "cells": [
    {
      "cell_type": "markdown",
      "source": [
        "**Desafio - Projeto Cientista Chefe**\n",
        "\n",
        "**Candidato:** Vitor Marx Melo Silva"
      ],
      "metadata": {
        "id": "DzWBZYvWkwYp"
      }
    },
    {
      "cell_type": "markdown",
      "source": [
        "**Contexto**\n",
        "\n",
        "Neste projeto, você trabalhará com uma versão levemente modificada dos dados\n",
        "coletados pelo Departamento de Polícia de Seattle.\n",
        "\n",
        "Para facilitar a administração, o Departamento de Polícia de Seattle dividiu a cidade em 5 partes, cada uma com uma delegacia. Cada parte foi subdividida em setores, que por sua vez foram divididos em beats, somando um total de 17 setores e 51 beats (mais detalhes em [link](https://www.seattle.gov/police/information-and-data/tweets-by-beat)).\n",
        "\n",
        "Suponha que você esteja fazendo uma consultoria para a prefeitura de Seattle com o objetivo de automatizar o processo de geração de relatórios. Sua responsabilidade atual é lidar com dados que caracterizam o uso da força por parte da polícia."
      ],
      "metadata": {
        "id": "yzM06u2Mi9cL"
      }
    },
    {
      "cell_type": "markdown",
      "source": [
        "## Preparando os dados para análise"
      ],
      "metadata": {
        "id": "U9566-sxmS55"
      }
    },
    {
      "cell_type": "markdown",
      "source": [
        "**1. Importação de bibliotecas**"
      ],
      "metadata": {
        "id": "9kX0g_cznoTd"
      }
    },
    {
      "cell_type": "markdown",
      "source": [
        "As bibliotecas utilizadas foram as bibliotecas comuns de manipulação de dados (numpy e pandas) e plotagem gráfica (matplotlib e seaborn). Foram importadas também as principais bibliotecas do scikit-learn para construção e avaliação de modelos de aprendizado de máquina"
      ],
      "metadata": {
        "id": "S-sHc93jxyxp"
      }
    },
    {
      "cell_type": "code",
      "source": [
        "import numpy as np\n",
        "import pandas as pd\n",
        "\n",
        "import matplotlib.pyplot as plt\n",
        "import seaborn as sns\n",
        "import plotly.express as px\n",
        "\n",
        "from datetime import date, datetime\n",
        "\n",
        "from sklearn.model_selection import train_test_split\n",
        "\n",
        "from sklearn.pipeline import make_pipeline, Pipeline\n",
        "from sklearn.impute import SimpleImputer\n",
        "from sklearn.preprocessing import StandardScaler, MinMaxScaler, OneHotEncoder, LabelEncoder\n",
        "from sklearn.compose import ColumnTransformer\n",
        "\n",
        "from sklearn.model_selection import RandomizedSearchCV\n",
        "\n",
        "from sklearn.linear_model import LogisticRegression\n",
        "from sklearn.tree import DecisionTreeClassifier\n",
        "from sklearn.ensemble import RandomForestClassifier\n",
        "from sklearn.svm import SVC\n",
        "from sklearn.neighbors import KNeighborsClassifier\n",
        "from sklearn.naive_bayes import GaussianNB\n",
        "\n",
        "\n",
        "from sklearn.model_selection import cross_val_score, cross_validate, KFold\n",
        "from sklearn.metrics import classification_report, accuracy_score, f1_score\n",
        "\n",
        "from sklearn.metrics import confusion_matrix\n",
        "\n",
        "from imblearn.over_sampling import SMOTE\n",
        "from collections import Counter\n",
        "\n",
        "import warnings\n",
        "warnings.filterwarnings(\"ignore\")"
      ],
      "metadata": {
        "id": "XD0k-qJsmOMV"
      },
      "execution_count": null,
      "outputs": []
    },
    {
      "cell_type": "markdown",
      "source": [
        "**2. Carregamento dos dados**\n",
        "\n",
        "Os dados fornecidos pelo [Site](https://www.seattle.gov/police/information-and-data/tweets-by-beat) da polícia de Seattle podem ser baixados em formato .csv e assim manipulados pela biblioteca do pandas. A base de dados foi salva e importada a partir do Google Drive.\n"
      ],
      "metadata": {
        "id": "AYfFvHFVoGIA"
      }
    },
    {
      "cell_type": "code",
      "source": [
        "raw_data = pd.read_csv('/content/drive/MyDrive/Colab Notebooks/Desafio - Cientista Chefe/datasets/Use_Of_Force.csv')\n",
        "raw_data.head()"
      ],
      "metadata": {
        "colab": {
          "base_uri": "https://localhost:8080/",
          "height": 444
        },
        "id": "H9P8gHK_oFlI",
        "outputId": "f0c2527e-0812-4823-efcb-554d1f1dc918"
      },
      "execution_count": null,
      "outputs": [
        {
          "output_type": "execute_result",
          "data": {
            "text/plain": [
              "                      ID  Incident_Num           Incident_Type  \\\n",
              "0  2014UOF-0001-1377-203           251  Level 1 - Use of Force   \n",
              "1  2014UOF-0002-1098-166           218  Level 1 - Use of Force   \n",
              "2  2014UOF-0003-1031-125           178  Level 1 - Use of Force   \n",
              "3   2014UOF-0004-767-126           179  Level 1 - Use of Force   \n",
              "4  2014UOF-0005-1473-172           223  Level 1 - Use of Force   \n",
              "\n",
              "        Occured_date_time Precinct   Sector Beat  Officer_ID  Subject_ID  \\\n",
              "0  06/07/2014 12:09:00 AM     East  CHARLIE   C2        1594         203   \n",
              "1  05/30/2014 02:06:00 PM     East   GEORGE   G1        1673         166   \n",
              "2  05/23/2014 05:24:00 PM     West     KING   K3        1690         125   \n",
              "3  05/26/2014 12:10:00 AM     East   EDWARD   E2         953         126   \n",
              "4  06/01/2014 04:03:00 PM    South   ROBERT   R1        1145         172   \n",
              "\n",
              "                Subject_Race Subject_Gender  \n",
              "0  Black or African American           Male  \n",
              "1                      White           Male  \n",
              "2                      Asian         Female  \n",
              "3  Black or African American           Male  \n",
              "4  Black or African American           Male  "
            ],
            "text/html": [
              "\n",
              "  <div id=\"df-6ab8fa4e-c76d-49da-a717-ed7515ea6bff\">\n",
              "    <div class=\"colab-df-container\">\n",
              "      <div>\n",
              "<style scoped>\n",
              "    .dataframe tbody tr th:only-of-type {\n",
              "        vertical-align: middle;\n",
              "    }\n",
              "\n",
              "    .dataframe tbody tr th {\n",
              "        vertical-align: top;\n",
              "    }\n",
              "\n",
              "    .dataframe thead th {\n",
              "        text-align: right;\n",
              "    }\n",
              "</style>\n",
              "<table border=\"1\" class=\"dataframe\">\n",
              "  <thead>\n",
              "    <tr style=\"text-align: right;\">\n",
              "      <th></th>\n",
              "      <th>ID</th>\n",
              "      <th>Incident_Num</th>\n",
              "      <th>Incident_Type</th>\n",
              "      <th>Occured_date_time</th>\n",
              "      <th>Precinct</th>\n",
              "      <th>Sector</th>\n",
              "      <th>Beat</th>\n",
              "      <th>Officer_ID</th>\n",
              "      <th>Subject_ID</th>\n",
              "      <th>Subject_Race</th>\n",
              "      <th>Subject_Gender</th>\n",
              "    </tr>\n",
              "  </thead>\n",
              "  <tbody>\n",
              "    <tr>\n",
              "      <th>0</th>\n",
              "      <td>2014UOF-0001-1377-203</td>\n",
              "      <td>251</td>\n",
              "      <td>Level 1 - Use of Force</td>\n",
              "      <td>06/07/2014 12:09:00 AM</td>\n",
              "      <td>East</td>\n",
              "      <td>CHARLIE</td>\n",
              "      <td>C2</td>\n",
              "      <td>1594</td>\n",
              "      <td>203</td>\n",
              "      <td>Black or African American</td>\n",
              "      <td>Male</td>\n",
              "    </tr>\n",
              "    <tr>\n",
              "      <th>1</th>\n",
              "      <td>2014UOF-0002-1098-166</td>\n",
              "      <td>218</td>\n",
              "      <td>Level 1 - Use of Force</td>\n",
              "      <td>05/30/2014 02:06:00 PM</td>\n",
              "      <td>East</td>\n",
              "      <td>GEORGE</td>\n",
              "      <td>G1</td>\n",
              "      <td>1673</td>\n",
              "      <td>166</td>\n",
              "      <td>White</td>\n",
              "      <td>Male</td>\n",
              "    </tr>\n",
              "    <tr>\n",
              "      <th>2</th>\n",
              "      <td>2014UOF-0003-1031-125</td>\n",
              "      <td>178</td>\n",
              "      <td>Level 1 - Use of Force</td>\n",
              "      <td>05/23/2014 05:24:00 PM</td>\n",
              "      <td>West</td>\n",
              "      <td>KING</td>\n",
              "      <td>K3</td>\n",
              "      <td>1690</td>\n",
              "      <td>125</td>\n",
              "      <td>Asian</td>\n",
              "      <td>Female</td>\n",
              "    </tr>\n",
              "    <tr>\n",
              "      <th>3</th>\n",
              "      <td>2014UOF-0004-767-126</td>\n",
              "      <td>179</td>\n",
              "      <td>Level 1 - Use of Force</td>\n",
              "      <td>05/26/2014 12:10:00 AM</td>\n",
              "      <td>East</td>\n",
              "      <td>EDWARD</td>\n",
              "      <td>E2</td>\n",
              "      <td>953</td>\n",
              "      <td>126</td>\n",
              "      <td>Black or African American</td>\n",
              "      <td>Male</td>\n",
              "    </tr>\n",
              "    <tr>\n",
              "      <th>4</th>\n",
              "      <td>2014UOF-0005-1473-172</td>\n",
              "      <td>223</td>\n",
              "      <td>Level 1 - Use of Force</td>\n",
              "      <td>06/01/2014 04:03:00 PM</td>\n",
              "      <td>South</td>\n",
              "      <td>ROBERT</td>\n",
              "      <td>R1</td>\n",
              "      <td>1145</td>\n",
              "      <td>172</td>\n",
              "      <td>Black or African American</td>\n",
              "      <td>Male</td>\n",
              "    </tr>\n",
              "  </tbody>\n",
              "</table>\n",
              "</div>\n",
              "      <button class=\"colab-df-convert\" onclick=\"convertToInteractive('df-6ab8fa4e-c76d-49da-a717-ed7515ea6bff')\"\n",
              "              title=\"Convert this dataframe to an interactive table.\"\n",
              "              style=\"display:none;\">\n",
              "        \n",
              "  <svg xmlns=\"http://www.w3.org/2000/svg\" height=\"24px\"viewBox=\"0 0 24 24\"\n",
              "       width=\"24px\">\n",
              "    <path d=\"M0 0h24v24H0V0z\" fill=\"none\"/>\n",
              "    <path d=\"M18.56 5.44l.94 2.06.94-2.06 2.06-.94-2.06-.94-.94-2.06-.94 2.06-2.06.94zm-11 1L8.5 8.5l.94-2.06 2.06-.94-2.06-.94L8.5 2.5l-.94 2.06-2.06.94zm10 10l.94 2.06.94-2.06 2.06-.94-2.06-.94-.94-2.06-.94 2.06-2.06.94z\"/><path d=\"M17.41 7.96l-1.37-1.37c-.4-.4-.92-.59-1.43-.59-.52 0-1.04.2-1.43.59L10.3 9.45l-7.72 7.72c-.78.78-.78 2.05 0 2.83L4 21.41c.39.39.9.59 1.41.59.51 0 1.02-.2 1.41-.59l7.78-7.78 2.81-2.81c.8-.78.8-2.07 0-2.86zM5.41 20L4 18.59l7.72-7.72 1.47 1.35L5.41 20z\"/>\n",
              "  </svg>\n",
              "      </button>\n",
              "      \n",
              "  <style>\n",
              "    .colab-df-container {\n",
              "      display:flex;\n",
              "      flex-wrap:wrap;\n",
              "      gap: 12px;\n",
              "    }\n",
              "\n",
              "    .colab-df-convert {\n",
              "      background-color: #E8F0FE;\n",
              "      border: none;\n",
              "      border-radius: 50%;\n",
              "      cursor: pointer;\n",
              "      display: none;\n",
              "      fill: #1967D2;\n",
              "      height: 32px;\n",
              "      padding: 0 0 0 0;\n",
              "      width: 32px;\n",
              "    }\n",
              "\n",
              "    .colab-df-convert:hover {\n",
              "      background-color: #E2EBFA;\n",
              "      box-shadow: 0px 1px 2px rgba(60, 64, 67, 0.3), 0px 1px 3px 1px rgba(60, 64, 67, 0.15);\n",
              "      fill: #174EA6;\n",
              "    }\n",
              "\n",
              "    [theme=dark] .colab-df-convert {\n",
              "      background-color: #3B4455;\n",
              "      fill: #D2E3FC;\n",
              "    }\n",
              "\n",
              "    [theme=dark] .colab-df-convert:hover {\n",
              "      background-color: #434B5C;\n",
              "      box-shadow: 0px 1px 3px 1px rgba(0, 0, 0, 0.15);\n",
              "      filter: drop-shadow(0px 1px 2px rgba(0, 0, 0, 0.3));\n",
              "      fill: #FFFFFF;\n",
              "    }\n",
              "  </style>\n",
              "\n",
              "      <script>\n",
              "        const buttonEl =\n",
              "          document.querySelector('#df-6ab8fa4e-c76d-49da-a717-ed7515ea6bff button.colab-df-convert');\n",
              "        buttonEl.style.display =\n",
              "          google.colab.kernel.accessAllowed ? 'block' : 'none';\n",
              "\n",
              "        async function convertToInteractive(key) {\n",
              "          const element = document.querySelector('#df-6ab8fa4e-c76d-49da-a717-ed7515ea6bff');\n",
              "          const dataTable =\n",
              "            await google.colab.kernel.invokeFunction('convertToInteractive',\n",
              "                                                     [key], {});\n",
              "          if (!dataTable) return;\n",
              "\n",
              "          const docLinkHtml = 'Like what you see? Visit the ' +\n",
              "            '<a target=\"_blank\" href=https://colab.research.google.com/notebooks/data_table.ipynb>data table notebook</a>'\n",
              "            + ' to learn more about interactive tables.';\n",
              "          element.innerHTML = '';\n",
              "          dataTable['output_type'] = 'display_data';\n",
              "          await google.colab.output.renderOutput(dataTable, element);\n",
              "          const docLink = document.createElement('div');\n",
              "          docLink.innerHTML = docLinkHtml;\n",
              "          element.appendChild(docLink);\n",
              "        }\n",
              "      </script>\n",
              "    </div>\n",
              "  </div>\n",
              "  "
            ]
          },
          "metadata": {},
          "execution_count": 3
        }
      ]
    },
    {
      "cell_type": "markdown",
      "source": [
        "Aqui é apresentado o primeiro contato com os dados e temos as seguintes informações a respeito do que estamos trabalhando.\n",
        "\n",
        "1.   As variável *Incident_Type* é categórica e representa o target de futuras previsões, ela identifica o nível do uso de força em uma ocorrência criminal.\n",
        "2.   As variáveis *ID* e *Incident_Num* são identificadores da ocorrência criminal e não tem impacto para a variável de saída. Logo, podem se excluídos para a análise.\n",
        "\n",
        "3.   As variáveis *Precint*, *Sector* e *Beat* são variáveis que identificam a localidade das ocorrências.\n",
        "\n",
        "4.   *Subject_Race* indica a etnia do civil que incidiu o crim.e\n",
        "\n",
        "5.   Por fim, *Subject_Gender* indica o gênero o qual o civil se identifica.\n",
        "\n"
      ],
      "metadata": {
        "id": "bLIslKu0zhTH"
      }
    },
    {
      "cell_type": "markdown",
      "source": [
        "###**3. Limpeza de dados**"
      ],
      "metadata": {
        "id": "LHTapNj6p-Zx"
      }
    },
    {
      "cell_type": "code",
      "source": [
        "# verificando se há dados faltantes ou tipagem incorreta nos dados\n",
        "raw_data.info()"
      ],
      "metadata": {
        "colab": {
          "base_uri": "https://localhost:8080/"
        },
        "id": "Plkp6JQ7p3En",
        "outputId": "b70a7762-9a80-41a5-dae4-7ca3c620b93e"
      },
      "execution_count": null,
      "outputs": [
        {
          "output_type": "stream",
          "name": "stdout",
          "text": [
            "<class 'pandas.core.frame.DataFrame'>\n",
            "RangeIndex: 14264 entries, 0 to 14263\n",
            "Data columns (total 11 columns):\n",
            " #   Column             Non-Null Count  Dtype \n",
            "---  ------             --------------  ----- \n",
            " 0   ID                 14264 non-null  object\n",
            " 1   Incident_Num       14264 non-null  int64 \n",
            " 2   Incident_Type      14264 non-null  object\n",
            " 3   Occured_date_time  14264 non-null  object\n",
            " 4   Precinct           14264 non-null  object\n",
            " 5   Sector             13313 non-null  object\n",
            " 6   Beat               14264 non-null  object\n",
            " 7   Officer_ID         14264 non-null  int64 \n",
            " 8   Subject_ID         14264 non-null  int64 \n",
            " 9   Subject_Race       14264 non-null  object\n",
            " 10  Subject_Gender     14264 non-null  object\n",
            "dtypes: int64(3), object(8)\n",
            "memory usage: 1.2+ MB\n"
          ]
        }
      ]
    },
    {
      "cell_type": "markdown",
      "source": [
        "Agora que verificamos os dados, podemos tratar alguns erros vistos à priori:\n",
        "\n",
        "\n",
        "1.   Dados faltantes: A variável *Sector* contém dados ausentes\n",
        "2.   Tipagem incorreta: A variável *Occured_date_time* deve ser do tipo timestamp\n",
        "\n"
      ],
      "metadata": {
        "id": "n4f94oMqqa1R"
      }
    },
    {
      "cell_type": "markdown",
      "source": [
        "**Trantando dados ausentes**"
      ],
      "metadata": {
        "id": "Vg4zM8Nu7cYW"
      }
    },
    {
      "cell_type": "code",
      "source": [
        "print('PERCENTUAL DE DADOS AUSENTES POR ATRIBUTO')\n",
        "print(f'{raw_data.isna().mean()}')"
      ],
      "metadata": {
        "colab": {
          "base_uri": "https://localhost:8080/"
        },
        "id": "6lbNjcLJJih_",
        "outputId": "6c97f07d-3f48-45a7-972c-c4d5dbdb23e1"
      },
      "execution_count": null,
      "outputs": [
        {
          "output_type": "stream",
          "name": "stdout",
          "text": [
            "PERCENTUAL DE DADOS AUSENTES POR ATRIBUTO\n",
            "ID                   0.000000\n",
            "Incident_Num         0.000000\n",
            "Incident_Type        0.000000\n",
            "Occured_date_time    0.000000\n",
            "Precinct             0.000000\n",
            "Sector               0.066671\n",
            "Beat                 0.000000\n",
            "Officer_ID           0.000000\n",
            "Subject_ID           0.000000\n",
            "Subject_Race         0.000000\n",
            "Subject_Gender       0.000000\n",
            "dtype: float64\n"
          ]
        }
      ]
    },
    {
      "cell_type": "markdown",
      "source": [
        "O atributo *Sector* está com alguns dados ausentes, Vamos explorar mais essa variável para tomar a decisão de substituição ou exclusão dos dados ausentes. Sabemos que, dentro de cada *Sector*, contém 3 *Beats*, assim podemos ver se essa relação está obedecendo essa regra."
      ],
      "metadata": {
        "id": "clQWqDNLJzac"
      }
    },
    {
      "cell_type": "code",
      "source": [
        "# visualizando as categorias de cada atributo\n",
        "print(raw_data['Sector'].unique())\n",
        "print(raw_data['Beat'].unique())\n"
      ],
      "metadata": {
        "colab": {
          "base_uri": "https://localhost:8080/"
        },
        "id": "HqiBOT8bF_yz",
        "outputId": "503f1992-4df7-40ea-da6a-cc771e548c0f"
      },
      "execution_count": null,
      "outputs": [
        {
          "output_type": "stream",
          "name": "stdout",
          "text": [
            "['CHARLIE' 'GEORGE' 'KING' 'EDWARD' 'ROBERT' 'SAM' 'LINCOLN' 'UNION'\n",
            " 'DAVID' 'FRANK' 'JOHN' 'NORA' nan 'BOY' 'OCEAN' 'QUEEN' 'WILLIAM' 'MARY']\n",
            "['C2' 'G1' 'K3' 'E2' 'R1' 'K1' 'G3' 'C1' 'S1' 'L1' 'U2' 'L2' 'D3' 'F2'\n",
            " 'E1' 'D1' 'J3' 'C3' 'N2' 'XX' 'R3' 'F1' 'N3' 'J1' 'U3' 'L3' 'B1' 'O3'\n",
            " 'S2' 'S3' 'R2' 'Q2' 'K2' 'D2' 'W3' 'N1' 'B3' 'F3' 'M3' 'M2' 'G2' 'U1'\n",
            " 'B2' 'Q1' 'M1' 'E3' 'Q3' 'O1' 'J2' 'W2' 'W1' 'O2' '99' '-' '0']\n"
          ]
        }
      ]
    },
    {
      "cell_type": "markdown",
      "source": [
        "Podemos obsevar as categorias '*XX*', '*99*', '*-*' e '*0*' na variável *Beat*. Possivelmente elas não tem associações com nenhum setor e estão gerando os dados faltantes. Para confirmar essa suposição, vamos calcular a quantidade de amostras para estas categorias."
      ],
      "metadata": {
        "id": "qKvEnsgiH8kU"
      }
    },
    {
      "cell_type": "code",
      "source": [
        "def count_feature_nan(data, value):\n",
        "  count = 0\n",
        "  for i in data:\n",
        "    if i == value:\n",
        "      count += 1\n",
        "  return count\n",
        "\n",
        "qtd_XX = count_feature_nan(raw_data['Beat'], 'XX')\n",
        "qtd_hifen = count_feature_nan(raw_data['Beat'], '-')\n",
        "qtd_99 = count_feature_nan(raw_data['Beat'], '99')\n",
        "qtd_0 = count_feature_nan(raw_data['Beat'], '0')\n",
        "\n",
        "print('Quantidade de valores ausentes da categorias XX, -, 99, 0:')\n",
        "print(f'XX: {qtd_XX}\\n-: {qtd_hifen}\\n99: {qtd_99}\\n0: {qtd_0}\\n')\n",
        "\n",
        "total = qtd_XX + qtd_hifen + qtd_99 + qtd_0\n",
        "print(f'Total: {total}')\n",
        "print(f'Percentual: {total/len(raw_data):.3f}')\n"
      ],
      "metadata": {
        "colab": {
          "base_uri": "https://localhost:8080/"
        },
        "id": "I2mrj6GPHIeN",
        "outputId": "bec7dfc6-d6f3-49e3-aef1-b29f076aabf8"
      },
      "execution_count": null,
      "outputs": [
        {
          "output_type": "stream",
          "name": "stdout",
          "text": [
            "Quantidade de valores ausentes da categorias XX, -, 99, 0:\n",
            "XX: 345\n",
            "-: 557\n",
            "99: 36\n",
            "0: 13\n",
            "\n",
            "Total: 951\n",
            "Percentual: 0.067\n"
          ]
        }
      ]
    },
    {
      "cell_type": "markdown",
      "source": [
        "Assim, vemos que todos os valores ausentes da classe Sector, se devem ao fato de *XX*, *-*, *99* e *0* não estarem relacionadas a nenhum *Sector*, assim, é seguro optar pela exclusão dos dados faltantes, visto que não afetam as informações principais dos dados."
      ],
      "metadata": {
        "id": "0etE56LaZErN"
      }
    },
    {
      "cell_type": "code",
      "source": [
        "raw_data = raw_data.dropna()\n",
        "raw_data.shape"
      ],
      "metadata": {
        "colab": {
          "base_uri": "https://localhost:8080/"
        },
        "id": "ZEvBFrgzbo9C",
        "outputId": "6e2c4444-7647-492a-a88d-783cfc37cc64"
      },
      "execution_count": null,
      "outputs": [
        {
          "output_type": "execute_result",
          "data": {
            "text/plain": [
              "(13313, 11)"
            ]
          },
          "metadata": {},
          "execution_count": 8
        }
      ]
    },
    {
      "cell_type": "markdown",
      "source": [
        "**Modificando tipagem da variável *Occured_date_time***"
      ],
      "metadata": {
        "id": "vAmardvdQfuX"
      }
    },
    {
      "cell_type": "code",
      "source": [
        "date_list = []\n",
        "for d in raw_data['Occured_date_time']:\n",
        "  date_obj = datetime.strptime(d, '%m/%d/%Y %I:%M:%S %p')\n",
        "  date_list.append(date_obj)\n",
        "\n",
        "raw_data['Occured_date_time'] = date_list\n",
        "raw_data.sample()\n"
      ],
      "metadata": {
        "colab": {
          "base_uri": "https://localhost:8080/",
          "height": 197
        },
        "id": "tp04LLrPn5vH",
        "outputId": "593c671a-a06a-4012-ceea-2e60069192ec"
      },
      "execution_count": null,
      "outputs": [
        {
          "output_type": "execute_result",
          "data": {
            "text/plain": [
              "                           ID  Incident_Num           Incident_Type  \\\n",
              "9516  2019UOF-0151-1975-18093         39742  Level 2 - Use of Force   \n",
              "\n",
              "       Occured_date_time Precinct Sector Beat  Officer_ID  Subject_ID  \\\n",
              "9516 2019-01-11 10:22:00     West   MARY   M3        1878       18979   \n",
              "\n",
              "       Subject_Race Subject_Gender  \n",
              "9516  Not Specified         Female  "
            ],
            "text/html": [
              "\n",
              "  <div id=\"df-49163cf1-05a5-4a60-b264-6564f51aa9fb\">\n",
              "    <div class=\"colab-df-container\">\n",
              "      <div>\n",
              "<style scoped>\n",
              "    .dataframe tbody tr th:only-of-type {\n",
              "        vertical-align: middle;\n",
              "    }\n",
              "\n",
              "    .dataframe tbody tr th {\n",
              "        vertical-align: top;\n",
              "    }\n",
              "\n",
              "    .dataframe thead th {\n",
              "        text-align: right;\n",
              "    }\n",
              "</style>\n",
              "<table border=\"1\" class=\"dataframe\">\n",
              "  <thead>\n",
              "    <tr style=\"text-align: right;\">\n",
              "      <th></th>\n",
              "      <th>ID</th>\n",
              "      <th>Incident_Num</th>\n",
              "      <th>Incident_Type</th>\n",
              "      <th>Occured_date_time</th>\n",
              "      <th>Precinct</th>\n",
              "      <th>Sector</th>\n",
              "      <th>Beat</th>\n",
              "      <th>Officer_ID</th>\n",
              "      <th>Subject_ID</th>\n",
              "      <th>Subject_Race</th>\n",
              "      <th>Subject_Gender</th>\n",
              "    </tr>\n",
              "  </thead>\n",
              "  <tbody>\n",
              "    <tr>\n",
              "      <th>9516</th>\n",
              "      <td>2019UOF-0151-1975-18093</td>\n",
              "      <td>39742</td>\n",
              "      <td>Level 2 - Use of Force</td>\n",
              "      <td>2019-01-11 10:22:00</td>\n",
              "      <td>West</td>\n",
              "      <td>MARY</td>\n",
              "      <td>M3</td>\n",
              "      <td>1878</td>\n",
              "      <td>18979</td>\n",
              "      <td>Not Specified</td>\n",
              "      <td>Female</td>\n",
              "    </tr>\n",
              "  </tbody>\n",
              "</table>\n",
              "</div>\n",
              "      <button class=\"colab-df-convert\" onclick=\"convertToInteractive('df-49163cf1-05a5-4a60-b264-6564f51aa9fb')\"\n",
              "              title=\"Convert this dataframe to an interactive table.\"\n",
              "              style=\"display:none;\">\n",
              "        \n",
              "  <svg xmlns=\"http://www.w3.org/2000/svg\" height=\"24px\"viewBox=\"0 0 24 24\"\n",
              "       width=\"24px\">\n",
              "    <path d=\"M0 0h24v24H0V0z\" fill=\"none\"/>\n",
              "    <path d=\"M18.56 5.44l.94 2.06.94-2.06 2.06-.94-2.06-.94-.94-2.06-.94 2.06-2.06.94zm-11 1L8.5 8.5l.94-2.06 2.06-.94-2.06-.94L8.5 2.5l-.94 2.06-2.06.94zm10 10l.94 2.06.94-2.06 2.06-.94-2.06-.94-.94-2.06-.94 2.06-2.06.94z\"/><path d=\"M17.41 7.96l-1.37-1.37c-.4-.4-.92-.59-1.43-.59-.52 0-1.04.2-1.43.59L10.3 9.45l-7.72 7.72c-.78.78-.78 2.05 0 2.83L4 21.41c.39.39.9.59 1.41.59.51 0 1.02-.2 1.41-.59l7.78-7.78 2.81-2.81c.8-.78.8-2.07 0-2.86zM5.41 20L4 18.59l7.72-7.72 1.47 1.35L5.41 20z\"/>\n",
              "  </svg>\n",
              "      </button>\n",
              "      \n",
              "  <style>\n",
              "    .colab-df-container {\n",
              "      display:flex;\n",
              "      flex-wrap:wrap;\n",
              "      gap: 12px;\n",
              "    }\n",
              "\n",
              "    .colab-df-convert {\n",
              "      background-color: #E8F0FE;\n",
              "      border: none;\n",
              "      border-radius: 50%;\n",
              "      cursor: pointer;\n",
              "      display: none;\n",
              "      fill: #1967D2;\n",
              "      height: 32px;\n",
              "      padding: 0 0 0 0;\n",
              "      width: 32px;\n",
              "    }\n",
              "\n",
              "    .colab-df-convert:hover {\n",
              "      background-color: #E2EBFA;\n",
              "      box-shadow: 0px 1px 2px rgba(60, 64, 67, 0.3), 0px 1px 3px 1px rgba(60, 64, 67, 0.15);\n",
              "      fill: #174EA6;\n",
              "    }\n",
              "\n",
              "    [theme=dark] .colab-df-convert {\n",
              "      background-color: #3B4455;\n",
              "      fill: #D2E3FC;\n",
              "    }\n",
              "\n",
              "    [theme=dark] .colab-df-convert:hover {\n",
              "      background-color: #434B5C;\n",
              "      box-shadow: 0px 1px 3px 1px rgba(0, 0, 0, 0.15);\n",
              "      filter: drop-shadow(0px 1px 2px rgba(0, 0, 0, 0.3));\n",
              "      fill: #FFFFFF;\n",
              "    }\n",
              "  </style>\n",
              "\n",
              "      <script>\n",
              "        const buttonEl =\n",
              "          document.querySelector('#df-49163cf1-05a5-4a60-b264-6564f51aa9fb button.colab-df-convert');\n",
              "        buttonEl.style.display =\n",
              "          google.colab.kernel.accessAllowed ? 'block' : 'none';\n",
              "\n",
              "        async function convertToInteractive(key) {\n",
              "          const element = document.querySelector('#df-49163cf1-05a5-4a60-b264-6564f51aa9fb');\n",
              "          const dataTable =\n",
              "            await google.colab.kernel.invokeFunction('convertToInteractive',\n",
              "                                                     [key], {});\n",
              "          if (!dataTable) return;\n",
              "\n",
              "          const docLinkHtml = 'Like what you see? Visit the ' +\n",
              "            '<a target=\"_blank\" href=https://colab.research.google.com/notebooks/data_table.ipynb>data table notebook</a>'\n",
              "            + ' to learn more about interactive tables.';\n",
              "          element.innerHTML = '';\n",
              "          dataTable['output_type'] = 'display_data';\n",
              "          await google.colab.output.renderOutput(dataTable, element);\n",
              "          const docLink = document.createElement('div');\n",
              "          docLink.innerHTML = docLinkHtml;\n",
              "          element.appendChild(docLink);\n",
              "        }\n",
              "      </script>\n",
              "    </div>\n",
              "  </div>\n",
              "  "
            ]
          },
          "metadata": {},
          "execution_count": 9
        }
      ]
    },
    {
      "cell_type": "code",
      "source": [
        "raw_data.info()"
      ],
      "metadata": {
        "colab": {
          "base_uri": "https://localhost:8080/"
        },
        "id": "ekEFKe6L38io",
        "outputId": "0b11cd75-bc97-4bdc-ad3c-fe3ddff4427e"
      },
      "execution_count": null,
      "outputs": [
        {
          "output_type": "stream",
          "name": "stdout",
          "text": [
            "<class 'pandas.core.frame.DataFrame'>\n",
            "Int64Index: 13313 entries, 0 to 14005\n",
            "Data columns (total 11 columns):\n",
            " #   Column             Non-Null Count  Dtype         \n",
            "---  ------             --------------  -----         \n",
            " 0   ID                 13313 non-null  object        \n",
            " 1   Incident_Num       13313 non-null  int64         \n",
            " 2   Incident_Type      13313 non-null  object        \n",
            " 3   Occured_date_time  13313 non-null  datetime64[ns]\n",
            " 4   Precinct           13313 non-null  object        \n",
            " 5   Sector             13313 non-null  object        \n",
            " 6   Beat               13313 non-null  object        \n",
            " 7   Officer_ID         13313 non-null  int64         \n",
            " 8   Subject_ID         13313 non-null  int64         \n",
            " 9   Subject_Race       13313 non-null  object        \n",
            " 10  Subject_Gender     13313 non-null  object        \n",
            "dtypes: datetime64[ns](1), int64(3), object(7)\n",
            "memory usage: 1.2+ MB\n"
          ]
        }
      ]
    },
    {
      "cell_type": "markdown",
      "source": [
        "**Verificando existência de dados inconsistentes**"
      ],
      "metadata": {
        "id": "NwirF_218oQ9"
      }
    },
    {
      "cell_type": "markdown",
      "source": [
        "Aqui pesquisaremos por valores os quais estão incondizentes com a categoria ou outros valores"
      ],
      "metadata": {
        "id": "F3OSNNIEQ9_R"
      }
    },
    {
      "cell_type": "code",
      "source": [
        "raw_data.describe()"
      ],
      "metadata": {
        "colab": {
          "base_uri": "https://localhost:8080/",
          "height": 300
        },
        "id": "VWaHdrnGQ9Xu",
        "outputId": "1a25785a-b0f3-4d3f-9fc6-883352b529a5"
      },
      "execution_count": null,
      "outputs": [
        {
          "output_type": "execute_result",
          "data": {
            "text/plain": [
              "       Incident_Num    Officer_ID    Subject_ID\n",
              "count  13313.000000  13313.000000  13313.000000\n",
              "mean   27201.393901   1920.587246  12059.143394\n",
              "std    21695.794785   1113.773392   8148.961530\n",
              "min      178.000000      7.000000      4.000000\n",
              "25%     8149.000000   1262.000000   4561.000000\n",
              "50%    18587.000000   1743.000000  11804.000000\n",
              "75%    49793.000000   2153.000000  18658.000000\n",
              "max    67083.000000   5948.000000  28277.000000"
            ],
            "text/html": [
              "\n",
              "  <div id=\"df-a7245866-42bc-41ca-b811-1259d21fefee\">\n",
              "    <div class=\"colab-df-container\">\n",
              "      <div>\n",
              "<style scoped>\n",
              "    .dataframe tbody tr th:only-of-type {\n",
              "        vertical-align: middle;\n",
              "    }\n",
              "\n",
              "    .dataframe tbody tr th {\n",
              "        vertical-align: top;\n",
              "    }\n",
              "\n",
              "    .dataframe thead th {\n",
              "        text-align: right;\n",
              "    }\n",
              "</style>\n",
              "<table border=\"1\" class=\"dataframe\">\n",
              "  <thead>\n",
              "    <tr style=\"text-align: right;\">\n",
              "      <th></th>\n",
              "      <th>Incident_Num</th>\n",
              "      <th>Officer_ID</th>\n",
              "      <th>Subject_ID</th>\n",
              "    </tr>\n",
              "  </thead>\n",
              "  <tbody>\n",
              "    <tr>\n",
              "      <th>count</th>\n",
              "      <td>13313.000000</td>\n",
              "      <td>13313.000000</td>\n",
              "      <td>13313.000000</td>\n",
              "    </tr>\n",
              "    <tr>\n",
              "      <th>mean</th>\n",
              "      <td>27201.393901</td>\n",
              "      <td>1920.587246</td>\n",
              "      <td>12059.143394</td>\n",
              "    </tr>\n",
              "    <tr>\n",
              "      <th>std</th>\n",
              "      <td>21695.794785</td>\n",
              "      <td>1113.773392</td>\n",
              "      <td>8148.961530</td>\n",
              "    </tr>\n",
              "    <tr>\n",
              "      <th>min</th>\n",
              "      <td>178.000000</td>\n",
              "      <td>7.000000</td>\n",
              "      <td>4.000000</td>\n",
              "    </tr>\n",
              "    <tr>\n",
              "      <th>25%</th>\n",
              "      <td>8149.000000</td>\n",
              "      <td>1262.000000</td>\n",
              "      <td>4561.000000</td>\n",
              "    </tr>\n",
              "    <tr>\n",
              "      <th>50%</th>\n",
              "      <td>18587.000000</td>\n",
              "      <td>1743.000000</td>\n",
              "      <td>11804.000000</td>\n",
              "    </tr>\n",
              "    <tr>\n",
              "      <th>75%</th>\n",
              "      <td>49793.000000</td>\n",
              "      <td>2153.000000</td>\n",
              "      <td>18658.000000</td>\n",
              "    </tr>\n",
              "    <tr>\n",
              "      <th>max</th>\n",
              "      <td>67083.000000</td>\n",
              "      <td>5948.000000</td>\n",
              "      <td>28277.000000</td>\n",
              "    </tr>\n",
              "  </tbody>\n",
              "</table>\n",
              "</div>\n",
              "      <button class=\"colab-df-convert\" onclick=\"convertToInteractive('df-a7245866-42bc-41ca-b811-1259d21fefee')\"\n",
              "              title=\"Convert this dataframe to an interactive table.\"\n",
              "              style=\"display:none;\">\n",
              "        \n",
              "  <svg xmlns=\"http://www.w3.org/2000/svg\" height=\"24px\"viewBox=\"0 0 24 24\"\n",
              "       width=\"24px\">\n",
              "    <path d=\"M0 0h24v24H0V0z\" fill=\"none\"/>\n",
              "    <path d=\"M18.56 5.44l.94 2.06.94-2.06 2.06-.94-2.06-.94-.94-2.06-.94 2.06-2.06.94zm-11 1L8.5 8.5l.94-2.06 2.06-.94-2.06-.94L8.5 2.5l-.94 2.06-2.06.94zm10 10l.94 2.06.94-2.06 2.06-.94-2.06-.94-.94-2.06-.94 2.06-2.06.94z\"/><path d=\"M17.41 7.96l-1.37-1.37c-.4-.4-.92-.59-1.43-.59-.52 0-1.04.2-1.43.59L10.3 9.45l-7.72 7.72c-.78.78-.78 2.05 0 2.83L4 21.41c.39.39.9.59 1.41.59.51 0 1.02-.2 1.41-.59l7.78-7.78 2.81-2.81c.8-.78.8-2.07 0-2.86zM5.41 20L4 18.59l7.72-7.72 1.47 1.35L5.41 20z\"/>\n",
              "  </svg>\n",
              "      </button>\n",
              "      \n",
              "  <style>\n",
              "    .colab-df-container {\n",
              "      display:flex;\n",
              "      flex-wrap:wrap;\n",
              "      gap: 12px;\n",
              "    }\n",
              "\n",
              "    .colab-df-convert {\n",
              "      background-color: #E8F0FE;\n",
              "      border: none;\n",
              "      border-radius: 50%;\n",
              "      cursor: pointer;\n",
              "      display: none;\n",
              "      fill: #1967D2;\n",
              "      height: 32px;\n",
              "      padding: 0 0 0 0;\n",
              "      width: 32px;\n",
              "    }\n",
              "\n",
              "    .colab-df-convert:hover {\n",
              "      background-color: #E2EBFA;\n",
              "      box-shadow: 0px 1px 2px rgba(60, 64, 67, 0.3), 0px 1px 3px 1px rgba(60, 64, 67, 0.15);\n",
              "      fill: #174EA6;\n",
              "    }\n",
              "\n",
              "    [theme=dark] .colab-df-convert {\n",
              "      background-color: #3B4455;\n",
              "      fill: #D2E3FC;\n",
              "    }\n",
              "\n",
              "    [theme=dark] .colab-df-convert:hover {\n",
              "      background-color: #434B5C;\n",
              "      box-shadow: 0px 1px 3px 1px rgba(0, 0, 0, 0.15);\n",
              "      filter: drop-shadow(0px 1px 2px rgba(0, 0, 0, 0.3));\n",
              "      fill: #FFFFFF;\n",
              "    }\n",
              "  </style>\n",
              "\n",
              "      <script>\n",
              "        const buttonEl =\n",
              "          document.querySelector('#df-a7245866-42bc-41ca-b811-1259d21fefee button.colab-df-convert');\n",
              "        buttonEl.style.display =\n",
              "          google.colab.kernel.accessAllowed ? 'block' : 'none';\n",
              "\n",
              "        async function convertToInteractive(key) {\n",
              "          const element = document.querySelector('#df-a7245866-42bc-41ca-b811-1259d21fefee');\n",
              "          const dataTable =\n",
              "            await google.colab.kernel.invokeFunction('convertToInteractive',\n",
              "                                                     [key], {});\n",
              "          if (!dataTable) return;\n",
              "\n",
              "          const docLinkHtml = 'Like what you see? Visit the ' +\n",
              "            '<a target=\"_blank\" href=https://colab.research.google.com/notebooks/data_table.ipynb>data table notebook</a>'\n",
              "            + ' to learn more about interactive tables.';\n",
              "          element.innerHTML = '';\n",
              "          dataTable['output_type'] = 'display_data';\n",
              "          await google.colab.output.renderOutput(dataTable, element);\n",
              "          const docLink = document.createElement('div');\n",
              "          docLink.innerHTML = docLinkHtml;\n",
              "          element.appendChild(docLink);\n",
              "        }\n",
              "      </script>\n",
              "    </div>\n",
              "  </div>\n",
              "  "
            ]
          },
          "metadata": {},
          "execution_count": 11
        }
      ]
    },
    {
      "cell_type": "markdown",
      "source": [
        "Não há inconsistência nos atributos numéricos, Vamos ver se há inconsintência nos atributos categóricos:"
      ],
      "metadata": {
        "id": "nDAv2P9uR3i7"
      }
    },
    {
      "cell_type": "code",
      "source": [
        "cat_list = ['Incident_Type', 'Precinct', 'Sector', 'Beat',\n",
        "            'Subject_Race', 'Subject_Gender'] \n",
        "\n",
        "for feature in cat_list:\n",
        "  print(f'Feature: {feature}\\nCategories: {raw_data[feature].unique()}\\n')"
      ],
      "metadata": {
        "colab": {
          "base_uri": "https://localhost:8080/"
        },
        "id": "wTGQ0sFcSJxV",
        "outputId": "fd177194-b544-4d50-c5e6-f9cc8c13f9b2"
      },
      "execution_count": null,
      "outputs": [
        {
          "output_type": "stream",
          "name": "stdout",
          "text": [
            "Feature: Incident_Type\n",
            "Categories: ['Level 1 - Use of Force' 'Level 2 - Use of Force'\n",
            " 'Level 3 - Use of Force' 'Level 3 - OIS']\n",
            "\n",
            "Feature: Precinct\n",
            "Categories: ['East' 'West' 'South' 'North' 'Southwest']\n",
            "\n",
            "Feature: Sector\n",
            "Categories: ['CHARLIE' 'GEORGE' 'KING' 'EDWARD' 'ROBERT' 'SAM' 'LINCOLN' 'UNION'\n",
            " 'DAVID' 'FRANK' 'JOHN' 'NORA' 'BOY' 'OCEAN' 'QUEEN' 'WILLIAM' 'MARY']\n",
            "\n",
            "Feature: Beat\n",
            "Categories: ['C2' 'G1' 'K3' 'E2' 'R1' 'K1' 'G3' 'C1' 'S1' 'L1' 'U2' 'L2' 'D3' 'F2'\n",
            " 'E1' 'D1' 'J3' 'C3' 'N2' 'R3' 'F1' 'N3' 'J1' 'U3' 'L3' 'B1' 'O3' 'S2'\n",
            " 'S3' 'R2' 'Q2' 'K2' 'D2' 'W3' 'N1' 'B3' 'F3' 'M3' 'M2' 'G2' 'U1' 'B2'\n",
            " 'Q1' 'M1' 'E3' 'Q3' 'O1' 'J2' 'W2' 'W1' 'O2']\n",
            "\n",
            "Feature: Subject_Race\n",
            "Categories: ['Black or African American' 'White' 'Asian' 'Not Specified'\n",
            " 'American Indian/Alaska Native' 'Hispanic or Latino'\n",
            " 'Nat Hawaiian/Oth Pac Islander' 'Two or More Races']\n",
            "\n",
            "Feature: Subject_Gender\n",
            "Categories: ['Male' 'Female' 'Unknown' '-' 'Other' 'Transgender Male'\n",
            " 'Transgender Female' 'Non-binary']\n",
            "\n"
          ]
        }
      ]
    },
    {
      "cell_type": "code",
      "source": [
        "raw_data['Subject_Gender'].value_counts()"
      ],
      "metadata": {
        "colab": {
          "base_uri": "https://localhost:8080/"
        },
        "id": "LgBlLatrZH9Z",
        "outputId": "88ad45f3-ab29-40f3-9b51-8616761d4e19"
      },
      "execution_count": null,
      "outputs": [
        {
          "output_type": "execute_result",
          "data": {
            "text/plain": [
              "Male                  9911\n",
              "Female                2859\n",
              "Unknown                433\n",
              "-                       63\n",
              "Other                   21\n",
              "Transgender Female      17\n",
              "Non-binary               5\n",
              "Transgender Male         4\n",
              "Name: Subject_Gender, dtype: int64"
            ]
          },
          "metadata": {},
          "execution_count": 13
        }
      ]
    },
    {
      "cell_type": "markdown",
      "source": [
        "Em *Subject_Gender*, encontramos a categoria \"*-*\" a qual não é algo informativo para a variável. Porém, dentre as diversas categorias, podemos ver que é possível dividí-la no aspecto Cisgênero e LGBTQIA+ de identidade de gênero. Logo, as categorias que derivam de pessoas da esfera LGBTQIA+ serão enquadradas em \"Other\", pois, além das várias subcategorias, estão em menor número e desbalanceiam a distribuição das amostras de gêneros."
      ],
      "metadata": {
        "id": "vaiMox06YZnQ"
      }
    },
    {
      "cell_type": "code",
      "source": [
        "lgbtqia_cats = ['Unknown', '-', 'Transgender Female', 'Non-binary', 'Transgender Male']\n",
        "\n",
        "for i in range(len(lgbtqia_cats)):\n",
        "  raw_data.loc[raw_data['Subject_Gender'] == lgbtqia_cats[i], 'Subject_Gender'] = 'Other'\n",
        "\n",
        "print(raw_data['Subject_Gender'].unique())\n",
        "print(raw_data['Subject_Gender'].value_counts())"
      ],
      "metadata": {
        "colab": {
          "base_uri": "https://localhost:8080/"
        },
        "id": "nqzTjoXwejRi",
        "outputId": "ccbdad4e-ea49-4612-e403-13c7445bfa5c"
      },
      "execution_count": null,
      "outputs": [
        {
          "output_type": "stream",
          "name": "stdout",
          "text": [
            "['Male' 'Female' 'Other']\n",
            "Male      9911\n",
            "Female    2859\n",
            "Other      543\n",
            "Name: Subject_Gender, dtype: int64\n"
          ]
        }
      ]
    },
    {
      "cell_type": "markdown",
      "source": [
        "Avaliando a variável *Subject_Race*"
      ],
      "metadata": {
        "id": "tq_uoLMibAFC"
      }
    },
    {
      "cell_type": "code",
      "source": [
        "raw_data['Subject_Race'].value_counts()"
      ],
      "metadata": {
        "colab": {
          "base_uri": "https://localhost:8080/"
        },
        "id": "14_9fReBbNfw",
        "outputId": "045f309c-0f61-43fa-b1fe-171f356ccde5"
      },
      "execution_count": null,
      "outputs": [
        {
          "output_type": "execute_result",
          "data": {
            "text/plain": [
              "White                            5451\n",
              "Black or African American        4412\n",
              "Not Specified                    2107\n",
              "Hispanic or Latino                541\n",
              "Asian                             450\n",
              "American Indian/Alaska Native     198\n",
              "Nat Hawaiian/Oth Pac Islander     114\n",
              "Two or More Races                  40\n",
              "Name: Subject_Race, dtype: int64"
            ]
          },
          "metadata": {},
          "execution_count": 15
        }
      ]
    },
    {
      "cell_type": "markdown",
      "source": [
        "Tudo OK"
      ],
      "metadata": {
        "id": "qCdeBmYGcbHP"
      }
    },
    {
      "cell_type": "markdown",
      "source": [
        "**Excluindo atributos que não agregam informação**"
      ],
      "metadata": {
        "id": "R0RxX4aH4cYM"
      }
    },
    {
      "cell_type": "code",
      "source": [
        "drop = ['ID', 'Officer_ID']\n",
        "raw_data = raw_data.drop(drop, axis=1)\n",
        "raw_data.head(3)"
      ],
      "metadata": {
        "colab": {
          "base_uri": "https://localhost:8080/",
          "height": 240
        },
        "id": "BlMA7pxE486W",
        "outputId": "64b53920-92ba-42f2-94f6-fb76ebf53fb3"
      },
      "execution_count": null,
      "outputs": [
        {
          "output_type": "execute_result",
          "data": {
            "text/plain": [
              "   Incident_Num           Incident_Type   Occured_date_time Precinct   Sector  \\\n",
              "0           251  Level 1 - Use of Force 2014-06-07 00:09:00     East  CHARLIE   \n",
              "1           218  Level 1 - Use of Force 2014-05-30 14:06:00     East   GEORGE   \n",
              "2           178  Level 1 - Use of Force 2014-05-23 17:24:00     West     KING   \n",
              "\n",
              "  Beat  Subject_ID               Subject_Race Subject_Gender  \n",
              "0   C2         203  Black or African American           Male  \n",
              "1   G1         166                      White           Male  \n",
              "2   K3         125                      Asian         Female  "
            ],
            "text/html": [
              "\n",
              "  <div id=\"df-f1475eaa-988c-46fd-bcfa-aaeb76846c7e\">\n",
              "    <div class=\"colab-df-container\">\n",
              "      <div>\n",
              "<style scoped>\n",
              "    .dataframe tbody tr th:only-of-type {\n",
              "        vertical-align: middle;\n",
              "    }\n",
              "\n",
              "    .dataframe tbody tr th {\n",
              "        vertical-align: top;\n",
              "    }\n",
              "\n",
              "    .dataframe thead th {\n",
              "        text-align: right;\n",
              "    }\n",
              "</style>\n",
              "<table border=\"1\" class=\"dataframe\">\n",
              "  <thead>\n",
              "    <tr style=\"text-align: right;\">\n",
              "      <th></th>\n",
              "      <th>Incident_Num</th>\n",
              "      <th>Incident_Type</th>\n",
              "      <th>Occured_date_time</th>\n",
              "      <th>Precinct</th>\n",
              "      <th>Sector</th>\n",
              "      <th>Beat</th>\n",
              "      <th>Subject_ID</th>\n",
              "      <th>Subject_Race</th>\n",
              "      <th>Subject_Gender</th>\n",
              "    </tr>\n",
              "  </thead>\n",
              "  <tbody>\n",
              "    <tr>\n",
              "      <th>0</th>\n",
              "      <td>251</td>\n",
              "      <td>Level 1 - Use of Force</td>\n",
              "      <td>2014-06-07 00:09:00</td>\n",
              "      <td>East</td>\n",
              "      <td>CHARLIE</td>\n",
              "      <td>C2</td>\n",
              "      <td>203</td>\n",
              "      <td>Black or African American</td>\n",
              "      <td>Male</td>\n",
              "    </tr>\n",
              "    <tr>\n",
              "      <th>1</th>\n",
              "      <td>218</td>\n",
              "      <td>Level 1 - Use of Force</td>\n",
              "      <td>2014-05-30 14:06:00</td>\n",
              "      <td>East</td>\n",
              "      <td>GEORGE</td>\n",
              "      <td>G1</td>\n",
              "      <td>166</td>\n",
              "      <td>White</td>\n",
              "      <td>Male</td>\n",
              "    </tr>\n",
              "    <tr>\n",
              "      <th>2</th>\n",
              "      <td>178</td>\n",
              "      <td>Level 1 - Use of Force</td>\n",
              "      <td>2014-05-23 17:24:00</td>\n",
              "      <td>West</td>\n",
              "      <td>KING</td>\n",
              "      <td>K3</td>\n",
              "      <td>125</td>\n",
              "      <td>Asian</td>\n",
              "      <td>Female</td>\n",
              "    </tr>\n",
              "  </tbody>\n",
              "</table>\n",
              "</div>\n",
              "      <button class=\"colab-df-convert\" onclick=\"convertToInteractive('df-f1475eaa-988c-46fd-bcfa-aaeb76846c7e')\"\n",
              "              title=\"Convert this dataframe to an interactive table.\"\n",
              "              style=\"display:none;\">\n",
              "        \n",
              "  <svg xmlns=\"http://www.w3.org/2000/svg\" height=\"24px\"viewBox=\"0 0 24 24\"\n",
              "       width=\"24px\">\n",
              "    <path d=\"M0 0h24v24H0V0z\" fill=\"none\"/>\n",
              "    <path d=\"M18.56 5.44l.94 2.06.94-2.06 2.06-.94-2.06-.94-.94-2.06-.94 2.06-2.06.94zm-11 1L8.5 8.5l.94-2.06 2.06-.94-2.06-.94L8.5 2.5l-.94 2.06-2.06.94zm10 10l.94 2.06.94-2.06 2.06-.94-2.06-.94-.94-2.06-.94 2.06-2.06.94z\"/><path d=\"M17.41 7.96l-1.37-1.37c-.4-.4-.92-.59-1.43-.59-.52 0-1.04.2-1.43.59L10.3 9.45l-7.72 7.72c-.78.78-.78 2.05 0 2.83L4 21.41c.39.39.9.59 1.41.59.51 0 1.02-.2 1.41-.59l7.78-7.78 2.81-2.81c.8-.78.8-2.07 0-2.86zM5.41 20L4 18.59l7.72-7.72 1.47 1.35L5.41 20z\"/>\n",
              "  </svg>\n",
              "      </button>\n",
              "      \n",
              "  <style>\n",
              "    .colab-df-container {\n",
              "      display:flex;\n",
              "      flex-wrap:wrap;\n",
              "      gap: 12px;\n",
              "    }\n",
              "\n",
              "    .colab-df-convert {\n",
              "      background-color: #E8F0FE;\n",
              "      border: none;\n",
              "      border-radius: 50%;\n",
              "      cursor: pointer;\n",
              "      display: none;\n",
              "      fill: #1967D2;\n",
              "      height: 32px;\n",
              "      padding: 0 0 0 0;\n",
              "      width: 32px;\n",
              "    }\n",
              "\n",
              "    .colab-df-convert:hover {\n",
              "      background-color: #E2EBFA;\n",
              "      box-shadow: 0px 1px 2px rgba(60, 64, 67, 0.3), 0px 1px 3px 1px rgba(60, 64, 67, 0.15);\n",
              "      fill: #174EA6;\n",
              "    }\n",
              "\n",
              "    [theme=dark] .colab-df-convert {\n",
              "      background-color: #3B4455;\n",
              "      fill: #D2E3FC;\n",
              "    }\n",
              "\n",
              "    [theme=dark] .colab-df-convert:hover {\n",
              "      background-color: #434B5C;\n",
              "      box-shadow: 0px 1px 3px 1px rgba(0, 0, 0, 0.15);\n",
              "      filter: drop-shadow(0px 1px 2px rgba(0, 0, 0, 0.3));\n",
              "      fill: #FFFFFF;\n",
              "    }\n",
              "  </style>\n",
              "\n",
              "      <script>\n",
              "        const buttonEl =\n",
              "          document.querySelector('#df-f1475eaa-988c-46fd-bcfa-aaeb76846c7e button.colab-df-convert');\n",
              "        buttonEl.style.display =\n",
              "          google.colab.kernel.accessAllowed ? 'block' : 'none';\n",
              "\n",
              "        async function convertToInteractive(key) {\n",
              "          const element = document.querySelector('#df-f1475eaa-988c-46fd-bcfa-aaeb76846c7e');\n",
              "          const dataTable =\n",
              "            await google.colab.kernel.invokeFunction('convertToInteractive',\n",
              "                                                     [key], {});\n",
              "          if (!dataTable) return;\n",
              "\n",
              "          const docLinkHtml = 'Like what you see? Visit the ' +\n",
              "            '<a target=\"_blank\" href=https://colab.research.google.com/notebooks/data_table.ipynb>data table notebook</a>'\n",
              "            + ' to learn more about interactive tables.';\n",
              "          element.innerHTML = '';\n",
              "          dataTable['output_type'] = 'display_data';\n",
              "          await google.colab.output.renderOutput(dataTable, element);\n",
              "          const docLink = document.createElement('div');\n",
              "          docLink.innerHTML = docLinkHtml;\n",
              "          element.appendChild(docLink);\n",
              "        }\n",
              "      </script>\n",
              "    </div>\n",
              "  </div>\n",
              "  "
            ]
          },
          "metadata": {},
          "execution_count": 16
        }
      ]
    },
    {
      "cell_type": "markdown",
      "source": [
        "## Análise de dados"
      ],
      "metadata": {
        "id": "199gTDwKmiNC"
      }
    },
    {
      "cell_type": "markdown",
      "source": [
        "#### 1️⃣ Com relação à distribuição dos incidentes no tempo, é possível encontrar picos ou linhas de tendência dentro dos dias, meses, semanas ou dos anos?"
      ],
      "metadata": {
        "id": "rtGN-PUwieFX"
      }
    },
    {
      "cell_type": "markdown",
      "source": [
        "Para responder essa questão é necessário podemos minerar a variável relativa ao tempo em que ocorreu as incidências.\n",
        "\n",
        "A partir do atributo *Occured_date_time* podemos obter as variáveis:\n",
        "\n",
        "   *  Year: Ano em que ocorreu a incidência\n",
        "   *  Month: Mês em que ocorreu a incidência\n",
        "   *  Day: Dia da semana em que ocorreu a incidência\n",
        "   *  Hour: Horário em que ocorreu a incidência"
      ],
      "metadata": {
        "id": "P3H1szYdkPlQ"
      }
    },
    {
      "cell_type": "code",
      "source": [
        "# Formando o dataset de incidentes no tempo\n",
        "incidents_data = raw_data[['Occured_date_time', 'Incident_Type']]\n",
        "#incidents_data.head()"
      ],
      "metadata": {
        "id": "g5g0HfQRkIjj"
      },
      "execution_count": null,
      "outputs": []
    },
    {
      "cell_type": "code",
      "source": [
        "incidents_data['Day'] = raw_data['Occured_date_time'].dt.day_name()\n",
        "incidents_data['Month'] = raw_data['Occured_date_time'].dt.month_name()\n",
        "\n",
        "incidents_data['Year'] = raw_data['Occured_date_time'].dt.year\n",
        "incidents_data['Hour'] = raw_data['Occured_date_time'].dt.hour\n",
        "\n",
        "incidents_data = incidents_data.drop(['Occured_date_time'], axis=1)\n",
        "incidents_data.head()"
      ],
      "metadata": {
        "colab": {
          "base_uri": "https://localhost:8080/",
          "height": 206
        },
        "id": "Xq8iWg9dUlqs",
        "outputId": "c0190a81-9309-47e7-a6c2-bb568326651a"
      },
      "execution_count": null,
      "outputs": [
        {
          "output_type": "execute_result",
          "data": {
            "text/plain": [
              "            Incident_Type       Day Month  Year  Hour\n",
              "0  Level 1 - Use of Force  Saturday  June  2014     0\n",
              "1  Level 1 - Use of Force    Friday   May  2014    14\n",
              "2  Level 1 - Use of Force    Friday   May  2014    17\n",
              "3  Level 1 - Use of Force    Monday   May  2014     0\n",
              "4  Level 1 - Use of Force    Sunday  June  2014    16"
            ],
            "text/html": [
              "\n",
              "  <div id=\"df-546f48d9-bd89-4a3a-b11f-8cbb85cba7f5\">\n",
              "    <div class=\"colab-df-container\">\n",
              "      <div>\n",
              "<style scoped>\n",
              "    .dataframe tbody tr th:only-of-type {\n",
              "        vertical-align: middle;\n",
              "    }\n",
              "\n",
              "    .dataframe tbody tr th {\n",
              "        vertical-align: top;\n",
              "    }\n",
              "\n",
              "    .dataframe thead th {\n",
              "        text-align: right;\n",
              "    }\n",
              "</style>\n",
              "<table border=\"1\" class=\"dataframe\">\n",
              "  <thead>\n",
              "    <tr style=\"text-align: right;\">\n",
              "      <th></th>\n",
              "      <th>Incident_Type</th>\n",
              "      <th>Day</th>\n",
              "      <th>Month</th>\n",
              "      <th>Year</th>\n",
              "      <th>Hour</th>\n",
              "    </tr>\n",
              "  </thead>\n",
              "  <tbody>\n",
              "    <tr>\n",
              "      <th>0</th>\n",
              "      <td>Level 1 - Use of Force</td>\n",
              "      <td>Saturday</td>\n",
              "      <td>June</td>\n",
              "      <td>2014</td>\n",
              "      <td>0</td>\n",
              "    </tr>\n",
              "    <tr>\n",
              "      <th>1</th>\n",
              "      <td>Level 1 - Use of Force</td>\n",
              "      <td>Friday</td>\n",
              "      <td>May</td>\n",
              "      <td>2014</td>\n",
              "      <td>14</td>\n",
              "    </tr>\n",
              "    <tr>\n",
              "      <th>2</th>\n",
              "      <td>Level 1 - Use of Force</td>\n",
              "      <td>Friday</td>\n",
              "      <td>May</td>\n",
              "      <td>2014</td>\n",
              "      <td>17</td>\n",
              "    </tr>\n",
              "    <tr>\n",
              "      <th>3</th>\n",
              "      <td>Level 1 - Use of Force</td>\n",
              "      <td>Monday</td>\n",
              "      <td>May</td>\n",
              "      <td>2014</td>\n",
              "      <td>0</td>\n",
              "    </tr>\n",
              "    <tr>\n",
              "      <th>4</th>\n",
              "      <td>Level 1 - Use of Force</td>\n",
              "      <td>Sunday</td>\n",
              "      <td>June</td>\n",
              "      <td>2014</td>\n",
              "      <td>16</td>\n",
              "    </tr>\n",
              "  </tbody>\n",
              "</table>\n",
              "</div>\n",
              "      <button class=\"colab-df-convert\" onclick=\"convertToInteractive('df-546f48d9-bd89-4a3a-b11f-8cbb85cba7f5')\"\n",
              "              title=\"Convert this dataframe to an interactive table.\"\n",
              "              style=\"display:none;\">\n",
              "        \n",
              "  <svg xmlns=\"http://www.w3.org/2000/svg\" height=\"24px\"viewBox=\"0 0 24 24\"\n",
              "       width=\"24px\">\n",
              "    <path d=\"M0 0h24v24H0V0z\" fill=\"none\"/>\n",
              "    <path d=\"M18.56 5.44l.94 2.06.94-2.06 2.06-.94-2.06-.94-.94-2.06-.94 2.06-2.06.94zm-11 1L8.5 8.5l.94-2.06 2.06-.94-2.06-.94L8.5 2.5l-.94 2.06-2.06.94zm10 10l.94 2.06.94-2.06 2.06-.94-2.06-.94-.94-2.06-.94 2.06-2.06.94z\"/><path d=\"M17.41 7.96l-1.37-1.37c-.4-.4-.92-.59-1.43-.59-.52 0-1.04.2-1.43.59L10.3 9.45l-7.72 7.72c-.78.78-.78 2.05 0 2.83L4 21.41c.39.39.9.59 1.41.59.51 0 1.02-.2 1.41-.59l7.78-7.78 2.81-2.81c.8-.78.8-2.07 0-2.86zM5.41 20L4 18.59l7.72-7.72 1.47 1.35L5.41 20z\"/>\n",
              "  </svg>\n",
              "      </button>\n",
              "      \n",
              "  <style>\n",
              "    .colab-df-container {\n",
              "      display:flex;\n",
              "      flex-wrap:wrap;\n",
              "      gap: 12px;\n",
              "    }\n",
              "\n",
              "    .colab-df-convert {\n",
              "      background-color: #E8F0FE;\n",
              "      border: none;\n",
              "      border-radius: 50%;\n",
              "      cursor: pointer;\n",
              "      display: none;\n",
              "      fill: #1967D2;\n",
              "      height: 32px;\n",
              "      padding: 0 0 0 0;\n",
              "      width: 32px;\n",
              "    }\n",
              "\n",
              "    .colab-df-convert:hover {\n",
              "      background-color: #E2EBFA;\n",
              "      box-shadow: 0px 1px 2px rgba(60, 64, 67, 0.3), 0px 1px 3px 1px rgba(60, 64, 67, 0.15);\n",
              "      fill: #174EA6;\n",
              "    }\n",
              "\n",
              "    [theme=dark] .colab-df-convert {\n",
              "      background-color: #3B4455;\n",
              "      fill: #D2E3FC;\n",
              "    }\n",
              "\n",
              "    [theme=dark] .colab-df-convert:hover {\n",
              "      background-color: #434B5C;\n",
              "      box-shadow: 0px 1px 3px 1px rgba(0, 0, 0, 0.15);\n",
              "      filter: drop-shadow(0px 1px 2px rgba(0, 0, 0, 0.3));\n",
              "      fill: #FFFFFF;\n",
              "    }\n",
              "  </style>\n",
              "\n",
              "      <script>\n",
              "        const buttonEl =\n",
              "          document.querySelector('#df-546f48d9-bd89-4a3a-b11f-8cbb85cba7f5 button.colab-df-convert');\n",
              "        buttonEl.style.display =\n",
              "          google.colab.kernel.accessAllowed ? 'block' : 'none';\n",
              "\n",
              "        async function convertToInteractive(key) {\n",
              "          const element = document.querySelector('#df-546f48d9-bd89-4a3a-b11f-8cbb85cba7f5');\n",
              "          const dataTable =\n",
              "            await google.colab.kernel.invokeFunction('convertToInteractive',\n",
              "                                                     [key], {});\n",
              "          if (!dataTable) return;\n",
              "\n",
              "          const docLinkHtml = 'Like what you see? Visit the ' +\n",
              "            '<a target=\"_blank\" href=https://colab.research.google.com/notebooks/data_table.ipynb>data table notebook</a>'\n",
              "            + ' to learn more about interactive tables.';\n",
              "          element.innerHTML = '';\n",
              "          dataTable['output_type'] = 'display_data';\n",
              "          await google.colab.output.renderOutput(dataTable, element);\n",
              "          const docLink = document.createElement('div');\n",
              "          docLink.innerHTML = docLinkHtml;\n",
              "          element.appendChild(docLink);\n",
              "        }\n",
              "      </script>\n",
              "    </div>\n",
              "  </div>\n",
              "  "
            ]
          },
          "metadata": {},
          "execution_count": 29
        }
      ]
    },
    {
      "cell_type": "markdown",
      "source": [
        "##### **Procurando tendências para incidentes durante as horas do dia**\n",
        "Para encontrar-mos uma tendência dentro das horas do dia, podemos avaliar o número de incidência dos crimes em relação aos horários que eles geralmente ocorrem."
      ],
      "metadata": {
        "id": "mH03kIDqXQYy"
      }
    },
    {
      "cell_type": "code",
      "source": [
        "# função para calcular o número de incidências total de uma variável\n",
        "def incidents_num_by_feature(value_list, feature, data):\n",
        "  num_total = []\n",
        "  for i in value_list:\n",
        "    total = 0\n",
        "    dataset = data.loc[data[feature]==i]\n",
        "    total = len(dataset)\n",
        "    num_total.append(total)\n",
        "\n",
        "  return num_total"
      ],
      "metadata": {
        "id": "L1dFPpZWMlNL"
      },
      "execution_count": null,
      "outputs": []
    },
    {
      "cell_type": "code",
      "source": [
        "hours = ['0h', '1h', '2h', '3h', '4h', '5h', '6h', '7h', '8h', '9h', '10h', '11h', '12h',\n",
        "         '13h', '14h', '15h', '16h', '17h', '18h', '19h', '20h', '21h', '22h', '23h'] # apenas para xlabel do gráfico\n",
        "\n",
        "incidents_by_hour = incidents_num_by_feature(range(0,24),'Hour',incidents_data) # calculando o total de incidências em cada hora do dia\n",
        "\n",
        "hour = pd.DataFrame({'Hour':hours,\n",
        "                     'total_of_incidents':incidents_by_hour,                     \n",
        "                    })\n",
        "\n",
        "fig, ax1 = plt.subplots(figsize=(12,6))\n",
        "sns.set_theme(style='darkgrid')\n",
        "sns.barplot(data=hour, x='Hour', y='total_of_incidents', color='salmon')\n",
        "plt.title(\"Distribuição de incidências criminais ao longo do dia durante o período de 2014 a 2022\")\n",
        "plt.ylabel(\"Total de incidências\")\n",
        "plt.xlabel('Horário')\n",
        "\n",
        "plt.show()"
      ],
      "metadata": {
        "id": "odo7sh9QXrRh",
        "colab": {
          "base_uri": "https://localhost:8080/",
          "height": 410
        },
        "outputId": "bf235bf6-de4c-47a7-b61b-5df91b84efc6"
      },
      "execution_count": null,
      "outputs": [
        {
          "output_type": "display_data",
          "data": {
            "text/plain": [
              "<Figure size 864x432 with 1 Axes>"
            ],
            "image/png": "[encoded data removed]"
          },
          "metadata": {}
        }
      ]
    },
    {
      "cell_type": "markdown",
      "source": [
        "**Por meio do gráfico acima podemos observar o total de incidências de crimes em cada hora do dia durante os últimos 9 anos:**\n",
        "\n",
        "*   **A incidência de crimes tende a cair durante a madrugada à medida em que se aproxima o turno matutino, onde tem seus menores índices (entre 6h e 9h).**\n",
        "\n",
        "*   **As incidências aumentam conforme nos aproximamos do período noturno, onde a grande incidência de crimes aconteceu, tendo seu  pico por volta das 20h e se mantém alta neste período** "
      ],
      "metadata": {
        "id": "3U0lvzxv_799"
      }
    },
    {
      "cell_type": "code",
      "source": [
        "force = incidents_data.groupby(['Incident_Type', 'Hour','Year']).count()\n",
        "force = force.reset_index(level=['Incident_Type', 'Hour','Year'])\n",
        "force.drop(['Month'], axis=1, inplace=True)\n",
        "force.rename(columns={'Day': 'Quantidade'}, inplace = True)\n",
        "\n",
        "force_total = incidents_data.groupby(['Incident_Type', 'Hour']).count()\n",
        "force_total = force_total.reset_index(level=['Incident_Type', 'Hour'])\n",
        "force_total.drop(['Month', 'Year'], axis=1, inplace=True)\n",
        "force_total.rename(columns={'Day': 'Quantidade'}, inplace = True) \n",
        "\n",
        "\n",
        "fig = px.bar(force, x='Hour', y='Quantidade', color='Incident_Type', animation_frame='Year', title='Quantidade de aplicação do uso de força por hora no ano')\n",
        "fig.show()\n",
        "\n",
        "fig2 = px.bar(force_total, x='Hour', y='Quantidade', color='Incident_Type', title='Quantidade de aplicação do uso de força por hora de 2014 a 2019')\n",
        "fig2.show() \n",
        "#force"
      ],
      "metadata": {
        "colab": {
          "base_uri": "https://localhost:8080/",
          "height": 1000
        },
        "id": "uAqivJwkfPJg",
        "outputId": "5f1120e1-1cad-4892-a169-1997659f1c7f"
      },
      "execution_count": null,
      "outputs": [
        {
          "output_type": "display_data",
          "data": {
            "text/html": [
              "<html>\n",
              "<head><meta charset=\"utf-8\" /></head>\n",
              "<body>\n",
              "    <div>            <script src=\"https://cdnjs.cloudflare.com/ajax/libs/mathjax/2.7.5/MathJax.js?config=TeX-AMS-MML_SVG\"></script><script type=\"text/javascript\">if (window.MathJax) {MathJax.Hub.Config({SVG: {font: \"STIX-Web\"}});}</script>                <script type=\"text/javascript\">window.PlotlyConfig = {MathJaxConfig: 'local'};</script>\n",
              "        <script src=\"https://cdn.plot.ly/plotly-2.8.3.min.js\"></script>                <div id=\"6d5df7f3-c996-4868-a564-5b88c0d0cc5f\" class=\"plotly-graph-div\" style=\"height:525px; width:100%;\"></div>            <script type=\"text/javascript\">                                    window.PLOTLYENV=window.PLOTLYENV || {};                                    if (document.getElementById(\"6d5df7f3-c996-4868-a564-5b88c0d0cc5f\")) {                    Plotly.newPlot(                        \"6d5df7f3-c996-4868-a564-5b88c0d0cc5f\",                        [{\"alignmentgroup\":\"True\",\"hovertemplate\":\"Incident_Type=Level 1 - Use of Force<br>Year=2014<br>Hour=%{x}<br>Quantidade=%{y}<extra></extra>\",\"legendgroup\":\"Level 1 - Use of Force\",\"marker\":{\"color\":\"#636efa\",\"pattern\":{\"shape\":\"\"}},\"name\":\"Level 1 - Use of Force\",\"offsetgroup\":\"Level 1 - Use of Force\",\"orientation\":\"v\",\"showlegend\":true,\"textposition\":\"auto\",\"x\":[0,1,2,3,4,5,6,7,8,9,10,11,12,13,14,15,16,17,18,19,20,21,22,23],\"xaxis\":\"x\",\"y\":[86,63,34,37,24,14,22,13,12,22,15,23,39,41,54,75,50,36,50,51,103,82,100,80],\"yaxis\":\"y\",\"type\":\"bar\"},{\"alignmentgroup\":\"True\",\"hovertemplate\":\"Incident_Type=Level 2 - Use of Force<br>Year=2014<br>Hour=%{x}<br>Quantidade=%{y}<extra></extra>\",\"legendgroup\":\"Level 2 - Use of Force\",\"marker\":{\"color\":\"#EF553B\",\"pattern\":{\"shape\":\"\"}},\"name\":\"Level 2 - Use of Force\",\"offsetgroup\":\"Level 2 - Use of Force\",\"orientation\":\"v\",\"showlegend\":true,\"textposition\":\"auto\",\"x\":[0,1,2,3,4,5,6,7,8,9,10,11,12,13,14,15,16,17,18,19,20,21,22,23],\"xaxis\":\"x\",\"y\":[21,20,29,27,5,1,4,3,5,2,11,10,11,21,30,33,34,47,26,22,27,34,45,30],\"yaxis\":\"y\",\"type\":\"bar\"},{\"alignmentgroup\":\"True\",\"hovertemplate\":\"Incident_Type=Level 3 - OIS<br>Year=2014<br>Hour=%{x}<br>Quantidade=%{y}<extra></extra>\",\"legendgroup\":\"Level 3 - OIS\",\"marker\":{\"color\":\"#00cc96\",\"pattern\":{\"shape\":\"\"}},\"name\":\"Level 3 - OIS\",\"offsetgroup\":\"Level 3 - OIS\",\"orientation\":\"v\",\"showlegend\":true,\"textposition\":\"auto\",\"x\":[1,3,11,16,21,22],\"xaxis\":\"x\",\"y\":[1,2,1,1,15,3],\"yaxis\":\"y\",\"type\":\"bar\"},{\"alignmentgroup\":\"True\",\"hovertemplate\":\"Incident_Type=Level 3 - Use of Force<br>Year=2014<br>Hour=%{x}<br>Quantidade=%{y}<extra></extra>\",\"legendgroup\":\"Level 3 - Use of Force\",\"marker\":{\"color\":\"#ab63fa\",\"pattern\":{\"shape\":\"\"}},\"name\":\"Level 3 - Use of Force\",\"offsetgroup\":\"Level 3 - Use of Force\",\"orientation\":\"v\",\"showlegend\":true,\"textposition\":\"auto\",\"x\":[0,2,4,6,11,12,15,19,22,23],\"xaxis\":\"x\",\"y\":[4,1,3,2,2,3,2,2,1,4],\"yaxis\":\"y\",\"type\":\"bar\"}],                        {\"template\":{\"data\":{\"bar\":[{\"error_x\":{\"color\":\"#2a3f5f\"},\"error_y\":{\"color\":\"#2a3f5f\"},\"marker\":{\"line\":{\"color\":\"#E5ECF6\",\"width\":0.5},\"pattern\":{\"fillmode\":\"overlay\",\"size\":10,\"solidity\":0.2}},\"type\":\"bar\"}],\"barpolar\":[{\"marker\":{\"line\":{\"color\":\"#E5ECF6\",\"width\":0.5},\"pattern\":{\"fillmode\":\"overlay\",\"size\":10,\"solidity\":0.2}},\"type\":\"barpolar\"}],\"carpet\":[{\"aaxis\":{\"endlinecolor\":\"#2a3f5f\",\"gridcolor\":\"white\",\"linecolor\":\"white\",\"minorgridcolor\":\"white\",\"startlinecolor\":\"#2a3f5f\"},\"baxis\":{\"endlinecolor\":\"#2a3f5f\",\"gridcolor\":\"white\",\"linecolor\":\"white\",\"minorgridcolor\":\"white\",\"startlinecolor\":\"#2a3f5f\"},\"type\":\"carpet\"}],\"choropleth\":[{\"colorbar\":{\"outlinewidth\":0,\"ticks\":\"\"},\"type\":\"choropleth\"}],\"contour\":[{\"colorbar\":{\"outlinewidth\":0,\"ticks\":\"\"},\"colorscale\":[[0.0,\"#0d0887\"],[0.1111111111111111,\"#46039f\"],[0.2222222222222222,\"#7201a8\"],[0.3333333333333333,\"#9c179e\"],[0.4444444444444444,\"#bd3786\"],[0.5555555555555556,\"#d8576b\"],[0.6666666666666666,\"#ed7953\"],[0.7777777777777778,\"#fb9f3a\"],[0.8888888888888888,\"#fdca26\"],[1.0,\"#f0f921\"]],\"type\":\"contour\"}],\"contourcarpet\":[{\"colorbar\":{\"outlinewidth\":0,\"ticks\":\"\"},\"type\":\"contourcarpet\"}],\"heatmap\":[{\"colorbar\":{\"outlinewidth\":0,\"ticks\":\"\"},\"colorscale\":[[0.0,\"#0d0887\"],[0.1111111111111111,\"#46039f\"],[0.2222222222222222,\"#7201a8\"],[0.3333333333333333,\"#9c179e\"],[0.4444444444444444,\"#bd3786\"],[0.5555555555555556,\"#d8576b\"],[0.6666666666666666,\"#ed7953\"],[0.7777777777777778,\"#fb9f3a\"],[0.8888888888888888,\"#fdca26\"],[1.0,\"#f0f921\"]],\"type\":\"heatmap\"}],\"heatmapgl\":[{\"colorbar\":{\"outlinewidth\":0,\"ticks\":\"\"},\"colorscale\":[[0.0,\"#0d0887\"],[0.1111111111111111,\"#46039f\"],[0.2222222222222222,\"#7201a8\"],[0.3333333333333333,\"#9c179e\"],[0.4444444444444444,\"#bd3786\"],[0.5555555555555556,\"#d8576b\"],[0.6666666666666666,\"#ed7953\"],[0.7777777777777778,\"#fb9f3a\"],[0.8888888888888888,\"#fdca26\"],[1.0,\"#f0f921\"]],\"type\":\"heatmapgl\"}],\"histogram\":[{\"marker\":{\"pattern\":{\"fillmode\":\"overlay\",\"size\":10,\"solidity\":0.2}},\"type\":\"histogram\"}],\"histogram2d\":[{\"colorbar\":{\"outlinewidth\":0,\"ticks\":\"\"},\"colorscale\":[[0.0,\"#0d0887\"],[0.1111111111111111,\"#46039f\"],[0.2222222222222222,\"#7201a8\"],[0.3333333333333333,\"#9c179e\"],[0.4444444444444444,\"#bd3786\"],[0.5555555555555556,\"#d8576b\"],[0.6666666666666666,\"#ed7953\"],[0.7777777777777778,\"#fb9f3a\"],[0.8888888888888888,\"#fdca26\"],[1.0,\"#f0f921\"]],\"type\":\"histogram2d\"}],\"histogram2dcontour\":[{\"colorbar\":{\"outlinewidth\":0,\"ticks\":\"\"},\"colorscale\":[[0.0,\"#0d0887\"],[0.1111111111111111,\"#46039f\"],[0.2222222222222222,\"#7201a8\"],[0.3333333333333333,\"#9c179e\"],[0.4444444444444444,\"#bd3786\"],[0.5555555555555556,\"#d8576b\"],[0.6666666666666666,\"#ed7953\"],[0.7777777777777778,\"#fb9f3a\"],[0.8888888888888888,\"#fdca26\"],[1.0,\"#f0f921\"]],\"type\":\"histogram2dcontour\"}],\"mesh3d\":[{\"colorbar\":{\"outlinewidth\":0,\"ticks\":\"\"},\"type\":\"mesh3d\"}],\"parcoords\":[{\"line\":{\"colorbar\":{\"outlinewidth\":0,\"ticks\":\"\"}},\"type\":\"parcoords\"}],\"pie\":[{\"automargin\":true,\"type\":\"pie\"}],\"scatter\":[{\"marker\":{\"colorbar\":{\"outlinewidth\":0,\"ticks\":\"\"}},\"type\":\"scatter\"}],\"scatter3d\":[{\"line\":{\"colorbar\":{\"outlinewidth\":0,\"ticks\":\"\"}},\"marker\":{\"colorbar\":{\"outlinewidth\":0,\"ticks\":\"\"}},\"type\":\"scatter3d\"}],\"scattercarpet\":[{\"marker\":{\"colorbar\":{\"outlinewidth\":0,\"ticks\":\"\"}},\"type\":\"scattercarpet\"}],\"scattergeo\":[{\"marker\":{\"colorbar\":{\"outlinewidth\":0,\"ticks\":\"\"}},\"type\":\"scattergeo\"}],\"scattergl\":[{\"marker\":{\"colorbar\":{\"outlinewidth\":0,\"ticks\":\"\"}},\"type\":\"scattergl\"}],\"scattermapbox\":[{\"marker\":{\"colorbar\":{\"outlinewidth\":0,\"ticks\":\"\"}},\"type\":\"scattermapbox\"}],\"scatterpolar\":[{\"marker\":{\"colorbar\":{\"outlinewidth\":0,\"ticks\":\"\"}},\"type\":\"scatterpolar\"}],\"scatterpolargl\":[{\"marker\":{\"colorbar\":{\"outlinewidth\":0,\"ticks\":\"\"}},\"type\":\"scatterpolargl\"}],\"scatterternary\":[{\"marker\":{\"colorbar\":{\"outlinewidth\":0,\"ticks\":\"\"}},\"type\":\"scatterternary\"}],\"surface\":[{\"colorbar\":{\"outlinewidth\":0,\"ticks\":\"\"},\"colorscale\":[[0.0,\"#0d0887\"],[0.1111111111111111,\"#46039f\"],[0.2222222222222222,\"#7201a8\"],[0.3333333333333333,\"#9c179e\"],[0.4444444444444444,\"#bd3786\"],[0.5555555555555556,\"#d8576b\"],[0.6666666666666666,\"#ed7953\"],[0.7777777777777778,\"#fb9f3a\"],[0.8888888888888888,\"#fdca26\"],[1.0,\"#f0f921\"]],\"type\":\"surface\"}],\"table\":[{\"cells\":{\"fill\":{\"color\":\"#EBF0F8\"},\"line\":{\"color\":\"white\"}},\"header\":{\"fill\":{\"color\":\"#C8D4E3\"},\"line\":{\"color\":\"white\"}},\"type\":\"table\"}]},\"layout\":{\"annotationdefaults\":{\"arrowcolor\":\"#2a3f5f\",\"arrowhead\":0,\"arrowwidth\":1},\"autotypenumbers\":\"strict\",\"coloraxis\":{\"colorbar\":{\"outlinewidth\":0,\"ticks\":\"\"}},\"colorscale\":{\"diverging\":[[0,\"#8e0152\"],[0.1,\"#c51b7d\"],[0.2,\"#de77ae\"],[0.3,\"#f1b6da\"],[0.4,\"#fde0ef\"],[0.5,\"#f7f7f7\"],[0.6,\"#e6f5d0\"],[0.7,\"#b8e186\"],[0.8,\"#7fbc41\"],[0.9,\"#4d9221\"],[1,\"#276419\"]],\"sequential\":[[0.0,\"#0d0887\"],[0.1111111111111111,\"#46039f\"],[0.2222222222222222,\"#7201a8\"],[0.3333333333333333,\"#9c179e\"],[0.4444444444444444,\"#bd3786\"],[0.5555555555555556,\"#d8576b\"],[0.6666666666666666,\"#ed7953\"],[0.7777777777777778,\"#fb9f3a\"],[0.8888888888888888,\"#fdca26\"],[1.0,\"#f0f921\"]],\"sequentialminus\":[[0.0,\"#0d0887\"],[0.1111111111111111,\"#46039f\"],[0.2222222222222222,\"#7201a8\"],[0.3333333333333333,\"#9c179e\"],[0.4444444444444444,\"#bd3786\"],[0.5555555555555556,\"#d8576b\"],[0.6666666666666666,\"#ed7953\"],[0.7777777777777778,\"#fb9f3a\"],[0.8888888888888888,\"#fdca26\"],[1.0,\"#f0f921\"]]},\"colorway\":[\"#636efa\",\"#EF553B\",\"#00cc96\",\"#ab63fa\",\"#FFA15A\",\"#19d3f3\",\"#FF6692\",\"#B6E880\",\"#FF97FF\",\"#FECB52\"],\"font\":{\"color\":\"#2a3f5f\"},\"geo\":{\"bgcolor\":\"white\",\"lakecolor\":\"white\",\"landcolor\":\"#E5ECF6\",\"showlakes\":true,\"showland\":true,\"subunitcolor\":\"white\"},\"hoverlabel\":{\"align\":\"left\"},\"hovermode\":\"closest\",\"mapbox\":{\"style\":\"light\"},\"paper_bgcolor\":\"white\",\"plot_bgcolor\":\"#E5ECF6\",\"polar\":{\"angularaxis\":{\"gridcolor\":\"white\",\"linecolor\":\"white\",\"ticks\":\"\"},\"bgcolor\":\"#E5ECF6\",\"radialaxis\":{\"gridcolor\":\"white\",\"linecolor\":\"white\",\"ticks\":\"\"}},\"scene\":{\"xaxis\":{\"backgroundcolor\":\"#E5ECF6\",\"gridcolor\":\"white\",\"gridwidth\":2,\"linecolor\":\"white\",\"showbackground\":true,\"ticks\":\"\",\"zerolinecolor\":\"white\"},\"yaxis\":{\"backgroundcolor\":\"#E5ECF6\",\"gridcolor\":\"white\",\"gridwidth\":2,\"linecolor\":\"white\",\"showbackground\":true,\"ticks\":\"\",\"zerolinecolor\":\"white\"},\"zaxis\":{\"backgroundcolor\":\"#E5ECF6\",\"gridcolor\":\"white\",\"gridwidth\":2,\"linecolor\":\"white\",\"showbackground\":true,\"ticks\":\"\",\"zerolinecolor\":\"white\"}},\"shapedefaults\":{\"line\":{\"color\":\"#2a3f5f\"}},\"ternary\":{\"aaxis\":{\"gridcolor\":\"white\",\"linecolor\":\"white\",\"ticks\":\"\"},\"baxis\":{\"gridcolor\":\"white\",\"linecolor\":\"white\",\"ticks\":\"\"},\"bgcolor\":\"#E5ECF6\",\"caxis\":{\"gridcolor\":\"white\",\"linecolor\":\"white\",\"ticks\":\"\"}},\"title\":{\"x\":0.05},\"xaxis\":{\"automargin\":true,\"gridcolor\":\"white\",\"linecolor\":\"white\",\"ticks\":\"\",\"title\":{\"standoff\":15},\"zerolinecolor\":\"white\",\"zerolinewidth\":2},\"yaxis\":{\"automargin\":true,\"gridcolor\":\"white\",\"linecolor\":\"white\",\"ticks\":\"\",\"title\":{\"standoff\":15},\"zerolinecolor\":\"white\",\"zerolinewidth\":2}}},\"xaxis\":{\"anchor\":\"y\",\"domain\":[0.0,1.0],\"title\":{\"text\":\"Hour\"}},\"yaxis\":{\"anchor\":\"x\",\"domain\":[0.0,1.0],\"title\":{\"text\":\"Quantidade\"}},\"legend\":{\"title\":{\"text\":\"Incident_Type\"},\"tracegroupgap\":0},\"title\":{\"text\":\"Quantidade de aplica\\u00e7\\u00e3o do uso de for\\u00e7a por hora no ano\"},\"barmode\":\"relative\",\"updatemenus\":[{\"buttons\":[{\"args\":[null,{\"frame\":{\"duration\":500,\"redraw\":true},\"mode\":\"immediate\",\"fromcurrent\":true,\"transition\":{\"duration\":500,\"easing\":\"linear\"}}],\"label\":\"&#9654;\",\"method\":\"animate\"},{\"args\":[[null],{\"frame\":{\"duration\":0,\"redraw\":true},\"mode\":\"immediate\",\"fromcurrent\":true,\"transition\":{\"duration\":0,\"easing\":\"linear\"}}],\"label\":\"&#9724;\",\"method\":\"animate\"}],\"direction\":\"left\",\"pad\":{\"r\":10,\"t\":70},\"showactive\":false,\"type\":\"buttons\",\"x\":0.1,\"xanchor\":\"right\",\"y\":0,\"yanchor\":\"top\"}],\"sliders\":[{\"active\":0,\"currentvalue\":{\"prefix\":\"Year=\"},\"len\":0.9,\"pad\":{\"b\":10,\"t\":60},\"steps\":[{\"args\":[[\"2014\"],{\"frame\":{\"duration\":0,\"redraw\":true},\"mode\":\"immediate\",\"fromcurrent\":true,\"transition\":{\"duration\":0,\"easing\":\"linear\"}}],\"label\":\"2014\",\"method\":\"animate\"},{\"args\":[[\"2015\"],{\"frame\":{\"duration\":0,\"redraw\":true},\"mode\":\"immediate\",\"fromcurrent\":true,\"transition\":{\"duration\":0,\"easing\":\"linear\"}}],\"label\":\"2015\",\"method\":\"animate\"},{\"args\":[[\"2016\"],{\"frame\":{\"duration\":0,\"redraw\":true},\"mode\":\"immediate\",\"fromcurrent\":true,\"transition\":{\"duration\":0,\"easing\":\"linear\"}}],\"label\":\"2016\",\"method\":\"animate\"},{\"args\":[[\"2017\"],{\"frame\":{\"duration\":0,\"redraw\":true},\"mode\":\"immediate\",\"fromcurrent\":true,\"transition\":{\"duration\":0,\"easing\":\"linear\"}}],\"label\":\"2017\",\"method\":\"animate\"},{\"args\":[[\"2018\"],{\"frame\":{\"duration\":0,\"redraw\":true},\"mode\":\"immediate\",\"fromcurrent\":true,\"transition\":{\"duration\":0,\"easing\":\"linear\"}}],\"label\":\"2018\",\"method\":\"animate\"},{\"args\":[[\"2019\"],{\"frame\":{\"duration\":0,\"redraw\":true},\"mode\":\"immediate\",\"fromcurrent\":true,\"transition\":{\"duration\":0,\"easing\":\"linear\"}}],\"label\":\"2019\",\"method\":\"animate\"},{\"args\":[[\"2020\"],{\"frame\":{\"duration\":0,\"redraw\":true},\"mode\":\"immediate\",\"fromcurrent\":true,\"transition\":{\"duration\":0,\"easing\":\"linear\"}}],\"label\":\"2020\",\"method\":\"animate\"},{\"args\":[[\"2021\"],{\"frame\":{\"duration\":0,\"redraw\":true},\"mode\":\"immediate\",\"fromcurrent\":true,\"transition\":{\"duration\":0,\"easing\":\"linear\"}}],\"label\":\"2021\",\"method\":\"animate\"},{\"args\":[[\"2022\"],{\"frame\":{\"duration\":0,\"redraw\":true},\"mode\":\"immediate\",\"fromcurrent\":true,\"transition\":{\"duration\":0,\"easing\":\"linear\"}}],\"label\":\"2022\",\"method\":\"animate\"}],\"x\":0.1,\"xanchor\":\"left\",\"y\":0,\"yanchor\":\"top\"}]},                        {\"responsive\": true}                    ).then(function(){\n",
              "                            Plotly.addFrames('6d5df7f3-c996-4868-a564-5b88c0d0cc5f', [{\"data\":[{\"alignmentgroup\":\"True\",\"hovertemplate\":\"Incident_Type=Level 1 - Use of Force<br>Year=2014<br>Hour=%{x}<br>Quantidade=%{y}<extra></extra>\",\"legendgroup\":\"Level 1 - Use of Force\",\"marker\":{\"color\":\"#636efa\",\"pattern\":{\"shape\":\"\"}},\"name\":\"Level 1 - Use of Force\",\"offsetgroup\":\"Level 1 - Use of Force\",\"orientation\":\"v\",\"showlegend\":true,\"textposition\":\"auto\",\"x\":[0,1,2,3,4,5,6,7,8,9,10,11,12,13,14,15,16,17,18,19,20,21,22,23],\"xaxis\":\"x\",\"y\":[86,63,34,37,24,14,22,13,12,22,15,23,39,41,54,75,50,36,50,51,103,82,100,80],\"yaxis\":\"y\",\"type\":\"bar\"},{\"alignmentgroup\":\"True\",\"hovertemplate\":\"Incident_Type=Level 2 - Use of Force<br>Year=2014<br>Hour=%{x}<br>Quantidade=%{y}<extra></extra>\",\"legendgroup\":\"Level 2 - Use of Force\",\"marker\":{\"color\":\"#EF553B\",\"pattern\":{\"shape\":\"\"}},\"name\":\"Level 2 - Use of Force\",\"offsetgroup\":\"Level 2 - Use of Force\",\"orientation\":\"v\",\"showlegend\":true,\"textposition\":\"auto\",\"x\":[0,1,2,3,4,5,6,7,8,9,10,11,12,13,14,15,16,17,18,19,20,21,22,23],\"xaxis\":\"x\",\"y\":[21,20,29,27,5,1,4,3,5,2,11,10,11,21,30,33,34,47,26,22,27,34,45,30],\"yaxis\":\"y\",\"type\":\"bar\"},{\"alignmentgroup\":\"True\",\"hovertemplate\":\"Incident_Type=Level 3 - OIS<br>Year=2014<br>Hour=%{x}<br>Quantidade=%{y}<extra></extra>\",\"legendgroup\":\"Level 3 - OIS\",\"marker\":{\"color\":\"#00cc96\",\"pattern\":{\"shape\":\"\"}},\"name\":\"Level 3 - OIS\",\"offsetgroup\":\"Level 3 - OIS\",\"orientation\":\"v\",\"showlegend\":true,\"textposition\":\"auto\",\"x\":[1,3,11,16,21,22],\"xaxis\":\"x\",\"y\":[1,2,1,1,15,3],\"yaxis\":\"y\",\"type\":\"bar\"},{\"alignmentgroup\":\"True\",\"hovertemplate\":\"Incident_Type=Level 3 - Use of Force<br>Year=2014<br>Hour=%{x}<br>Quantidade=%{y}<extra></extra>\",\"legendgroup\":\"Level 3 - Use of Force\",\"marker\":{\"color\":\"#ab63fa\",\"pattern\":{\"shape\":\"\"}},\"name\":\"Level 3 - Use of Force\",\"offsetgroup\":\"Level 3 - Use of Force\",\"orientation\":\"v\",\"showlegend\":true,\"textposition\":\"auto\",\"x\":[0,2,4,6,11,12,15,19,22,23],\"xaxis\":\"x\",\"y\":[4,1,3,2,2,3,2,2,1,4],\"yaxis\":\"y\",\"type\":\"bar\"}],\"name\":\"2014\"},{\"data\":[{\"alignmentgroup\":\"True\",\"hovertemplate\":\"Incident_Type=Level 1 - Use of Force<br>Year=2015<br>Hour=%{x}<br>Quantidade=%{y}<extra></extra>\",\"legendgroup\":\"Level 1 - Use of Force\",\"marker\":{\"color\":\"#636efa\",\"pattern\":{\"shape\":\"\"}},\"name\":\"Level 1 - Use of Force\",\"offsetgroup\":\"Level 1 - Use of Force\",\"orientation\":\"v\",\"showlegend\":true,\"textposition\":\"auto\",\"x\":[0,1,2,3,4,5,6,7,8,9,10,11,12,13,14,15,16,17,18,19,20,21,22,23],\"xaxis\":\"x\",\"y\":[90,121,62,29,26,25,22,24,24,23,28,43,54,92,107,64,68,74,71,48,117,119,72,89],\"yaxis\":\"y\",\"type\":\"bar\"},{\"alignmentgroup\":\"True\",\"hovertemplate\":\"Incident_Type=Level 2 - Use of Force<br>Year=2015<br>Hour=%{x}<br>Quantidade=%{y}<extra></extra>\",\"legendgroup\":\"Level 2 - Use of Force\",\"marker\":{\"color\":\"#EF553B\",\"pattern\":{\"shape\":\"\"}},\"name\":\"Level 2 - Use of Force\",\"offsetgroup\":\"Level 2 - Use of Force\",\"orientation\":\"v\",\"showlegend\":true,\"textposition\":\"auto\",\"x\":[0,1,2,3,4,5,7,8,9,10,11,12,13,14,15,16,17,18,19,20,21,22,23],\"xaxis\":\"x\",\"y\":[25,31,29,3,11,2,8,11,2,17,15,19,18,25,43,28,16,32,35,40,19,25,12],\"yaxis\":\"y\",\"type\":\"bar\"},{\"alignmentgroup\":\"True\",\"hovertemplate\":\"Incident_Type=Level 3 - OIS<br>Year=2015<br>Hour=%{x}<br>Quantidade=%{y}<extra></extra>\",\"legendgroup\":\"Level 3 - OIS\",\"marker\":{\"color\":\"#00cc96\",\"pattern\":{\"shape\":\"\"}},\"name\":\"Level 3 - OIS\",\"offsetgroup\":\"Level 3 - OIS\",\"orientation\":\"v\",\"showlegend\":true,\"textposition\":\"auto\",\"x\":[2,3,4,5,12,13,14],\"xaxis\":\"x\",\"y\":[1,1,1,1,1,6,4],\"yaxis\":\"y\",\"type\":\"bar\"},{\"alignmentgroup\":\"True\",\"hovertemplate\":\"Incident_Type=Level 3 - Use of Force<br>Year=2015<br>Hour=%{x}<br>Quantidade=%{y}<extra></extra>\",\"legendgroup\":\"Level 3 - Use of Force\",\"marker\":{\"color\":\"#ab63fa\",\"pattern\":{\"shape\":\"\"}},\"name\":\"Level 3 - Use of Force\",\"offsetgroup\":\"Level 3 - Use of Force\",\"orientation\":\"v\",\"showlegend\":true,\"textposition\":\"auto\",\"x\":[0,1,2,7,11,12,15,21,22,23],\"xaxis\":\"x\",\"y\":[1,4,1,3,3,2,1,1,2,2],\"yaxis\":\"y\",\"type\":\"bar\"}],\"name\":\"2015\"},{\"data\":[{\"alignmentgroup\":\"True\",\"hovertemplate\":\"Incident_Type=Level 1 - Use of Force<br>Year=2016<br>Hour=%{x}<br>Quantidade=%{y}<extra></extra>\",\"legendgroup\":\"Level 1 - Use of Force\",\"marker\":{\"color\":\"#636efa\",\"pattern\":{\"shape\":\"\"}},\"name\":\"Level 1 - Use of Force\",\"offsetgroup\":\"Level 1 - Use of Force\",\"orientation\":\"v\",\"showlegend\":true,\"textposition\":\"auto\",\"x\":[0,1,2,3,4,5,6,7,8,9,10,11,12,13,14,15,16,17,18,19,20,21,22,23],\"xaxis\":\"x\",\"y\":[52,53,50,32,39,17,23,21,27,18,33,28,45,55,51,78,61,54,48,56,75,76,101,51],\"yaxis\":\"y\",\"type\":\"bar\"},{\"alignmentgroup\":\"True\",\"hovertemplate\":\"Incident_Type=Level 2 - Use of Force<br>Year=2016<br>Hour=%{x}<br>Quantidade=%{y}<extra></extra>\",\"legendgroup\":\"Level 2 - Use of Force\",\"marker\":{\"color\":\"#EF553B\",\"pattern\":{\"shape\":\"\"}},\"name\":\"Level 2 - Use of Force\",\"offsetgroup\":\"Level 2 - Use of Force\",\"orientation\":\"v\",\"showlegend\":true,\"textposition\":\"auto\",\"x\":[0,1,2,3,4,5,6,7,8,9,10,11,12,13,14,15,16,17,18,19,20,21,22,23],\"xaxis\":\"x\",\"y\":[5,12,13,2,3,4,7,4,9,4,2,11,24,15,19,39,27,18,14,32,28,28,31,8],\"yaxis\":\"y\",\"type\":\"bar\"},{\"alignmentgroup\":\"True\",\"hovertemplate\":\"Incident_Type=Level 3 - OIS<br>Year=2016<br>Hour=%{x}<br>Quantidade=%{y}<extra></extra>\",\"legendgroup\":\"Level 3 - OIS\",\"marker\":{\"color\":\"#00cc96\",\"pattern\":{\"shape\":\"\"}},\"name\":\"Level 3 - OIS\",\"offsetgroup\":\"Level 3 - OIS\",\"orientation\":\"v\",\"showlegend\":true,\"textposition\":\"auto\",\"x\":[12,13,15,16],\"xaxis\":\"x\",\"y\":[1,2,1,1],\"yaxis\":\"y\",\"type\":\"bar\"},{\"alignmentgroup\":\"True\",\"hovertemplate\":\"Incident_Type=Level 3 - Use of Force<br>Year=2016<br>Hour=%{x}<br>Quantidade=%{y}<extra></extra>\",\"legendgroup\":\"Level 3 - Use of Force\",\"marker\":{\"color\":\"#ab63fa\",\"pattern\":{\"shape\":\"\"}},\"name\":\"Level 3 - Use of Force\",\"offsetgroup\":\"Level 3 - Use of Force\",\"orientation\":\"v\",\"showlegend\":true,\"textposition\":\"auto\",\"x\":[9,11,12,16,19,20,22],\"xaxis\":\"x\",\"y\":[1,3,3,2,3,5,2],\"yaxis\":\"y\",\"type\":\"bar\"}],\"name\":\"2016\"},{\"data\":[{\"alignmentgroup\":\"True\",\"hovertemplate\":\"Incident_Type=Level 1 - Use of Force<br>Year=2017<br>Hour=%{x}<br>Quantidade=%{y}<extra></extra>\",\"legendgroup\":\"Level 1 - Use of Force\",\"marker\":{\"color\":\"#636efa\",\"pattern\":{\"shape\":\"\"}},\"name\":\"Level 1 - Use of Force\",\"offsetgroup\":\"Level 1 - Use of Force\",\"orientation\":\"v\",\"showlegend\":true,\"textposition\":\"auto\",\"x\":[0,1,2,3,4,5,6,7,8,9,10,11,12,13,14,15,16,17,18,19,20,21,22,23],\"xaxis\":\"x\",\"y\":[64,71,64,34,26,16,17,20,28,24,33,34,66,61,58,43,73,61,70,54,69,75,62,84],\"yaxis\":\"y\",\"type\":\"bar\"},{\"alignmentgroup\":\"True\",\"hovertemplate\":\"Incident_Type=Level 2 - Use of Force<br>Year=2017<br>Hour=%{x}<br>Quantidade=%{y}<extra></extra>\",\"legendgroup\":\"Level 2 - Use of Force\",\"marker\":{\"color\":\"#EF553B\",\"pattern\":{\"shape\":\"\"}},\"name\":\"Level 2 - Use of Force\",\"offsetgroup\":\"Level 2 - Use of Force\",\"orientation\":\"v\",\"showlegend\":true,\"textposition\":\"auto\",\"x\":[0,1,2,3,4,5,6,7,8,9,10,11,12,13,14,15,16,17,18,19,20,21,22,23],\"xaxis\":\"x\",\"y\":[8,17,14,12,11,6,5,4,11,8,12,12,16,20,41,20,9,25,18,10,24,23,7,10],\"yaxis\":\"y\",\"type\":\"bar\"},{\"alignmentgroup\":\"True\",\"hovertemplate\":\"Incident_Type=Level 3 - OIS<br>Year=2017<br>Hour=%{x}<br>Quantidade=%{y}<extra></extra>\",\"legendgroup\":\"Level 3 - OIS\",\"marker\":{\"color\":\"#00cc96\",\"pattern\":{\"shape\":\"\"}},\"name\":\"Level 3 - OIS\",\"offsetgroup\":\"Level 3 - OIS\",\"orientation\":\"v\",\"showlegend\":true,\"textposition\":\"auto\",\"x\":[0,4,9,13,19,22,23],\"xaxis\":\"x\",\"y\":[1,1,2,4,6,1,5],\"yaxis\":\"y\",\"type\":\"bar\"},{\"alignmentgroup\":\"True\",\"hovertemplate\":\"Incident_Type=Level 3 - Use of Force<br>Year=2017<br>Hour=%{x}<br>Quantidade=%{y}<extra></extra>\",\"legendgroup\":\"Level 3 - Use of Force\",\"marker\":{\"color\":\"#ab63fa\",\"pattern\":{\"shape\":\"\"}},\"name\":\"Level 3 - Use of Force\",\"offsetgroup\":\"Level 3 - Use of Force\",\"orientation\":\"v\",\"showlegend\":true,\"textposition\":\"auto\",\"x\":[1,13,15,16,17,21],\"xaxis\":\"x\",\"y\":[2,3,1,1,3,2],\"yaxis\":\"y\",\"type\":\"bar\"}],\"name\":\"2017\"},{\"data\":[{\"alignmentgroup\":\"True\",\"hovertemplate\":\"Incident_Type=Level 1 - Use of Force<br>Year=2018<br>Hour=%{x}<br>Quantidade=%{y}<extra></extra>\",\"legendgroup\":\"Level 1 - Use of Force\",\"marker\":{\"color\":\"#636efa\",\"pattern\":{\"shape\":\"\"}},\"name\":\"Level 1 - Use of Force\",\"offsetgroup\":\"Level 1 - Use of Force\",\"orientation\":\"v\",\"showlegend\":true,\"textposition\":\"auto\",\"x\":[0,1,2,3,4,5,6,7,8,9,10,11,12,13,14,15,16,17,18,19,20,21,22,23],\"xaxis\":\"x\",\"y\":[87,81,78,50,51,48,33,29,24,19,33,38,81,124,93,95,100,104,80,81,140,101,146,83],\"yaxis\":\"y\",\"type\":\"bar\"},{\"alignmentgroup\":\"True\",\"hovertemplate\":\"Incident_Type=Level 2 - Use of Force<br>Year=2018<br>Hour=%{x}<br>Quantidade=%{y}<extra></extra>\",\"legendgroup\":\"Level 2 - Use of Force\",\"marker\":{\"color\":\"#EF553B\",\"pattern\":{\"shape\":\"\"}},\"name\":\"Level 2 - Use of Force\",\"offsetgroup\":\"Level 2 - Use of Force\",\"orientation\":\"v\",\"showlegend\":true,\"textposition\":\"auto\",\"x\":[0,1,2,3,4,5,6,7,8,9,10,11,12,13,14,15,16,17,18,19,20,21,22,23],\"xaxis\":\"x\",\"y\":[16,19,17,7,19,7,1,15,2,5,13,16,21,27,23,16,28,11,13,11,17,13,24,16],\"yaxis\":\"y\",\"type\":\"bar\"},{\"alignmentgroup\":\"True\",\"hovertemplate\":\"Incident_Type=Level 3 - OIS<br>Year=2018<br>Hour=%{x}<br>Quantidade=%{y}<extra></extra>\",\"legendgroup\":\"Level 3 - OIS\",\"marker\":{\"color\":\"#00cc96\",\"pattern\":{\"shape\":\"\"}},\"name\":\"Level 3 - OIS\",\"offsetgroup\":\"Level 3 - OIS\",\"orientation\":\"v\",\"showlegend\":true,\"textposition\":\"auto\",\"x\":[4,17],\"xaxis\":\"x\",\"y\":[2,1],\"yaxis\":\"y\",\"type\":\"bar\"},{\"alignmentgroup\":\"True\",\"hovertemplate\":\"Incident_Type=Level 3 - Use of Force<br>Year=2018<br>Hour=%{x}<br>Quantidade=%{y}<extra></extra>\",\"legendgroup\":\"Level 3 - Use of Force\",\"marker\":{\"color\":\"#ab63fa\",\"pattern\":{\"shape\":\"\"}},\"name\":\"Level 3 - Use of Force\",\"offsetgroup\":\"Level 3 - Use of Force\",\"orientation\":\"v\",\"showlegend\":true,\"textposition\":\"auto\",\"x\":[5,7,12,13,16,18,19,20],\"xaxis\":\"x\",\"y\":[2,7,3,2,2,3,2,2],\"yaxis\":\"y\",\"type\":\"bar\"}],\"name\":\"2018\"},{\"data\":[{\"alignmentgroup\":\"True\",\"hovertemplate\":\"Incident_Type=Level 1 - Use of Force<br>Year=2019<br>Hour=%{x}<br>Quantidade=%{y}<extra></extra>\",\"legendgroup\":\"Level 1 - Use of Force\",\"marker\":{\"color\":\"#636efa\",\"pattern\":{\"shape\":\"\"}},\"name\":\"Level 1 - Use of Force\",\"offsetgroup\":\"Level 1 - Use of Force\",\"orientation\":\"v\",\"showlegend\":true,\"textposition\":\"auto\",\"x\":[0,1,2,3,4,5,6,7,8,9,10,11,12,13,14,15,16,17,18,19,20,21,22,23],\"xaxis\":\"x\",\"y\":[51,38,48,20,15,27,12,16,9,22,27,41,48,55,54,62,60,69,39,46,76,69,44,41],\"yaxis\":\"y\",\"type\":\"bar\"},{\"alignmentgroup\":\"True\",\"hovertemplate\":\"Incident_Type=Level 2 - Use of Force<br>Year=2019<br>Hour=%{x}<br>Quantidade=%{y}<extra></extra>\",\"legendgroup\":\"Level 2 - Use of Force\",\"marker\":{\"color\":\"#EF553B\",\"pattern\":{\"shape\":\"\"}},\"name\":\"Level 2 - Use of Force\",\"offsetgroup\":\"Level 2 - Use of Force\",\"orientation\":\"v\",\"showlegend\":true,\"textposition\":\"auto\",\"x\":[0,1,2,3,4,5,6,7,8,9,10,11,12,13,14,15,16,17,18,19,20,21,22,23],\"xaxis\":\"x\",\"y\":[16,18,15,6,5,2,6,1,2,7,19,9,26,16,20,12,16,12,15,22,21,15,17,13],\"yaxis\":\"y\",\"type\":\"bar\"},{\"alignmentgroup\":\"True\",\"hovertemplate\":\"Incident_Type=Level 3 - OIS<br>Year=2019<br>Hour=%{x}<br>Quantidade=%{y}<extra></extra>\",\"legendgroup\":\"Level 3 - OIS\",\"marker\":{\"color\":\"#00cc96\",\"pattern\":{\"shape\":\"\"}},\"name\":\"Level 3 - OIS\",\"offsetgroup\":\"Level 3 - OIS\",\"orientation\":\"v\",\"showlegend\":true,\"textposition\":\"auto\",\"x\":[2,3,19,20,21,22],\"xaxis\":\"x\",\"y\":[1,2,2,2,4,2],\"yaxis\":\"y\",\"type\":\"bar\"},{\"alignmentgroup\":\"True\",\"hovertemplate\":\"Incident_Type=Level 3 - Use of Force<br>Year=2019<br>Hour=%{x}<br>Quantidade=%{y}<extra></extra>\",\"legendgroup\":\"Level 3 - Use of Force\",\"marker\":{\"color\":\"#ab63fa\",\"pattern\":{\"shape\":\"\"}},\"name\":\"Level 3 - Use of Force\",\"offsetgroup\":\"Level 3 - Use of Force\",\"orientation\":\"v\",\"showlegend\":true,\"textposition\":\"auto\",\"x\":[2,9,13,15,16],\"xaxis\":\"x\",\"y\":[1,1,1,1,1],\"yaxis\":\"y\",\"type\":\"bar\"}],\"name\":\"2019\"},{\"data\":[{\"alignmentgroup\":\"True\",\"hovertemplate\":\"Incident_Type=Level 1 - Use of Force<br>Year=2020<br>Hour=%{x}<br>Quantidade=%{y}<extra></extra>\",\"legendgroup\":\"Level 1 - Use of Force\",\"marker\":{\"color\":\"#636efa\",\"pattern\":{\"shape\":\"\"}},\"name\":\"Level 1 - Use of Force\",\"offsetgroup\":\"Level 1 - Use of Force\",\"orientation\":\"v\",\"showlegend\":true,\"textposition\":\"auto\",\"x\":[0,1,2,3,4,5,6,7,8,9,10,11,12,13,14,15,16,17,18,19,20,21,22,23],\"xaxis\":\"x\",\"y\":[49,30,38,22,14,19,21,12,18,29,17,16,37,36,39,35,62,42,34,43,91,34,52,50],\"yaxis\":\"y\",\"type\":\"bar\"},{\"alignmentgroup\":\"True\",\"hovertemplate\":\"Incident_Type=Level 2 - Use of Force<br>Year=2020<br>Hour=%{x}<br>Quantidade=%{y}<extra></extra>\",\"legendgroup\":\"Level 2 - Use of Force\",\"marker\":{\"color\":\"#EF553B\",\"pattern\":{\"shape\":\"\"}},\"name\":\"Level 2 - Use of Force\",\"offsetgroup\":\"Level 2 - Use of Force\",\"orientation\":\"v\",\"showlegend\":true,\"textposition\":\"auto\",\"x\":[0,1,2,3,4,5,6,7,8,9,10,11,12,13,14,15,16,17,18,19,20,21,22,23],\"xaxis\":\"x\",\"y\":[88,20,23,3,7,15,6,12,11,6,21,33,25,25,43,65,167,60,78,63,59,104,63,123],\"yaxis\":\"y\",\"type\":\"bar\"},{\"alignmentgroup\":\"True\",\"hovertemplate\":\"Incident_Type=Level 3 - OIS<br>Year=2020<br>Hour=%{x}<br>Quantidade=%{y}<extra></extra>\",\"legendgroup\":\"Level 3 - OIS\",\"marker\":{\"color\":\"#00cc96\",\"pattern\":{\"shape\":\"\"}},\"name\":\"Level 3 - OIS\",\"offsetgroup\":\"Level 3 - OIS\",\"orientation\":\"v\",\"showlegend\":true,\"textposition\":\"auto\",\"x\":[0,13,14,15],\"xaxis\":\"x\",\"y\":[1,1,1,2],\"yaxis\":\"y\",\"type\":\"bar\"},{\"alignmentgroup\":\"True\",\"hovertemplate\":\"Incident_Type=Level 3 - Use of Force<br>Year=2020<br>Hour=%{x}<br>Quantidade=%{y}<extra></extra>\",\"legendgroup\":\"Level 3 - Use of Force\",\"marker\":{\"color\":\"#ab63fa\",\"pattern\":{\"shape\":\"\"}},\"name\":\"Level 3 - Use of Force\",\"offsetgroup\":\"Level 3 - Use of Force\",\"orientation\":\"v\",\"showlegend\":true,\"textposition\":\"auto\",\"x\":[0,5,11,15,17,20,21,23],\"xaxis\":\"x\",\"y\":[1,3,1,2,1,1,1,2],\"yaxis\":\"y\",\"type\":\"bar\"}],\"name\":\"2020\"},{\"data\":[{\"alignmentgroup\":\"True\",\"hovertemplate\":\"Incident_Type=Level 1 - Use of Force<br>Year=2021<br>Hour=%{x}<br>Quantidade=%{y}<extra></extra>\",\"legendgroup\":\"Level 1 - Use of Force\",\"marker\":{\"color\":\"#636efa\",\"pattern\":{\"shape\":\"\"}},\"name\":\"Level 1 - Use of Force\",\"offsetgroup\":\"Level 1 - Use of Force\",\"orientation\":\"v\",\"showlegend\":true,\"textposition\":\"auto\",\"x\":[0,1,2,3,4,5,6,7,8,9,10,11,12,13,14,15,16,17,18,19,20,21,22,23],\"xaxis\":\"x\",\"y\":[51,34,18,18,21,18,7,10,20,13,16,12,18,49,27,32,37,49,33,51,71,41,42,73],\"yaxis\":\"y\",\"type\":\"bar\"},{\"alignmentgroup\":\"True\",\"hovertemplate\":\"Incident_Type=Level 2 - Use of Force<br>Year=2021<br>Hour=%{x}<br>Quantidade=%{y}<extra></extra>\",\"legendgroup\":\"Level 2 - Use of Force\",\"marker\":{\"color\":\"#EF553B\",\"pattern\":{\"shape\":\"\"}},\"name\":\"Level 2 - Use of Force\",\"offsetgroup\":\"Level 2 - Use of Force\",\"orientation\":\"v\",\"showlegend\":true,\"textposition\":\"auto\",\"x\":[0,1,2,3,5,6,7,8,9,10,11,12,13,14,15,16,17,18,19,20,21,22,23],\"xaxis\":\"x\",\"y\":[7,17,4,1,3,6,7,3,4,11,4,10,10,18,11,13,13,6,10,13,7,19,9],\"yaxis\":\"y\",\"type\":\"bar\"},{\"alignmentgroup\":\"True\",\"hovertemplate\":\"Incident_Type=Level 3 - OIS<br>Year=2021<br>Hour=%{x}<br>Quantidade=%{y}<extra></extra>\",\"legendgroup\":\"Level 3 - OIS\",\"marker\":{\"color\":\"#00cc96\",\"pattern\":{\"shape\":\"\"}},\"name\":\"Level 3 - OIS\",\"offsetgroup\":\"Level 3 - OIS\",\"orientation\":\"v\",\"showlegend\":true,\"textposition\":\"auto\",\"x\":[21],\"xaxis\":\"x\",\"y\":[8],\"yaxis\":\"y\",\"type\":\"bar\"},{\"alignmentgroup\":\"True\",\"hovertemplate\":\"Incident_Type=Level 3 - Use of Force<br>Year=2021<br>Hour=%{x}<br>Quantidade=%{y}<extra></extra>\",\"legendgroup\":\"Level 3 - Use of Force\",\"marker\":{\"color\":\"#ab63fa\",\"pattern\":{\"shape\":\"\"}},\"name\":\"Level 3 - Use of Force\",\"offsetgroup\":\"Level 3 - Use of Force\",\"orientation\":\"v\",\"showlegend\":true,\"textposition\":\"auto\",\"x\":[0,7,17,18,19],\"xaxis\":\"x\",\"y\":[1,1,2,1,1],\"yaxis\":\"y\",\"type\":\"bar\"}],\"name\":\"2021\"},{\"data\":[{\"alignmentgroup\":\"True\",\"hovertemplate\":\"Incident_Type=Level 1 - Use of Force<br>Year=2022<br>Hour=%{x}<br>Quantidade=%{y}<extra></extra>\",\"legendgroup\":\"Level 1 - Use of Force\",\"marker\":{\"color\":\"#636efa\",\"pattern\":{\"shape\":\"\"}},\"name\":\"Level 1 - Use of Force\",\"offsetgroup\":\"Level 1 - Use of Force\",\"orientation\":\"v\",\"showlegend\":true,\"textposition\":\"auto\",\"x\":[0,1,2,3,4,5,6,7,8,9,10,12,13,14,15,16,17,18,20,21,22,23],\"xaxis\":\"x\",\"y\":[4,7,1,3,6,2,1,3,1,5,1,2,1,1,3,6,2,5,8,2,9,3],\"yaxis\":\"y\",\"type\":\"bar\"},{\"alignmentgroup\":\"True\",\"hovertemplate\":\"Incident_Type=Level 2 - Use of Force<br>Year=2022<br>Hour=%{x}<br>Quantidade=%{y}<extra></extra>\",\"legendgroup\":\"Level 2 - Use of Force\",\"marker\":{\"color\":\"#EF553B\",\"pattern\":{\"shape\":\"\"}},\"name\":\"Level 2 - Use of Force\",\"offsetgroup\":\"Level 2 - Use of Force\",\"orientation\":\"v\",\"showlegend\":true,\"textposition\":\"auto\",\"x\":[1,4,14,17],\"xaxis\":\"x\",\"y\":[2,1,1,1],\"yaxis\":\"y\",\"type\":\"bar\"},{\"alignmentgroup\":\"True\",\"hovertemplate\":\"Incident_Type=Level 3 - OIS<br>Year=2022<br>Hour=%{x}<br>Quantidade=%{y}<extra></extra>\",\"legendgroup\":\"Level 3 - OIS\",\"marker\":{\"color\":\"#00cc96\",\"pattern\":{\"shape\":\"\"}},\"name\":\"Level 3 - OIS\",\"offsetgroup\":\"Level 3 - OIS\",\"orientation\":\"v\",\"showlegend\":true,\"textposition\":\"auto\",\"x\":[14],\"xaxis\":\"x\",\"y\":[1],\"yaxis\":\"y\",\"type\":\"bar\"}],\"name\":\"2022\"}]);\n",
              "                        }).then(function(){\n",
              "                            \n",
              "var gd = document.getElementById('6d5df7f3-c996-4868-a564-5b88c0d0cc5f');\n",
              "var x = new MutationObserver(function (mutations, observer) {{\n",
              "        var display = window.getComputedStyle(gd).display;\n",
              "        if (!display || display === 'none') {{\n",
              "            console.log([gd, 'removed!']);\n",
              "            Plotly.purge(gd);\n",
              "            observer.disconnect();\n",
              "        }}\n",
              "}});\n",
              "\n",
              "// Listen for the removal of the full notebook cells\n",
              "var notebookContainer = gd.closest('#notebook-container');\n",
              "if (notebookContainer) {{\n",
              "    x.observe(notebookContainer, {childList: true});\n",
              "}}\n",
              "\n",
              "// Listen for the clearing of the current output cell\n",
              "var outputEl = gd.closest('.output');\n",
              "if (outputEl) {{\n",
              "    x.observe(outputEl, {childList: true});\n",
              "}}\n",
              "\n",
              "                        })                };                            </script>        </div>\n",
              "</body>\n",
              "</html>"
            ]
          },
          "metadata": {}
        },
        {
          "output_type": "display_data",
          "data": {
            "text/html": [
              "<html>\n",
              "<head><meta charset=\"utf-8\" /></head>\n",
              "<body>\n",
              "    <div>            <script src=\"https://cdnjs.cloudflare.com/ajax/libs/mathjax/2.7.5/MathJax.js?config=TeX-AMS-MML_SVG\"></script><script type=\"text/javascript\">if (window.MathJax) {MathJax.Hub.Config({SVG: {font: \"STIX-Web\"}});}</script>                <script type=\"text/javascript\">window.PlotlyConfig = {MathJaxConfig: 'local'};</script>\n",
              "        <script src=\"https://cdn.plot.ly/plotly-2.8.3.min.js\"></script>                <div id=\"31c75400-4ab0-434c-b238-a2dc0c4cf54d\" class=\"plotly-graph-div\" style=\"height:525px; width:100%;\"></div>            <script type=\"text/javascript\">                                    window.PLOTLYENV=window.PLOTLYENV || {};                                    if (document.getElementById(\"31c75400-4ab0-434c-b238-a2dc0c4cf54d\")) {                    Plotly.newPlot(                        \"31c75400-4ab0-434c-b238-a2dc0c4cf54d\",                        [{\"alignmentgroup\":\"True\",\"hovertemplate\":\"Incident_Type=Level 1 - Use of Force<br>Hour=%{x}<br>Quantidade=%{y}<extra></extra>\",\"legendgroup\":\"Level 1 - Use of Force\",\"marker\":{\"color\":\"#636efa\",\"pattern\":{\"shape\":\"\"}},\"name\":\"Level 1 - Use of Force\",\"offsetgroup\":\"Level 1 - Use of Force\",\"orientation\":\"v\",\"showlegend\":true,\"textposition\":\"auto\",\"x\":[0,1,2,3,4,5,6,7,8,9,10,11,12,13,14,15,16,17,18,19,20,21,22,23],\"xaxis\":\"x\",\"y\":[534,498,393,245,222,186,158,148,163,175,203,235,390,514,484,487,517,491,430,430,750,599,628,554],\"yaxis\":\"y\",\"type\":\"bar\"},{\"alignmentgroup\":\"True\",\"hovertemplate\":\"Incident_Type=Level 2 - Use of Force<br>Hour=%{x}<br>Quantidade=%{y}<extra></extra>\",\"legendgroup\":\"Level 2 - Use of Force\",\"marker\":{\"color\":\"#EF553B\",\"pattern\":{\"shape\":\"\"}},\"name\":\"Level 2 - Use of Force\",\"offsetgroup\":\"Level 2 - Use of Force\",\"orientation\":\"v\",\"showlegend\":true,\"textposition\":\"auto\",\"x\":[0,1,2,3,4,5,6,7,8,9,10,11,12,13,14,15,16,17,18,19,20,21,22,23],\"xaxis\":\"x\",\"y\":[186,156,144,61,62,40,35,54,54,38,106,110,152,152,220,239,322,203,202,205,229,243,231,221],\"yaxis\":\"y\",\"type\":\"bar\"},{\"alignmentgroup\":\"True\",\"hovertemplate\":\"Incident_Type=Level 3 - OIS<br>Hour=%{x}<br>Quantidade=%{y}<extra></extra>\",\"legendgroup\":\"Level 3 - OIS\",\"marker\":{\"color\":\"#00cc96\",\"pattern\":{\"shape\":\"\"}},\"name\":\"Level 3 - OIS\",\"offsetgroup\":\"Level 3 - OIS\",\"orientation\":\"v\",\"showlegend\":true,\"textposition\":\"auto\",\"x\":[0,1,2,3,4,5,9,11,12,13,14,15,16,17,19,20,21,22,23],\"xaxis\":\"x\",\"y\":[2,1,2,5,4,1,2,1,2,13,6,3,2,1,8,2,27,6,5],\"yaxis\":\"y\",\"type\":\"bar\"},{\"alignmentgroup\":\"True\",\"hovertemplate\":\"Incident_Type=Level 3 - Use of Force<br>Hour=%{x}<br>Quantidade=%{y}<extra></extra>\",\"legendgroup\":\"Level 3 - Use of Force\",\"marker\":{\"color\":\"#ab63fa\",\"pattern\":{\"shape\":\"\"}},\"name\":\"Level 3 - Use of Force\",\"offsetgroup\":\"Level 3 - Use of Force\",\"orientation\":\"v\",\"showlegend\":true,\"textposition\":\"auto\",\"x\":[0,1,2,4,5,6,7,9,11,12,13,15,16,17,18,19,20,21,22,23],\"xaxis\":\"x\",\"y\":[7,6,3,3,5,2,11,2,9,11,6,7,6,6,4,8,8,4,5,8],\"yaxis\":\"y\",\"type\":\"bar\"}],                        {\"template\":{\"data\":{\"bar\":[{\"error_x\":{\"color\":\"#2a3f5f\"},\"error_y\":{\"color\":\"#2a3f5f\"},\"marker\":{\"line\":{\"color\":\"#E5ECF6\",\"width\":0.5},\"pattern\":{\"fillmode\":\"overlay\",\"size\":10,\"solidity\":0.2}},\"type\":\"bar\"}],\"barpolar\":[{\"marker\":{\"line\":{\"color\":\"#E5ECF6\",\"width\":0.5},\"pattern\":{\"fillmode\":\"overlay\",\"size\":10,\"solidity\":0.2}},\"type\":\"barpolar\"}],\"carpet\":[{\"aaxis\":{\"endlinecolor\":\"#2a3f5f\",\"gridcolor\":\"white\",\"linecolor\":\"white\",\"minorgridcolor\":\"white\",\"startlinecolor\":\"#2a3f5f\"},\"baxis\":{\"endlinecolor\":\"#2a3f5f\",\"gridcolor\":\"white\",\"linecolor\":\"white\",\"minorgridcolor\":\"white\",\"startlinecolor\":\"#2a3f5f\"},\"type\":\"carpet\"}],\"choropleth\":[{\"colorbar\":{\"outlinewidth\":0,\"ticks\":\"\"},\"type\":\"choropleth\"}],\"contour\":[{\"colorbar\":{\"outlinewidth\":0,\"ticks\":\"\"},\"colorscale\":[[0.0,\"#0d0887\"],[0.1111111111111111,\"#46039f\"],[0.2222222222222222,\"#7201a8\"],[0.3333333333333333,\"#9c179e\"],[0.4444444444444444,\"#bd3786\"],[0.5555555555555556,\"#d8576b\"],[0.6666666666666666,\"#ed7953\"],[0.7777777777777778,\"#fb9f3a\"],[0.8888888888888888,\"#fdca26\"],[1.0,\"#f0f921\"]],\"type\":\"contour\"}],\"contourcarpet\":[{\"colorbar\":{\"outlinewidth\":0,\"ticks\":\"\"},\"type\":\"contourcarpet\"}],\"heatmap\":[{\"colorbar\":{\"outlinewidth\":0,\"ticks\":\"\"},\"colorscale\":[[0.0,\"#0d0887\"],[0.1111111111111111,\"#46039f\"],[0.2222222222222222,\"#7201a8\"],[0.3333333333333333,\"#9c179e\"],[0.4444444444444444,\"#bd3786\"],[0.5555555555555556,\"#d8576b\"],[0.6666666666666666,\"#ed7953\"],[0.7777777777777778,\"#fb9f3a\"],[0.8888888888888888,\"#fdca26\"],[1.0,\"#f0f921\"]],\"type\":\"heatmap\"}],\"heatmapgl\":[{\"colorbar\":{\"outlinewidth\":0,\"ticks\":\"\"},\"colorscale\":[[0.0,\"#0d0887\"],[0.1111111111111111,\"#46039f\"],[0.2222222222222222,\"#7201a8\"],[0.3333333333333333,\"#9c179e\"],[0.4444444444444444,\"#bd3786\"],[0.5555555555555556,\"#d8576b\"],[0.6666666666666666,\"#ed7953\"],[0.7777777777777778,\"#fb9f3a\"],[0.8888888888888888,\"#fdca26\"],[1.0,\"#f0f921\"]],\"type\":\"heatmapgl\"}],\"histogram\":[{\"marker\":{\"pattern\":{\"fillmode\":\"overlay\",\"size\":10,\"solidity\":0.2}},\"type\":\"histogram\"}],\"histogram2d\":[{\"colorbar\":{\"outlinewidth\":0,\"ticks\":\"\"},\"colorscale\":[[0.0,\"#0d0887\"],[0.1111111111111111,\"#46039f\"],[0.2222222222222222,\"#7201a8\"],[0.3333333333333333,\"#9c179e\"],[0.4444444444444444,\"#bd3786\"],[0.5555555555555556,\"#d8576b\"],[0.6666666666666666,\"#ed7953\"],[0.7777777777777778,\"#fb9f3a\"],[0.8888888888888888,\"#fdca26\"],[1.0,\"#f0f921\"]],\"type\":\"histogram2d\"}],\"histogram2dcontour\":[{\"colorbar\":{\"outlinewidth\":0,\"ticks\":\"\"},\"colorscale\":[[0.0,\"#0d0887\"],[0.1111111111111111,\"#46039f\"],[0.2222222222222222,\"#7201a8\"],[0.3333333333333333,\"#9c179e\"],[0.4444444444444444,\"#bd3786\"],[0.5555555555555556,\"#d8576b\"],[0.6666666666666666,\"#ed7953\"],[0.7777777777777778,\"#fb9f3a\"],[0.8888888888888888,\"#fdca26\"],[1.0,\"#f0f921\"]],\"type\":\"histogram2dcontour\"}],\"mesh3d\":[{\"colorbar\":{\"outlinewidth\":0,\"ticks\":\"\"},\"type\":\"mesh3d\"}],\"parcoords\":[{\"line\":{\"colorbar\":{\"outlinewidth\":0,\"ticks\":\"\"}},\"type\":\"parcoords\"}],\"pie\":[{\"automargin\":true,\"type\":\"pie\"}],\"scatter\":[{\"marker\":{\"colorbar\":{\"outlinewidth\":0,\"ticks\":\"\"}},\"type\":\"scatter\"}],\"scatter3d\":[{\"line\":{\"colorbar\":{\"outlinewidth\":0,\"ticks\":\"\"}},\"marker\":{\"colorbar\":{\"outlinewidth\":0,\"ticks\":\"\"}},\"type\":\"scatter3d\"}],\"scattercarpet\":[{\"marker\":{\"colorbar\":{\"outlinewidth\":0,\"ticks\":\"\"}},\"type\":\"scattercarpet\"}],\"scattergeo\":[{\"marker\":{\"colorbar\":{\"outlinewidth\":0,\"ticks\":\"\"}},\"type\":\"scattergeo\"}],\"scattergl\":[{\"marker\":{\"colorbar\":{\"outlinewidth\":0,\"ticks\":\"\"}},\"type\":\"scattergl\"}],\"scattermapbox\":[{\"marker\":{\"colorbar\":{\"outlinewidth\":0,\"ticks\":\"\"}},\"type\":\"scattermapbox\"}],\"scatterpolar\":[{\"marker\":{\"colorbar\":{\"outlinewidth\":0,\"ticks\":\"\"}},\"type\":\"scatterpolar\"}],\"scatterpolargl\":[{\"marker\":{\"colorbar\":{\"outlinewidth\":0,\"ticks\":\"\"}},\"type\":\"scatterpolargl\"}],\"scatterternary\":[{\"marker\":{\"colorbar\":{\"outlinewidth\":0,\"ticks\":\"\"}},\"type\":\"scatterternary\"}],\"surface\":[{\"colorbar\":{\"outlinewidth\":0,\"ticks\":\"\"},\"colorscale\":[[0.0,\"#0d0887\"],[0.1111111111111111,\"#46039f\"],[0.2222222222222222,\"#7201a8\"],[0.3333333333333333,\"#9c179e\"],[0.4444444444444444,\"#bd3786\"],[0.5555555555555556,\"#d8576b\"],[0.6666666666666666,\"#ed7953\"],[0.7777777777777778,\"#fb9f3a\"],[0.8888888888888888,\"#fdca26\"],[1.0,\"#f0f921\"]],\"type\":\"surface\"}],\"table\":[{\"cells\":{\"fill\":{\"color\":\"#EBF0F8\"},\"line\":{\"color\":\"white\"}},\"header\":{\"fill\":{\"color\":\"#C8D4E3\"},\"line\":{\"color\":\"white\"}},\"type\":\"table\"}]},\"layout\":{\"annotationdefaults\":{\"arrowcolor\":\"#2a3f5f\",\"arrowhead\":0,\"arrowwidth\":1},\"autotypenumbers\":\"strict\",\"coloraxis\":{\"colorbar\":{\"outlinewidth\":0,\"ticks\":\"\"}},\"colorscale\":{\"diverging\":[[0,\"#8e0152\"],[0.1,\"#c51b7d\"],[0.2,\"#de77ae\"],[0.3,\"#f1b6da\"],[0.4,\"#fde0ef\"],[0.5,\"#f7f7f7\"],[0.6,\"#e6f5d0\"],[0.7,\"#b8e186\"],[0.8,\"#7fbc41\"],[0.9,\"#4d9221\"],[1,\"#276419\"]],\"sequential\":[[0.0,\"#0d0887\"],[0.1111111111111111,\"#46039f\"],[0.2222222222222222,\"#7201a8\"],[0.3333333333333333,\"#9c179e\"],[0.4444444444444444,\"#bd3786\"],[0.5555555555555556,\"#d8576b\"],[0.6666666666666666,\"#ed7953\"],[0.7777777777777778,\"#fb9f3a\"],[0.8888888888888888,\"#fdca26\"],[1.0,\"#f0f921\"]],\"sequentialminus\":[[0.0,\"#0d0887\"],[0.1111111111111111,\"#46039f\"],[0.2222222222222222,\"#7201a8\"],[0.3333333333333333,\"#9c179e\"],[0.4444444444444444,\"#bd3786\"],[0.5555555555555556,\"#d8576b\"],[0.6666666666666666,\"#ed7953\"],[0.7777777777777778,\"#fb9f3a\"],[0.8888888888888888,\"#fdca26\"],[1.0,\"#f0f921\"]]},\"colorway\":[\"#636efa\",\"#EF553B\",\"#00cc96\",\"#ab63fa\",\"#FFA15A\",\"#19d3f3\",\"#FF6692\",\"#B6E880\",\"#FF97FF\",\"#FECB52\"],\"font\":{\"color\":\"#2a3f5f\"},\"geo\":{\"bgcolor\":\"white\",\"lakecolor\":\"white\",\"landcolor\":\"#E5ECF6\",\"showlakes\":true,\"showland\":true,\"subunitcolor\":\"white\"},\"hoverlabel\":{\"align\":\"left\"},\"hovermode\":\"closest\",\"mapbox\":{\"style\":\"light\"},\"paper_bgcolor\":\"white\",\"plot_bgcolor\":\"#E5ECF6\",\"polar\":{\"angularaxis\":{\"gridcolor\":\"white\",\"linecolor\":\"white\",\"ticks\":\"\"},\"bgcolor\":\"#E5ECF6\",\"radialaxis\":{\"gridcolor\":\"white\",\"linecolor\":\"white\",\"ticks\":\"\"}},\"scene\":{\"xaxis\":{\"backgroundcolor\":\"#E5ECF6\",\"gridcolor\":\"white\",\"gridwidth\":2,\"linecolor\":\"white\",\"showbackground\":true,\"ticks\":\"\",\"zerolinecolor\":\"white\"},\"yaxis\":{\"backgroundcolor\":\"#E5ECF6\",\"gridcolor\":\"white\",\"gridwidth\":2,\"linecolor\":\"white\",\"showbackground\":true,\"ticks\":\"\",\"zerolinecolor\":\"white\"},\"zaxis\":{\"backgroundcolor\":\"#E5ECF6\",\"gridcolor\":\"white\",\"gridwidth\":2,\"linecolor\":\"white\",\"showbackground\":true,\"ticks\":\"\",\"zerolinecolor\":\"white\"}},\"shapedefaults\":{\"line\":{\"color\":\"#2a3f5f\"}},\"ternary\":{\"aaxis\":{\"gridcolor\":\"white\",\"linecolor\":\"white\",\"ticks\":\"\"},\"baxis\":{\"gridcolor\":\"white\",\"linecolor\":\"white\",\"ticks\":\"\"},\"bgcolor\":\"#E5ECF6\",\"caxis\":{\"gridcolor\":\"white\",\"linecolor\":\"white\",\"ticks\":\"\"}},\"title\":{\"x\":0.05},\"xaxis\":{\"automargin\":true,\"gridcolor\":\"white\",\"linecolor\":\"white\",\"ticks\":\"\",\"title\":{\"standoff\":15},\"zerolinecolor\":\"white\",\"zerolinewidth\":2},\"yaxis\":{\"automargin\":true,\"gridcolor\":\"white\",\"linecolor\":\"white\",\"ticks\":\"\",\"title\":{\"standoff\":15},\"zerolinecolor\":\"white\",\"zerolinewidth\":2}}},\"xaxis\":{\"anchor\":\"y\",\"domain\":[0.0,1.0],\"title\":{\"text\":\"Hour\"}},\"yaxis\":{\"anchor\":\"x\",\"domain\":[0.0,1.0],\"title\":{\"text\":\"Quantidade\"}},\"legend\":{\"title\":{\"text\":\"Incident_Type\"},\"tracegroupgap\":0},\"title\":{\"text\":\"Quantidade de aplica\\u00e7\\u00e3o do uso de for\\u00e7a por hora de 2014 a 2019\"},\"barmode\":\"relative\"},                        {\"responsive\": true}                    ).then(function(){\n",
              "                            \n",
              "var gd = document.getElementById('31c75400-4ab0-434c-b238-a2dc0c4cf54d');\n",
              "var x = new MutationObserver(function (mutations, observer) {{\n",
              "        var display = window.getComputedStyle(gd).display;\n",
              "        if (!display || display === 'none') {{\n",
              "            console.log([gd, 'removed!']);\n",
              "            Plotly.purge(gd);\n",
              "            observer.disconnect();\n",
              "        }}\n",
              "}});\n",
              "\n",
              "// Listen for the removal of the full notebook cells\n",
              "var notebookContainer = gd.closest('#notebook-container');\n",
              "if (notebookContainer) {{\n",
              "    x.observe(notebookContainer, {childList: true});\n",
              "}}\n",
              "\n",
              "// Listen for the clearing of the current output cell\n",
              "var outputEl = gd.closest('.output');\n",
              "if (outputEl) {{\n",
              "    x.observe(outputEl, {childList: true});\n",
              "}}\n",
              "\n",
              "                        })                };                            </script>        </div>\n",
              "</body>\n",
              "</html>"
            ]
          },
          "metadata": {}
        }
      ]
    },
    {
      "cell_type": "markdown",
      "source": [
        "* O gráfico iterativo mostra o uso de força ao longo dos anos. Observa-se que no ano em que o Level 2 do uso de força foi utilizado de forma massiva, houve a diminuição do número de incidentes criminais no ano seguinte. poderemos observar isso melhor quando lidarmos com a análise anual.\n",
        "\n",
        "* O gráfico geral, mostra que a proporção do uso de força Level 2 foi maior no turno da noite no período de 2014 a 2022."
      ],
      "metadata": {
        "id": "HDkeBQ8jthZ2"
      }
    },
    {
      "cell_type": "markdown",
      "source": [
        "##### **Procurando tendências para incidentes durante os dias da semana**"
      ],
      "metadata": {
        "id": "JTJNuor2IMVP"
      }
    },
    {
      "cell_type": "code",
      "source": [
        "days_name = ['Monday', 'Tuesday', 'Wednesday', 'Thursday', 'Friday', 'Saturday', 'Sunday'] # dias da semana\n",
        "ptbr_days_name = ['Segunda-Feira', 'Terça-Feira', 'Quarta-feira', 'Quinta-Feira', 'Sexta-Feira', 'Sábado', 'Domingo'] # apenas para xlabel do gráfico\n",
        "\n",
        "incidents_by_day = incidents_num_by_feature(days_name,'Day', incidents_data)\n",
        "\n",
        "day = pd.DataFrame({'Day':ptbr_days_name,\n",
        "                    'total_of_incidents':incidents_by_day,\n",
        "                    })\n",
        "\n",
        "fig, ax1 = plt.subplots(figsize=(10,6))\n",
        "sns.set_theme(style='darkgrid')\n",
        "sns.barplot(data=day, x='Day', y='total_of_incidents', color='salmon')\n",
        "plt.title(\"Distribuição de incidências criminais ao longo da semana durante o período de 2014 a 2022\")\n",
        "plt.ylabel(\"Total de incidências\")\n",
        "plt.xlabel('Dia da semana')\n",
        "\n",
        "\n",
        "plt.show()"
      ],
      "metadata": {
        "colab": {
          "base_uri": "https://localhost:8080/",
          "height": 410
        },
        "id": "im3Ww7U9JRR_",
        "outputId": "172ac3bc-1a73-4e42-9318-1a69af04e24f"
      },
      "execution_count": null,
      "outputs": [
        {
          "output_type": "display_data",
          "data": {
            "text/plain": [
              "<Figure size 720x432 with 1 Axes>"
            ],
            "image/png": "[encoded data removed]"
          },
          "metadata": {}
        }
      ]
    },
    {
      "cell_type": "markdown",
      "source": [
        "**Conforme o gráfico acima, podemos ver que ao longo dos últimos 9 anos:**\n",
        "*  **As incidências de crime durante a semana são distribuídas, em média, igualitariamente, com um leve pico aos sábados**\n"
      ],
      "metadata": {
        "id": "43RW_VqB7Gsu"
      }
    },
    {
      "cell_type": "code",
      "source": [
        "force = incidents_data.groupby(['Incident_Type', 'Day','Year']).count()\n",
        "force = force.reset_index(level=['Incident_Type', 'Day','Year'])\n",
        "force.drop(['Month'], axis=1, inplace=True)\n",
        "force.rename(columns={'Hour': 'Quantidade'}, inplace = True)\n",
        "\n",
        "force_total = incidents_data.groupby(['Incident_Type', 'Day']).count()\n",
        "force_total = force_total.reset_index(level=['Incident_Type', 'Day'])\n",
        "force_total.drop(['Month', 'Year'], axis=1, inplace=True)\n",
        "force_total.rename(columns={'Hour': 'Quantidade'}, inplace = True) \n",
        "\n",
        "\n",
        "fig = px.bar(force, x='Day', y='Quantidade', color='Incident_Type', animation_frame='Year', title='Quantidade de aplicação do uso de força por dia no ano')\n",
        "fig.show()\n",
        "\n",
        "fig2 = px.bar(force_total, x='Day', y='Quantidade', color='Incident_Type', title='Quantidade de aplicação do uso de força por dia de 2014 a 2019')\n",
        "fig2.show() "
      ],
      "metadata": {
        "colab": {
          "base_uri": "https://localhost:8080/",
          "height": 1000
        },
        "id": "JPM-nONnylPO",
        "outputId": "8cfb10c6-bccf-426e-93a4-4ad854adb9f0"
      },
      "execution_count": null,
      "outputs": [
        {
          "output_type": "display_data",
          "data": {
            "text/html": [
              "<html>\n",
              "<head><meta charset=\"utf-8\" /></head>\n",
              "<body>\n",
              "    <div>            <script src=\"https://cdnjs.cloudflare.com/ajax/libs/mathjax/2.7.5/MathJax.js?config=TeX-AMS-MML_SVG\"></script><script type=\"text/javascript\">if (window.MathJax) {MathJax.Hub.Config({SVG: {font: \"STIX-Web\"}});}</script>                <script type=\"text/javascript\">window.PlotlyConfig = {MathJaxConfig: 'local'};</script>\n",
              "        <script src=\"https://cdn.plot.ly/plotly-2.8.3.min.js\"></script>                <div id=\"d52c6bd7-36e7-450e-96d8-ab84705b7ad7\" class=\"plotly-graph-div\" style=\"height:525px; width:100%;\"></div>            <script type=\"text/javascript\">                                    window.PLOTLYENV=window.PLOTLYENV || {};                                    if (document.getElementById(\"d52c6bd7-36e7-450e-96d8-ab84705b7ad7\")) {                    Plotly.newPlot(                        \"d52c6bd7-36e7-450e-96d8-ab84705b7ad7\",                        [{\"alignmentgroup\":\"True\",\"hovertemplate\":\"Incident_Type=Level 1 - Use of Force<br>Year=2014<br>Day=%{x}<br>Quantidade=%{y}<extra></extra>\",\"legendgroup\":\"Level 1 - Use of Force\",\"marker\":{\"color\":\"#636efa\",\"pattern\":{\"shape\":\"\"}},\"name\":\"Level 1 - Use of Force\",\"offsetgroup\":\"Level 1 - Use of Force\",\"orientation\":\"v\",\"showlegend\":true,\"textposition\":\"auto\",\"x\":[\"Friday\",\"Monday\",\"Saturday\",\"Sunday\",\"Thursday\",\"Tuesday\",\"Wednesday\"],\"xaxis\":\"x\",\"y\":[143,123,196,146,178,161,179],\"yaxis\":\"y\",\"type\":\"bar\"},{\"alignmentgroup\":\"True\",\"hovertemplate\":\"Incident_Type=Level 2 - Use of Force<br>Year=2014<br>Day=%{x}<br>Quantidade=%{y}<extra></extra>\",\"legendgroup\":\"Level 2 - Use of Force\",\"marker\":{\"color\":\"#EF553B\",\"pattern\":{\"shape\":\"\"}},\"name\":\"Level 2 - Use of Force\",\"offsetgroup\":\"Level 2 - Use of Force\",\"orientation\":\"v\",\"showlegend\":true,\"textposition\":\"auto\",\"x\":[\"Friday\",\"Monday\",\"Saturday\",\"Sunday\",\"Thursday\",\"Tuesday\",\"Wednesday\"],\"xaxis\":\"x\",\"y\":[47,58,81,88,95,66,63],\"yaxis\":\"y\",\"type\":\"bar\"},{\"alignmentgroup\":\"True\",\"hovertemplate\":\"Incident_Type=Level 3 - OIS<br>Year=2014<br>Day=%{x}<br>Quantidade=%{y}<extra></extra>\",\"legendgroup\":\"Level 3 - OIS\",\"marker\":{\"color\":\"#00cc96\",\"pattern\":{\"shape\":\"\"}},\"name\":\"Level 3 - OIS\",\"offsetgroup\":\"Level 3 - OIS\",\"orientation\":\"v\",\"showlegend\":true,\"textposition\":\"auto\",\"x\":[\"Saturday\",\"Thursday\",\"Tuesday\",\"Wednesday\"],\"xaxis\":\"x\",\"y\":[3,2,1,17],\"yaxis\":\"y\",\"type\":\"bar\"},{\"alignmentgroup\":\"True\",\"hovertemplate\":\"Incident_Type=Level 3 - Use of Force<br>Year=2014<br>Day=%{x}<br>Quantidade=%{y}<extra></extra>\",\"legendgroup\":\"Level 3 - Use of Force\",\"marker\":{\"color\":\"#ab63fa\",\"pattern\":{\"shape\":\"\"}},\"name\":\"Level 3 - Use of Force\",\"offsetgroup\":\"Level 3 - Use of Force\",\"orientation\":\"v\",\"showlegend\":true,\"textposition\":\"auto\",\"x\":[\"Friday\",\"Monday\",\"Saturday\",\"Sunday\",\"Thursday\",\"Tuesday\",\"Wednesday\"],\"xaxis\":\"x\",\"y\":[1,8,3,4,2,2,4],\"yaxis\":\"y\",\"type\":\"bar\"}],                        {\"template\":{\"data\":{\"bar\":[{\"error_x\":{\"color\":\"#2a3f5f\"},\"error_y\":{\"color\":\"#2a3f5f\"},\"marker\":{\"line\":{\"color\":\"#E5ECF6\",\"width\":0.5},\"pattern\":{\"fillmode\":\"overlay\",\"size\":10,\"solidity\":0.2}},\"type\":\"bar\"}],\"barpolar\":[{\"marker\":{\"line\":{\"color\":\"#E5ECF6\",\"width\":0.5},\"pattern\":{\"fillmode\":\"overlay\",\"size\":10,\"solidity\":0.2}},\"type\":\"barpolar\"}],\"carpet\":[{\"aaxis\":{\"endlinecolor\":\"#2a3f5f\",\"gridcolor\":\"white\",\"linecolor\":\"white\",\"minorgridcolor\":\"white\",\"startlinecolor\":\"#2a3f5f\"},\"baxis\":{\"endlinecolor\":\"#2a3f5f\",\"gridcolor\":\"white\",\"linecolor\":\"white\",\"minorgridcolor\":\"white\",\"startlinecolor\":\"#2a3f5f\"},\"type\":\"carpet\"}],\"choropleth\":[{\"colorbar\":{\"outlinewidth\":0,\"ticks\":\"\"},\"type\":\"choropleth\"}],\"contour\":[{\"colorbar\":{\"outlinewidth\":0,\"ticks\":\"\"},\"colorscale\":[[0.0,\"#0d0887\"],[0.1111111111111111,\"#46039f\"],[0.2222222222222222,\"#7201a8\"],[0.3333333333333333,\"#9c179e\"],[0.4444444444444444,\"#bd3786\"],[0.5555555555555556,\"#d8576b\"],[0.6666666666666666,\"#ed7953\"],[0.7777777777777778,\"#fb9f3a\"],[0.8888888888888888,\"#fdca26\"],[1.0,\"#f0f921\"]],\"type\":\"contour\"}],\"contourcarpet\":[{\"colorbar\":{\"outlinewidth\":0,\"ticks\":\"\"},\"type\":\"contourcarpet\"}],\"heatmap\":[{\"colorbar\":{\"outlinewidth\":0,\"ticks\":\"\"},\"colorscale\":[[0.0,\"#0d0887\"],[0.1111111111111111,\"#46039f\"],[0.2222222222222222,\"#7201a8\"],[0.3333333333333333,\"#9c179e\"],[0.4444444444444444,\"#bd3786\"],[0.5555555555555556,\"#d8576b\"],[0.6666666666666666,\"#ed7953\"],[0.7777777777777778,\"#fb9f3a\"],[0.8888888888888888,\"#fdca26\"],[1.0,\"#f0f921\"]],\"type\":\"heatmap\"}],\"heatmapgl\":[{\"colorbar\":{\"outlinewidth\":0,\"ticks\":\"\"},\"colorscale\":[[0.0,\"#0d0887\"],[0.1111111111111111,\"#46039f\"],[0.2222222222222222,\"#7201a8\"],[0.3333333333333333,\"#9c179e\"],[0.4444444444444444,\"#bd3786\"],[0.5555555555555556,\"#d8576b\"],[0.6666666666666666,\"#ed7953\"],[0.7777777777777778,\"#fb9f3a\"],[0.8888888888888888,\"#fdca26\"],[1.0,\"#f0f921\"]],\"type\":\"heatmapgl\"}],\"histogram\":[{\"marker\":{\"pattern\":{\"fillmode\":\"overlay\",\"size\":10,\"solidity\":0.2}},\"type\":\"histogram\"}],\"histogram2d\":[{\"colorbar\":{\"outlinewidth\":0,\"ticks\":\"\"},\"colorscale\":[[0.0,\"#0d0887\"],[0.1111111111111111,\"#46039f\"],[0.2222222222222222,\"#7201a8\"],[0.3333333333333333,\"#9c179e\"],[0.4444444444444444,\"#bd3786\"],[0.5555555555555556,\"#d8576b\"],[0.6666666666666666,\"#ed7953\"],[0.7777777777777778,\"#fb9f3a\"],[0.8888888888888888,\"#fdca26\"],[1.0,\"#f0f921\"]],\"type\":\"histogram2d\"}],\"histogram2dcontour\":[{\"colorbar\":{\"outlinewidth\":0,\"ticks\":\"\"},\"colorscale\":[[0.0,\"#0d0887\"],[0.1111111111111111,\"#46039f\"],[0.2222222222222222,\"#7201a8\"],[0.3333333333333333,\"#9c179e\"],[0.4444444444444444,\"#bd3786\"],[0.5555555555555556,\"#d8576b\"],[0.6666666666666666,\"#ed7953\"],[0.7777777777777778,\"#fb9f3a\"],[0.8888888888888888,\"#fdca26\"],[1.0,\"#f0f921\"]],\"type\":\"histogram2dcontour\"}],\"mesh3d\":[{\"colorbar\":{\"outlinewidth\":0,\"ticks\":\"\"},\"type\":\"mesh3d\"}],\"parcoords\":[{\"line\":{\"colorbar\":{\"outlinewidth\":0,\"ticks\":\"\"}},\"type\":\"parcoords\"}],\"pie\":[{\"automargin\":true,\"type\":\"pie\"}],\"scatter\":[{\"marker\":{\"colorbar\":{\"outlinewidth\":0,\"ticks\":\"\"}},\"type\":\"scatter\"}],\"scatter3d\":[{\"line\":{\"colorbar\":{\"outlinewidth\":0,\"ticks\":\"\"}},\"marker\":{\"colorbar\":{\"outlinewidth\":0,\"ticks\":\"\"}},\"type\":\"scatter3d\"}],\"scattercarpet\":[{\"marker\":{\"colorbar\":{\"outlinewidth\":0,\"ticks\":\"\"}},\"type\":\"scattercarpet\"}],\"scattergeo\":[{\"marker\":{\"colorbar\":{\"outlinewidth\":0,\"ticks\":\"\"}},\"type\":\"scattergeo\"}],\"scattergl\":[{\"marker\":{\"colorbar\":{\"outlinewidth\":0,\"ticks\":\"\"}},\"type\":\"scattergl\"}],\"scattermapbox\":[{\"marker\":{\"colorbar\":{\"outlinewidth\":0,\"ticks\":\"\"}},\"type\":\"scattermapbox\"}],\"scatterpolar\":[{\"marker\":{\"colorbar\":{\"outlinewidth\":0,\"ticks\":\"\"}},\"type\":\"scatterpolar\"}],\"scatterpolargl\":[{\"marker\":{\"colorbar\":{\"outlinewidth\":0,\"ticks\":\"\"}},\"type\":\"scatterpolargl\"}],\"scatterternary\":[{\"marker\":{\"colorbar\":{\"outlinewidth\":0,\"ticks\":\"\"}},\"type\":\"scatterternary\"}],\"surface\":[{\"colorbar\":{\"outlinewidth\":0,\"ticks\":\"\"},\"colorscale\":[[0.0,\"#0d0887\"],[0.1111111111111111,\"#46039f\"],[0.2222222222222222,\"#7201a8\"],[0.3333333333333333,\"#9c179e\"],[0.4444444444444444,\"#bd3786\"],[0.5555555555555556,\"#d8576b\"],[0.6666666666666666,\"#ed7953\"],[0.7777777777777778,\"#fb9f3a\"],[0.8888888888888888,\"#fdca26\"],[1.0,\"#f0f921\"]],\"type\":\"surface\"}],\"table\":[{\"cells\":{\"fill\":{\"color\":\"#EBF0F8\"},\"line\":{\"color\":\"white\"}},\"header\":{\"fill\":{\"color\":\"#C8D4E3\"},\"line\":{\"color\":\"white\"}},\"type\":\"table\"}]},\"layout\":{\"annotationdefaults\":{\"arrowcolor\":\"#2a3f5f\",\"arrowhead\":0,\"arrowwidth\":1},\"autotypenumbers\":\"strict\",\"coloraxis\":{\"colorbar\":{\"outlinewidth\":0,\"ticks\":\"\"}},\"colorscale\":{\"diverging\":[[0,\"#8e0152\"],[0.1,\"#c51b7d\"],[0.2,\"#de77ae\"],[0.3,\"#f1b6da\"],[0.4,\"#fde0ef\"],[0.5,\"#f7f7f7\"],[0.6,\"#e6f5d0\"],[0.7,\"#b8e186\"],[0.8,\"#7fbc41\"],[0.9,\"#4d9221\"],[1,\"#276419\"]],\"sequential\":[[0.0,\"#0d0887\"],[0.1111111111111111,\"#46039f\"],[0.2222222222222222,\"#7201a8\"],[0.3333333333333333,\"#9c179e\"],[0.4444444444444444,\"#bd3786\"],[0.5555555555555556,\"#d8576b\"],[0.6666666666666666,\"#ed7953\"],[0.7777777777777778,\"#fb9f3a\"],[0.8888888888888888,\"#fdca26\"],[1.0,\"#f0f921\"]],\"sequentialminus\":[[0.0,\"#0d0887\"],[0.1111111111111111,\"#46039f\"],[0.2222222222222222,\"#7201a8\"],[0.3333333333333333,\"#9c179e\"],[0.4444444444444444,\"#bd3786\"],[0.5555555555555556,\"#d8576b\"],[0.6666666666666666,\"#ed7953\"],[0.7777777777777778,\"#fb9f3a\"],[0.8888888888888888,\"#fdca26\"],[1.0,\"#f0f921\"]]},\"colorway\":[\"#636efa\",\"#EF553B\",\"#00cc96\",\"#ab63fa\",\"#FFA15A\",\"#19d3f3\",\"#FF6692\",\"#B6E880\",\"#FF97FF\",\"#FECB52\"],\"font\":{\"color\":\"#2a3f5f\"},\"geo\":{\"bgcolor\":\"white\",\"lakecolor\":\"white\",\"landcolor\":\"#E5ECF6\",\"showlakes\":true,\"showland\":true,\"subunitcolor\":\"white\"},\"hoverlabel\":{\"align\":\"left\"},\"hovermode\":\"closest\",\"mapbox\":{\"style\":\"light\"},\"paper_bgcolor\":\"white\",\"plot_bgcolor\":\"#E5ECF6\",\"polar\":{\"angularaxis\":{\"gridcolor\":\"white\",\"linecolor\":\"white\",\"ticks\":\"\"},\"bgcolor\":\"#E5ECF6\",\"radialaxis\":{\"gridcolor\":\"white\",\"linecolor\":\"white\",\"ticks\":\"\"}},\"scene\":{\"xaxis\":{\"backgroundcolor\":\"#E5ECF6\",\"gridcolor\":\"white\",\"gridwidth\":2,\"linecolor\":\"white\",\"showbackground\":true,\"ticks\":\"\",\"zerolinecolor\":\"white\"},\"yaxis\":{\"backgroundcolor\":\"#E5ECF6\",\"gridcolor\":\"white\",\"gridwidth\":2,\"linecolor\":\"white\",\"showbackground\":true,\"ticks\":\"\",\"zerolinecolor\":\"white\"},\"zaxis\":{\"backgroundcolor\":\"#E5ECF6\",\"gridcolor\":\"white\",\"gridwidth\":2,\"linecolor\":\"white\",\"showbackground\":true,\"ticks\":\"\",\"zerolinecolor\":\"white\"}},\"shapedefaults\":{\"line\":{\"color\":\"#2a3f5f\"}},\"ternary\":{\"aaxis\":{\"gridcolor\":\"white\",\"linecolor\":\"white\",\"ticks\":\"\"},\"baxis\":{\"gridcolor\":\"white\",\"linecolor\":\"white\",\"ticks\":\"\"},\"bgcolor\":\"#E5ECF6\",\"caxis\":{\"gridcolor\":\"white\",\"linecolor\":\"white\",\"ticks\":\"\"}},\"title\":{\"x\":0.05},\"xaxis\":{\"automargin\":true,\"gridcolor\":\"white\",\"linecolor\":\"white\",\"ticks\":\"\",\"title\":{\"standoff\":15},\"zerolinecolor\":\"white\",\"zerolinewidth\":2},\"yaxis\":{\"automargin\":true,\"gridcolor\":\"white\",\"linecolor\":\"white\",\"ticks\":\"\",\"title\":{\"standoff\":15},\"zerolinecolor\":\"white\",\"zerolinewidth\":2}}},\"xaxis\":{\"anchor\":\"y\",\"domain\":[0.0,1.0],\"title\":{\"text\":\"Day\"}},\"yaxis\":{\"anchor\":\"x\",\"domain\":[0.0,1.0],\"title\":{\"text\":\"Quantidade\"}},\"legend\":{\"title\":{\"text\":\"Incident_Type\"},\"tracegroupgap\":0},\"title\":{\"text\":\"Quantidade de aplica\\u00e7\\u00e3o do uso de for\\u00e7a por dia no ano\"},\"barmode\":\"relative\",\"updatemenus\":[{\"buttons\":[{\"args\":[null,{\"frame\":{\"duration\":500,\"redraw\":true},\"mode\":\"immediate\",\"fromcurrent\":true,\"transition\":{\"duration\":500,\"easing\":\"linear\"}}],\"label\":\"&#9654;\",\"method\":\"animate\"},{\"args\":[[null],{\"frame\":{\"duration\":0,\"redraw\":true},\"mode\":\"immediate\",\"fromcurrent\":true,\"transition\":{\"duration\":0,\"easing\":\"linear\"}}],\"label\":\"&#9724;\",\"method\":\"animate\"}],\"direction\":\"left\",\"pad\":{\"r\":10,\"t\":70},\"showactive\":false,\"type\":\"buttons\",\"x\":0.1,\"xanchor\":\"right\",\"y\":0,\"yanchor\":\"top\"}],\"sliders\":[{\"active\":0,\"currentvalue\":{\"prefix\":\"Year=\"},\"len\":0.9,\"pad\":{\"b\":10,\"t\":60},\"steps\":[{\"args\":[[\"2014\"],{\"frame\":{\"duration\":0,\"redraw\":true},\"mode\":\"immediate\",\"fromcurrent\":true,\"transition\":{\"duration\":0,\"easing\":\"linear\"}}],\"label\":\"2014\",\"method\":\"animate\"},{\"args\":[[\"2015\"],{\"frame\":{\"duration\":0,\"redraw\":true},\"mode\":\"immediate\",\"fromcurrent\":true,\"transition\":{\"duration\":0,\"easing\":\"linear\"}}],\"label\":\"2015\",\"method\":\"animate\"},{\"args\":[[\"2016\"],{\"frame\":{\"duration\":0,\"redraw\":true},\"mode\":\"immediate\",\"fromcurrent\":true,\"transition\":{\"duration\":0,\"easing\":\"linear\"}}],\"label\":\"2016\",\"method\":\"animate\"},{\"args\":[[\"2017\"],{\"frame\":{\"duration\":0,\"redraw\":true},\"mode\":\"immediate\",\"fromcurrent\":true,\"transition\":{\"duration\":0,\"easing\":\"linear\"}}],\"label\":\"2017\",\"method\":\"animate\"},{\"args\":[[\"2018\"],{\"frame\":{\"duration\":0,\"redraw\":true},\"mode\":\"immediate\",\"fromcurrent\":true,\"transition\":{\"duration\":0,\"easing\":\"linear\"}}],\"label\":\"2018\",\"method\":\"animate\"},{\"args\":[[\"2019\"],{\"frame\":{\"duration\":0,\"redraw\":true},\"mode\":\"immediate\",\"fromcurrent\":true,\"transition\":{\"duration\":0,\"easing\":\"linear\"}}],\"label\":\"2019\",\"method\":\"animate\"},{\"args\":[[\"2020\"],{\"frame\":{\"duration\":0,\"redraw\":true},\"mode\":\"immediate\",\"fromcurrent\":true,\"transition\":{\"duration\":0,\"easing\":\"linear\"}}],\"label\":\"2020\",\"method\":\"animate\"},{\"args\":[[\"2021\"],{\"frame\":{\"duration\":0,\"redraw\":true},\"mode\":\"immediate\",\"fromcurrent\":true,\"transition\":{\"duration\":0,\"easing\":\"linear\"}}],\"label\":\"2021\",\"method\":\"animate\"},{\"args\":[[\"2022\"],{\"frame\":{\"duration\":0,\"redraw\":true},\"mode\":\"immediate\",\"fromcurrent\":true,\"transition\":{\"duration\":0,\"easing\":\"linear\"}}],\"label\":\"2022\",\"method\":\"animate\"}],\"x\":0.1,\"xanchor\":\"left\",\"y\":0,\"yanchor\":\"top\"}]},                        {\"responsive\": true}                    ).then(function(){\n",
              "                            Plotly.addFrames('d52c6bd7-36e7-450e-96d8-ab84705b7ad7', [{\"data\":[{\"alignmentgroup\":\"True\",\"hovertemplate\":\"Incident_Type=Level 1 - Use of Force<br>Year=2014<br>Day=%{x}<br>Quantidade=%{y}<extra></extra>\",\"legendgroup\":\"Level 1 - Use of Force\",\"marker\":{\"color\":\"#636efa\",\"pattern\":{\"shape\":\"\"}},\"name\":\"Level 1 - Use of Force\",\"offsetgroup\":\"Level 1 - Use of Force\",\"orientation\":\"v\",\"showlegend\":true,\"textposition\":\"auto\",\"x\":[\"Friday\",\"Monday\",\"Saturday\",\"Sunday\",\"Thursday\",\"Tuesday\",\"Wednesday\"],\"xaxis\":\"x\",\"y\":[143,123,196,146,178,161,179],\"yaxis\":\"y\",\"type\":\"bar\"},{\"alignmentgroup\":\"True\",\"hovertemplate\":\"Incident_Type=Level 2 - Use of Force<br>Year=2014<br>Day=%{x}<br>Quantidade=%{y}<extra></extra>\",\"legendgroup\":\"Level 2 - Use of Force\",\"marker\":{\"color\":\"#EF553B\",\"pattern\":{\"shape\":\"\"}},\"name\":\"Level 2 - Use of Force\",\"offsetgroup\":\"Level 2 - Use of Force\",\"orientation\":\"v\",\"showlegend\":true,\"textposition\":\"auto\",\"x\":[\"Friday\",\"Monday\",\"Saturday\",\"Sunday\",\"Thursday\",\"Tuesday\",\"Wednesday\"],\"xaxis\":\"x\",\"y\":[47,58,81,88,95,66,63],\"yaxis\":\"y\",\"type\":\"bar\"},{\"alignmentgroup\":\"True\",\"hovertemplate\":\"Incident_Type=Level 3 - OIS<br>Year=2014<br>Day=%{x}<br>Quantidade=%{y}<extra></extra>\",\"legendgroup\":\"Level 3 - OIS\",\"marker\":{\"color\":\"#00cc96\",\"pattern\":{\"shape\":\"\"}},\"name\":\"Level 3 - OIS\",\"offsetgroup\":\"Level 3 - OIS\",\"orientation\":\"v\",\"showlegend\":true,\"textposition\":\"auto\",\"x\":[\"Saturday\",\"Thursday\",\"Tuesday\",\"Wednesday\"],\"xaxis\":\"x\",\"y\":[3,2,1,17],\"yaxis\":\"y\",\"type\":\"bar\"},{\"alignmentgroup\":\"True\",\"hovertemplate\":\"Incident_Type=Level 3 - Use of Force<br>Year=2014<br>Day=%{x}<br>Quantidade=%{y}<extra></extra>\",\"legendgroup\":\"Level 3 - Use of Force\",\"marker\":{\"color\":\"#ab63fa\",\"pattern\":{\"shape\":\"\"}},\"name\":\"Level 3 - Use of Force\",\"offsetgroup\":\"Level 3 - Use of Force\",\"orientation\":\"v\",\"showlegend\":true,\"textposition\":\"auto\",\"x\":[\"Friday\",\"Monday\",\"Saturday\",\"Sunday\",\"Thursday\",\"Tuesday\",\"Wednesday\"],\"xaxis\":\"x\",\"y\":[1,8,3,4,2,2,4],\"yaxis\":\"y\",\"type\":\"bar\"}],\"name\":\"2014\"},{\"data\":[{\"alignmentgroup\":\"True\",\"hovertemplate\":\"Incident_Type=Level 1 - Use of Force<br>Year=2015<br>Day=%{x}<br>Quantidade=%{y}<extra></extra>\",\"legendgroup\":\"Level 1 - Use of Force\",\"marker\":{\"color\":\"#636efa\",\"pattern\":{\"shape\":\"\"}},\"name\":\"Level 1 - Use of Force\",\"offsetgroup\":\"Level 1 - Use of Force\",\"orientation\":\"v\",\"showlegend\":true,\"textposition\":\"auto\",\"x\":[\"Friday\",\"Monday\",\"Saturday\",\"Sunday\",\"Thursday\",\"Tuesday\",\"Wednesday\"],\"xaxis\":\"x\",\"y\":[253,167,235,253,190,191,203],\"yaxis\":\"y\",\"type\":\"bar\"},{\"alignmentgroup\":\"True\",\"hovertemplate\":\"Incident_Type=Level 2 - Use of Force<br>Year=2015<br>Day=%{x}<br>Quantidade=%{y}<extra></extra>\",\"legendgroup\":\"Level 2 - Use of Force\",\"marker\":{\"color\":\"#EF553B\",\"pattern\":{\"shape\":\"\"}},\"name\":\"Level 2 - Use of Force\",\"offsetgroup\":\"Level 2 - Use of Force\",\"orientation\":\"v\",\"showlegend\":true,\"textposition\":\"auto\",\"x\":[\"Friday\",\"Monday\",\"Saturday\",\"Sunday\",\"Thursday\",\"Tuesday\",\"Wednesday\"],\"xaxis\":\"x\",\"y\":[98,62,84,73,28,64,57],\"yaxis\":\"y\",\"type\":\"bar\"},{\"alignmentgroup\":\"True\",\"hovertemplate\":\"Incident_Type=Level 3 - OIS<br>Year=2015<br>Day=%{x}<br>Quantidade=%{y}<extra></extra>\",\"legendgroup\":\"Level 3 - OIS\",\"marker\":{\"color\":\"#00cc96\",\"pattern\":{\"shape\":\"\"}},\"name\":\"Level 3 - OIS\",\"offsetgroup\":\"Level 3 - OIS\",\"orientation\":\"v\",\"showlegend\":true,\"textposition\":\"auto\",\"x\":[\"Friday\",\"Monday\",\"Sunday\",\"Tuesday\"],\"xaxis\":\"x\",\"y\":[1,1,11,2],\"yaxis\":\"y\",\"type\":\"bar\"},{\"alignmentgroup\":\"True\",\"hovertemplate\":\"Incident_Type=Level 3 - Use of Force<br>Year=2015<br>Day=%{x}<br>Quantidade=%{y}<extra></extra>\",\"legendgroup\":\"Level 3 - Use of Force\",\"marker\":{\"color\":\"#ab63fa\",\"pattern\":{\"shape\":\"\"}},\"name\":\"Level 3 - Use of Force\",\"offsetgroup\":\"Level 3 - Use of Force\",\"orientation\":\"v\",\"showlegend\":true,\"textposition\":\"auto\",\"x\":[\"Friday\",\"Saturday\",\"Sunday\",\"Thursday\",\"Tuesday\"],\"xaxis\":\"x\",\"y\":[1,1,10,6,2],\"yaxis\":\"y\",\"type\":\"bar\"}],\"name\":\"2015\"},{\"data\":[{\"alignmentgroup\":\"True\",\"hovertemplate\":\"Incident_Type=Level 1 - Use of Force<br>Year=2016<br>Day=%{x}<br>Quantidade=%{y}<extra></extra>\",\"legendgroup\":\"Level 1 - Use of Force\",\"marker\":{\"color\":\"#636efa\",\"pattern\":{\"shape\":\"\"}},\"name\":\"Level 1 - Use of Force\",\"offsetgroup\":\"Level 1 - Use of Force\",\"orientation\":\"v\",\"showlegend\":true,\"textposition\":\"auto\",\"x\":[\"Friday\",\"Monday\",\"Saturday\",\"Sunday\",\"Thursday\",\"Tuesday\",\"Wednesday\"],\"xaxis\":\"x\",\"y\":[178,155,164,186,162,160,139],\"yaxis\":\"y\",\"type\":\"bar\"},{\"alignmentgroup\":\"True\",\"hovertemplate\":\"Incident_Type=Level 2 - Use of Force<br>Year=2016<br>Day=%{x}<br>Quantidade=%{y}<extra></extra>\",\"legendgroup\":\"Level 2 - Use of Force\",\"marker\":{\"color\":\"#EF553B\",\"pattern\":{\"shape\":\"\"}},\"name\":\"Level 2 - Use of Force\",\"offsetgroup\":\"Level 2 - Use of Force\",\"orientation\":\"v\",\"showlegend\":true,\"textposition\":\"auto\",\"x\":[\"Friday\",\"Monday\",\"Saturday\",\"Sunday\",\"Thursday\",\"Tuesday\",\"Wednesday\"],\"xaxis\":\"x\",\"y\":[50,52,59,61,49,39,49],\"yaxis\":\"y\",\"type\":\"bar\"},{\"alignmentgroup\":\"True\",\"hovertemplate\":\"Incident_Type=Level 3 - OIS<br>Year=2016<br>Day=%{x}<br>Quantidade=%{y}<extra></extra>\",\"legendgroup\":\"Level 3 - OIS\",\"marker\":{\"color\":\"#00cc96\",\"pattern\":{\"shape\":\"\"}},\"name\":\"Level 3 - OIS\",\"offsetgroup\":\"Level 3 - OIS\",\"orientation\":\"v\",\"showlegend\":true,\"textposition\":\"auto\",\"x\":[\"Saturday\",\"Sunday\",\"Tuesday\"],\"xaxis\":\"x\",\"y\":[1,3,1],\"yaxis\":\"y\",\"type\":\"bar\"},{\"alignmentgroup\":\"True\",\"hovertemplate\":\"Incident_Type=Level 3 - Use of Force<br>Year=2016<br>Day=%{x}<br>Quantidade=%{y}<extra></extra>\",\"legendgroup\":\"Level 3 - Use of Force\",\"marker\":{\"color\":\"#ab63fa\",\"pattern\":{\"shape\":\"\"}},\"name\":\"Level 3 - Use of Force\",\"offsetgroup\":\"Level 3 - Use of Force\",\"orientation\":\"v\",\"showlegend\":true,\"textposition\":\"auto\",\"x\":[\"Monday\",\"Saturday\",\"Sunday\",\"Thursday\"],\"xaxis\":\"x\",\"y\":[3,3,3,10],\"yaxis\":\"y\",\"type\":\"bar\"}],\"name\":\"2016\"},{\"data\":[{\"alignmentgroup\":\"True\",\"hovertemplate\":\"Incident_Type=Level 1 - Use of Force<br>Year=2017<br>Day=%{x}<br>Quantidade=%{y}<extra></extra>\",\"legendgroup\":\"Level 1 - Use of Force\",\"marker\":{\"color\":\"#636efa\",\"pattern\":{\"shape\":\"\"}},\"name\":\"Level 1 - Use of Force\",\"offsetgroup\":\"Level 1 - Use of Force\",\"orientation\":\"v\",\"showlegend\":true,\"textposition\":\"auto\",\"x\":[\"Friday\",\"Monday\",\"Saturday\",\"Sunday\",\"Thursday\",\"Tuesday\",\"Wednesday\"],\"xaxis\":\"x\",\"y\":[171,196,156,178,135,199,172],\"yaxis\":\"y\",\"type\":\"bar\"},{\"alignmentgroup\":\"True\",\"hovertemplate\":\"Incident_Type=Level 2 - Use of Force<br>Year=2017<br>Day=%{x}<br>Quantidade=%{y}<extra></extra>\",\"legendgroup\":\"Level 2 - Use of Force\",\"marker\":{\"color\":\"#EF553B\",\"pattern\":{\"shape\":\"\"}},\"name\":\"Level 2 - Use of Force\",\"offsetgroup\":\"Level 2 - Use of Force\",\"orientation\":\"v\",\"showlegend\":true,\"textposition\":\"auto\",\"x\":[\"Friday\",\"Monday\",\"Saturday\",\"Sunday\",\"Thursday\",\"Tuesday\",\"Wednesday\"],\"xaxis\":\"x\",\"y\":[61,34,49,54,40,61,44],\"yaxis\":\"y\",\"type\":\"bar\"},{\"alignmentgroup\":\"True\",\"hovertemplate\":\"Incident_Type=Level 3 - OIS<br>Year=2017<br>Day=%{x}<br>Quantidade=%{y}<extra></extra>\",\"legendgroup\":\"Level 3 - OIS\",\"marker\":{\"color\":\"#00cc96\",\"pattern\":{\"shape\":\"\"}},\"name\":\"Level 3 - OIS\",\"offsetgroup\":\"Level 3 - OIS\",\"orientation\":\"v\",\"showlegend\":true,\"textposition\":\"auto\",\"x\":[\"Monday\",\"Saturday\",\"Sunday\",\"Thursday\"],\"xaxis\":\"x\",\"y\":[7,1,8,4],\"yaxis\":\"y\",\"type\":\"bar\"},{\"alignmentgroup\":\"True\",\"hovertemplate\":\"Incident_Type=Level 3 - Use of Force<br>Year=2017<br>Day=%{x}<br>Quantidade=%{y}<extra></extra>\",\"legendgroup\":\"Level 3 - Use of Force\",\"marker\":{\"color\":\"#ab63fa\",\"pattern\":{\"shape\":\"\"}},\"name\":\"Level 3 - Use of Force\",\"offsetgroup\":\"Level 3 - Use of Force\",\"orientation\":\"v\",\"showlegend\":true,\"textposition\":\"auto\",\"x\":[\"Monday\",\"Saturday\",\"Sunday\",\"Wednesday\"],\"xaxis\":\"x\",\"y\":[4,1,3,4],\"yaxis\":\"y\",\"type\":\"bar\"}],\"name\":\"2017\"},{\"data\":[{\"alignmentgroup\":\"True\",\"hovertemplate\":\"Incident_Type=Level 1 - Use of Force<br>Year=2018<br>Day=%{x}<br>Quantidade=%{y}<extra></extra>\",\"legendgroup\":\"Level 1 - Use of Force\",\"marker\":{\"color\":\"#636efa\",\"pattern\":{\"shape\":\"\"}},\"name\":\"Level 1 - Use of Force\",\"offsetgroup\":\"Level 1 - Use of Force\",\"orientation\":\"v\",\"showlegend\":true,\"textposition\":\"auto\",\"x\":[\"Friday\",\"Monday\",\"Saturday\",\"Sunday\",\"Thursday\",\"Tuesday\",\"Wednesday\"],\"xaxis\":\"x\",\"y\":[255,266,246,244,280,243,265],\"yaxis\":\"y\",\"type\":\"bar\"},{\"alignmentgroup\":\"True\",\"hovertemplate\":\"Incident_Type=Level 2 - Use of Force<br>Year=2018<br>Day=%{x}<br>Quantidade=%{y}<extra></extra>\",\"legendgroup\":\"Level 2 - Use of Force\",\"marker\":{\"color\":\"#EF553B\",\"pattern\":{\"shape\":\"\"}},\"name\":\"Level 2 - Use of Force\",\"offsetgroup\":\"Level 2 - Use of Force\",\"orientation\":\"v\",\"showlegend\":true,\"textposition\":\"auto\",\"x\":[\"Friday\",\"Monday\",\"Saturday\",\"Sunday\",\"Thursday\",\"Tuesday\",\"Wednesday\"],\"xaxis\":\"x\",\"y\":[37,54,53,50,52,41,70],\"yaxis\":\"y\",\"type\":\"bar\"},{\"alignmentgroup\":\"True\",\"hovertemplate\":\"Incident_Type=Level 3 - OIS<br>Year=2018<br>Day=%{x}<br>Quantidade=%{y}<extra></extra>\",\"legendgroup\":\"Level 3 - OIS\",\"marker\":{\"color\":\"#00cc96\",\"pattern\":{\"shape\":\"\"}},\"name\":\"Level 3 - OIS\",\"offsetgroup\":\"Level 3 - OIS\",\"orientation\":\"v\",\"showlegend\":true,\"textposition\":\"auto\",\"x\":[\"Monday\"],\"xaxis\":\"x\",\"y\":[3],\"yaxis\":\"y\",\"type\":\"bar\"},{\"alignmentgroup\":\"True\",\"hovertemplate\":\"Incident_Type=Level 3 - Use of Force<br>Year=2018<br>Day=%{x}<br>Quantidade=%{y}<extra></extra>\",\"legendgroup\":\"Level 3 - Use of Force\",\"marker\":{\"color\":\"#ab63fa\",\"pattern\":{\"shape\":\"\"}},\"name\":\"Level 3 - Use of Force\",\"offsetgroup\":\"Level 3 - Use of Force\",\"orientation\":\"v\",\"showlegend\":true,\"textposition\":\"auto\",\"x\":[\"Friday\",\"Monday\",\"Saturday\",\"Sunday\",\"Thursday\",\"Wednesday\"],\"xaxis\":\"x\",\"y\":[3,2,2,8,2,6],\"yaxis\":\"y\",\"type\":\"bar\"}],\"name\":\"2018\"},{\"data\":[{\"alignmentgroup\":\"True\",\"hovertemplate\":\"Incident_Type=Level 1 - Use of Force<br>Year=2019<br>Day=%{x}<br>Quantidade=%{y}<extra></extra>\",\"legendgroup\":\"Level 1 - Use of Force\",\"marker\":{\"color\":\"#636efa\",\"pattern\":{\"shape\":\"\"}},\"name\":\"Level 1 - Use of Force\",\"offsetgroup\":\"Level 1 - Use of Force\",\"orientation\":\"v\",\"showlegend\":true,\"textposition\":\"auto\",\"x\":[\"Friday\",\"Monday\",\"Saturday\",\"Sunday\",\"Thursday\",\"Tuesday\",\"Wednesday\"],\"xaxis\":\"x\",\"y\":[163,129,152,132,129,132,152],\"yaxis\":\"y\",\"type\":\"bar\"},{\"alignmentgroup\":\"True\",\"hovertemplate\":\"Incident_Type=Level 2 - Use of Force<br>Year=2019<br>Day=%{x}<br>Quantidade=%{y}<extra></extra>\",\"legendgroup\":\"Level 2 - Use of Force\",\"marker\":{\"color\":\"#EF553B\",\"pattern\":{\"shape\":\"\"}},\"name\":\"Level 2 - Use of Force\",\"offsetgroup\":\"Level 2 - Use of Force\",\"orientation\":\"v\",\"showlegend\":true,\"textposition\":\"auto\",\"x\":[\"Friday\",\"Monday\",\"Saturday\",\"Sunday\",\"Thursday\",\"Tuesday\",\"Wednesday\"],\"xaxis\":\"x\",\"y\":[45,47,68,39,35,35,42],\"yaxis\":\"y\",\"type\":\"bar\"},{\"alignmentgroup\":\"True\",\"hovertemplate\":\"Incident_Type=Level 3 - OIS<br>Year=2019<br>Day=%{x}<br>Quantidade=%{y}<extra></extra>\",\"legendgroup\":\"Level 3 - OIS\",\"marker\":{\"color\":\"#00cc96\",\"pattern\":{\"shape\":\"\"}},\"name\":\"Level 3 - OIS\",\"offsetgroup\":\"Level 3 - OIS\",\"orientation\":\"v\",\"showlegend\":true,\"textposition\":\"auto\",\"x\":[\"Sunday\",\"Thursday\",\"Tuesday\",\"Wednesday\"],\"xaxis\":\"x\",\"y\":[1,4,4,4],\"yaxis\":\"y\",\"type\":\"bar\"},{\"alignmentgroup\":\"True\",\"hovertemplate\":\"Incident_Type=Level 3 - Use of Force<br>Year=2019<br>Day=%{x}<br>Quantidade=%{y}<extra></extra>\",\"legendgroup\":\"Level 3 - Use of Force\",\"marker\":{\"color\":\"#ab63fa\",\"pattern\":{\"shape\":\"\"}},\"name\":\"Level 3 - Use of Force\",\"offsetgroup\":\"Level 3 - Use of Force\",\"orientation\":\"v\",\"showlegend\":true,\"textposition\":\"auto\",\"x\":[\"Friday\",\"Saturday\",\"Thursday\"],\"xaxis\":\"x\",\"y\":[1,3,1],\"yaxis\":\"y\",\"type\":\"bar\"}],\"name\":\"2019\"},{\"data\":[{\"alignmentgroup\":\"True\",\"hovertemplate\":\"Incident_Type=Level 1 - Use of Force<br>Year=2020<br>Day=%{x}<br>Quantidade=%{y}<extra></extra>\",\"legendgroup\":\"Level 1 - Use of Force\",\"marker\":{\"color\":\"#636efa\",\"pattern\":{\"shape\":\"\"}},\"name\":\"Level 1 - Use of Force\",\"offsetgroup\":\"Level 1 - Use of Force\",\"orientation\":\"v\",\"showlegend\":true,\"textposition\":\"auto\",\"x\":[\"Friday\",\"Monday\",\"Saturday\",\"Sunday\",\"Thursday\",\"Tuesday\",\"Wednesday\"],\"xaxis\":\"x\",\"y\":[131,122,84,127,134,104,138],\"yaxis\":\"y\",\"type\":\"bar\"},{\"alignmentgroup\":\"True\",\"hovertemplate\":\"Incident_Type=Level 2 - Use of Force<br>Year=2020<br>Day=%{x}<br>Quantidade=%{y}<extra></extra>\",\"legendgroup\":\"Level 2 - Use of Force\",\"marker\":{\"color\":\"#EF553B\",\"pattern\":{\"shape\":\"\"}},\"name\":\"Level 2 - Use of Force\",\"offsetgroup\":\"Level 2 - Use of Force\",\"orientation\":\"v\",\"showlegend\":true,\"textposition\":\"auto\",\"x\":[\"Friday\",\"Monday\",\"Saturday\",\"Sunday\",\"Thursday\",\"Tuesday\",\"Wednesday\"],\"xaxis\":\"x\",\"y\":[105,195,327,194,89,95,115],\"yaxis\":\"y\",\"type\":\"bar\"},{\"alignmentgroup\":\"True\",\"hovertemplate\":\"Incident_Type=Level 3 - OIS<br>Year=2020<br>Day=%{x}<br>Quantidade=%{y}<extra></extra>\",\"legendgroup\":\"Level 3 - OIS\",\"marker\":{\"color\":\"#00cc96\",\"pattern\":{\"shape\":\"\"}},\"name\":\"Level 3 - OIS\",\"offsetgroup\":\"Level 3 - OIS\",\"orientation\":\"v\",\"showlegend\":true,\"textposition\":\"auto\",\"x\":[\"Sunday\",\"Thursday\",\"Tuesday\",\"Wednesday\"],\"xaxis\":\"x\",\"y\":[1,1,1,2],\"yaxis\":\"y\",\"type\":\"bar\"},{\"alignmentgroup\":\"True\",\"hovertemplate\":\"Incident_Type=Level 3 - Use of Force<br>Year=2020<br>Day=%{x}<br>Quantidade=%{y}<extra></extra>\",\"legendgroup\":\"Level 3 - Use of Force\",\"marker\":{\"color\":\"#ab63fa\",\"pattern\":{\"shape\":\"\"}},\"name\":\"Level 3 - Use of Force\",\"offsetgroup\":\"Level 3 - Use of Force\",\"orientation\":\"v\",\"showlegend\":true,\"textposition\":\"auto\",\"x\":[\"Friday\",\"Monday\",\"Saturday\",\"Thursday\",\"Tuesday\",\"Wednesday\"],\"xaxis\":\"x\",\"y\":[1,1,1,2,2,5],\"yaxis\":\"y\",\"type\":\"bar\"}],\"name\":\"2020\"},{\"data\":[{\"alignmentgroup\":\"True\",\"hovertemplate\":\"Incident_Type=Level 1 - Use of Force<br>Year=2021<br>Day=%{x}<br>Quantidade=%{y}<extra></extra>\",\"legendgroup\":\"Level 1 - Use of Force\",\"marker\":{\"color\":\"#636efa\",\"pattern\":{\"shape\":\"\"}},\"name\":\"Level 1 - Use of Force\",\"offsetgroup\":\"Level 1 - Use of Force\",\"orientation\":\"v\",\"showlegend\":true,\"textposition\":\"auto\",\"x\":[\"Friday\",\"Monday\",\"Saturday\",\"Sunday\",\"Thursday\",\"Tuesday\",\"Wednesday\"],\"xaxis\":\"x\",\"y\":[117,106,133,98,80,102,125],\"yaxis\":\"y\",\"type\":\"bar\"},{\"alignmentgroup\":\"True\",\"hovertemplate\":\"Incident_Type=Level 2 - Use of Force<br>Year=2021<br>Day=%{x}<br>Quantidade=%{y}<extra></extra>\",\"legendgroup\":\"Level 2 - Use of Force\",\"marker\":{\"color\":\"#EF553B\",\"pattern\":{\"shape\":\"\"}},\"name\":\"Level 2 - Use of Force\",\"offsetgroup\":\"Level 2 - Use of Force\",\"orientation\":\"v\",\"showlegend\":true,\"textposition\":\"auto\",\"x\":[\"Friday\",\"Monday\",\"Saturday\",\"Sunday\",\"Thursday\",\"Tuesday\",\"Wednesday\"],\"xaxis\":\"x\",\"y\":[37,33,48,24,23,20,21],\"yaxis\":\"y\",\"type\":\"bar\"},{\"alignmentgroup\":\"True\",\"hovertemplate\":\"Incident_Type=Level 3 - OIS<br>Year=2021<br>Day=%{x}<br>Quantidade=%{y}<extra></extra>\",\"legendgroup\":\"Level 3 - OIS\",\"marker\":{\"color\":\"#00cc96\",\"pattern\":{\"shape\":\"\"}},\"name\":\"Level 3 - OIS\",\"offsetgroup\":\"Level 3 - OIS\",\"orientation\":\"v\",\"showlegend\":true,\"textposition\":\"auto\",\"x\":[\"Tuesday\"],\"xaxis\":\"x\",\"y\":[8],\"yaxis\":\"y\",\"type\":\"bar\"},{\"alignmentgroup\":\"True\",\"hovertemplate\":\"Incident_Type=Level 3 - Use of Force<br>Year=2021<br>Day=%{x}<br>Quantidade=%{y}<extra></extra>\",\"legendgroup\":\"Level 3 - Use of Force\",\"marker\":{\"color\":\"#ab63fa\",\"pattern\":{\"shape\":\"\"}},\"name\":\"Level 3 - Use of Force\",\"offsetgroup\":\"Level 3 - Use of Force\",\"orientation\":\"v\",\"showlegend\":true,\"textposition\":\"auto\",\"x\":[\"Friday\",\"Saturday\",\"Wednesday\"],\"xaxis\":\"x\",\"y\":[1,3,2],\"yaxis\":\"y\",\"type\":\"bar\"}],\"name\":\"2021\"},{\"data\":[{\"alignmentgroup\":\"True\",\"hovertemplate\":\"Incident_Type=Level 1 - Use of Force<br>Year=2022<br>Day=%{x}<br>Quantidade=%{y}<extra></extra>\",\"legendgroup\":\"Level 1 - Use of Force\",\"marker\":{\"color\":\"#636efa\",\"pattern\":{\"shape\":\"\"}},\"name\":\"Level 1 - Use of Force\",\"offsetgroup\":\"Level 1 - Use of Force\",\"orientation\":\"v\",\"showlegend\":true,\"textposition\":\"auto\",\"x\":[\"Friday\",\"Monday\",\"Saturday\",\"Sunday\",\"Thursday\",\"Tuesday\",\"Wednesday\"],\"xaxis\":\"x\",\"y\":[12,12,10,2,15,8,17],\"yaxis\":\"y\",\"type\":\"bar\"},{\"alignmentgroup\":\"True\",\"hovertemplate\":\"Incident_Type=Level 2 - Use of Force<br>Year=2022<br>Day=%{x}<br>Quantidade=%{y}<extra></extra>\",\"legendgroup\":\"Level 2 - Use of Force\",\"marker\":{\"color\":\"#EF553B\",\"pattern\":{\"shape\":\"\"}},\"name\":\"Level 2 - Use of Force\",\"offsetgroup\":\"Level 2 - Use of Force\",\"orientation\":\"v\",\"showlegend\":true,\"textposition\":\"auto\",\"x\":[\"Monday\",\"Thursday\",\"Wednesday\"],\"xaxis\":\"x\",\"y\":[2,1,2],\"yaxis\":\"y\",\"type\":\"bar\"},{\"alignmentgroup\":\"True\",\"hovertemplate\":\"Incident_Type=Level 3 - OIS<br>Year=2022<br>Day=%{x}<br>Quantidade=%{y}<extra></extra>\",\"legendgroup\":\"Level 3 - OIS\",\"marker\":{\"color\":\"#00cc96\",\"pattern\":{\"shape\":\"\"}},\"name\":\"Level 3 - OIS\",\"offsetgroup\":\"Level 3 - OIS\",\"orientation\":\"v\",\"showlegend\":true,\"textposition\":\"auto\",\"x\":[\"Wednesday\"],\"xaxis\":\"x\",\"y\":[1],\"yaxis\":\"y\",\"type\":\"bar\"}],\"name\":\"2022\"}]);\n",
              "                        }).then(function(){\n",
              "                            \n",
              "var gd = document.getElementById('d52c6bd7-36e7-450e-96d8-ab84705b7ad7');\n",
              "var x = new MutationObserver(function (mutations, observer) {{\n",
              "        var display = window.getComputedStyle(gd).display;\n",
              "        if (!display || display === 'none') {{\n",
              "            console.log([gd, 'removed!']);\n",
              "            Plotly.purge(gd);\n",
              "            observer.disconnect();\n",
              "        }}\n",
              "}});\n",
              "\n",
              "// Listen for the removal of the full notebook cells\n",
              "var notebookContainer = gd.closest('#notebook-container');\n",
              "if (notebookContainer) {{\n",
              "    x.observe(notebookContainer, {childList: true});\n",
              "}}\n",
              "\n",
              "// Listen for the clearing of the current output cell\n",
              "var outputEl = gd.closest('.output');\n",
              "if (outputEl) {{\n",
              "    x.observe(outputEl, {childList: true});\n",
              "}}\n",
              "\n",
              "                        })                };                            </script>        </div>\n",
              "</body>\n",
              "</html>"
            ]
          },
          "metadata": {}
        },
        {
          "output_type": "display_data",
          "data": {
            "text/html": [
              "<html>\n",
              "<head><meta charset=\"utf-8\" /></head>\n",
              "<body>\n",
              "    <div>            <script src=\"https://cdnjs.cloudflare.com/ajax/libs/mathjax/2.7.5/MathJax.js?config=TeX-AMS-MML_SVG\"></script><script type=\"text/javascript\">if (window.MathJax) {MathJax.Hub.Config({SVG: {font: \"STIX-Web\"}});}</script>                <script type=\"text/javascript\">window.PlotlyConfig = {MathJaxConfig: 'local'};</script>\n",
              "        <script src=\"https://cdn.plot.ly/plotly-2.8.3.min.js\"></script>                <div id=\"45384d8e-5f90-4072-8ae3-7a660eebab10\" class=\"plotly-graph-div\" style=\"height:525px; width:100%;\"></div>            <script type=\"text/javascript\">                                    window.PLOTLYENV=window.PLOTLYENV || {};                                    if (document.getElementById(\"45384d8e-5f90-4072-8ae3-7a660eebab10\")) {                    Plotly.newPlot(                        \"45384d8e-5f90-4072-8ae3-7a660eebab10\",                        [{\"alignmentgroup\":\"True\",\"hovertemplate\":\"Incident_Type=Level 1 - Use of Force<br>Day=%{x}<br>Quantidade=%{y}<extra></extra>\",\"legendgroup\":\"Level 1 - Use of Force\",\"marker\":{\"color\":\"#636efa\",\"pattern\":{\"shape\":\"\"}},\"name\":\"Level 1 - Use of Force\",\"offsetgroup\":\"Level 1 - Use of Force\",\"orientation\":\"v\",\"showlegend\":true,\"textposition\":\"auto\",\"x\":[\"Friday\",\"Monday\",\"Saturday\",\"Sunday\",\"Thursday\",\"Tuesday\",\"Wednesday\"],\"xaxis\":\"x\",\"y\":[1423,1276,1376,1366,1303,1300,1390],\"yaxis\":\"y\",\"type\":\"bar\"},{\"alignmentgroup\":\"True\",\"hovertemplate\":\"Incident_Type=Level 2 - Use of Force<br>Day=%{x}<br>Quantidade=%{y}<extra></extra>\",\"legendgroup\":\"Level 2 - Use of Force\",\"marker\":{\"color\":\"#EF553B\",\"pattern\":{\"shape\":\"\"}},\"name\":\"Level 2 - Use of Force\",\"offsetgroup\":\"Level 2 - Use of Force\",\"orientation\":\"v\",\"showlegend\":true,\"textposition\":\"auto\",\"x\":[\"Friday\",\"Monday\",\"Saturday\",\"Sunday\",\"Thursday\",\"Tuesday\",\"Wednesday\"],\"xaxis\":\"x\",\"y\":[480,537,769,583,412,421,463],\"yaxis\":\"y\",\"type\":\"bar\"},{\"alignmentgroup\":\"True\",\"hovertemplate\":\"Incident_Type=Level 3 - OIS<br>Day=%{x}<br>Quantidade=%{y}<extra></extra>\",\"legendgroup\":\"Level 3 - OIS\",\"marker\":{\"color\":\"#00cc96\",\"pattern\":{\"shape\":\"\"}},\"name\":\"Level 3 - OIS\",\"offsetgroup\":\"Level 3 - OIS\",\"orientation\":\"v\",\"showlegend\":true,\"textposition\":\"auto\",\"x\":[\"Friday\",\"Monday\",\"Saturday\",\"Sunday\",\"Thursday\",\"Tuesday\",\"Wednesday\"],\"xaxis\":\"x\",\"y\":[1,11,5,24,11,17,24],\"yaxis\":\"y\",\"type\":\"bar\"},{\"alignmentgroup\":\"True\",\"hovertemplate\":\"Incident_Type=Level 3 - Use of Force<br>Day=%{x}<br>Quantidade=%{y}<extra></extra>\",\"legendgroup\":\"Level 3 - Use of Force\",\"marker\":{\"color\":\"#ab63fa\",\"pattern\":{\"shape\":\"\"}},\"name\":\"Level 3 - Use of Force\",\"offsetgroup\":\"Level 3 - Use of Force\",\"orientation\":\"v\",\"showlegend\":true,\"textposition\":\"auto\",\"x\":[\"Friday\",\"Monday\",\"Saturday\",\"Sunday\",\"Thursday\",\"Tuesday\",\"Wednesday\"],\"xaxis\":\"x\",\"y\":[8,18,17,28,23,6,21],\"yaxis\":\"y\",\"type\":\"bar\"}],                        {\"template\":{\"data\":{\"bar\":[{\"error_x\":{\"color\":\"#2a3f5f\"},\"error_y\":{\"color\":\"#2a3f5f\"},\"marker\":{\"line\":{\"color\":\"#E5ECF6\",\"width\":0.5},\"pattern\":{\"fillmode\":\"overlay\",\"size\":10,\"solidity\":0.2}},\"type\":\"bar\"}],\"barpolar\":[{\"marker\":{\"line\":{\"color\":\"#E5ECF6\",\"width\":0.5},\"pattern\":{\"fillmode\":\"overlay\",\"size\":10,\"solidity\":0.2}},\"type\":\"barpolar\"}],\"carpet\":[{\"aaxis\":{\"endlinecolor\":\"#2a3f5f\",\"gridcolor\":\"white\",\"linecolor\":\"white\",\"minorgridcolor\":\"white\",\"startlinecolor\":\"#2a3f5f\"},\"baxis\":{\"endlinecolor\":\"#2a3f5f\",\"gridcolor\":\"white\",\"linecolor\":\"white\",\"minorgridcolor\":\"white\",\"startlinecolor\":\"#2a3f5f\"},\"type\":\"carpet\"}],\"choropleth\":[{\"colorbar\":{\"outlinewidth\":0,\"ticks\":\"\"},\"type\":\"choropleth\"}],\"contour\":[{\"colorbar\":{\"outlinewidth\":0,\"ticks\":\"\"},\"colorscale\":[[0.0,\"#0d0887\"],[0.1111111111111111,\"#46039f\"],[0.2222222222222222,\"#7201a8\"],[0.3333333333333333,\"#9c179e\"],[0.4444444444444444,\"#bd3786\"],[0.5555555555555556,\"#d8576b\"],[0.6666666666666666,\"#ed7953\"],[0.7777777777777778,\"#fb9f3a\"],[0.8888888888888888,\"#fdca26\"],[1.0,\"#f0f921\"]],\"type\":\"contour\"}],\"contourcarpet\":[{\"colorbar\":{\"outlinewidth\":0,\"ticks\":\"\"},\"type\":\"contourcarpet\"}],\"heatmap\":[{\"colorbar\":{\"outlinewidth\":0,\"ticks\":\"\"},\"colorscale\":[[0.0,\"#0d0887\"],[0.1111111111111111,\"#46039f\"],[0.2222222222222222,\"#7201a8\"],[0.3333333333333333,\"#9c179e\"],[0.4444444444444444,\"#bd3786\"],[0.5555555555555556,\"#d8576b\"],[0.6666666666666666,\"#ed7953\"],[0.7777777777777778,\"#fb9f3a\"],[0.8888888888888888,\"#fdca26\"],[1.0,\"#f0f921\"]],\"type\":\"heatmap\"}],\"heatmapgl\":[{\"colorbar\":{\"outlinewidth\":0,\"ticks\":\"\"},\"colorscale\":[[0.0,\"#0d0887\"],[0.1111111111111111,\"#46039f\"],[0.2222222222222222,\"#7201a8\"],[0.3333333333333333,\"#9c179e\"],[0.4444444444444444,\"#bd3786\"],[0.5555555555555556,\"#d8576b\"],[0.6666666666666666,\"#ed7953\"],[0.7777777777777778,\"#fb9f3a\"],[0.8888888888888888,\"#fdca26\"],[1.0,\"#f0f921\"]],\"type\":\"heatmapgl\"}],\"histogram\":[{\"marker\":{\"pattern\":{\"fillmode\":\"overlay\",\"size\":10,\"solidity\":0.2}},\"type\":\"histogram\"}],\"histogram2d\":[{\"colorbar\":{\"outlinewidth\":0,\"ticks\":\"\"},\"colorscale\":[[0.0,\"#0d0887\"],[0.1111111111111111,\"#46039f\"],[0.2222222222222222,\"#7201a8\"],[0.3333333333333333,\"#9c179e\"],[0.4444444444444444,\"#bd3786\"],[0.5555555555555556,\"#d8576b\"],[0.6666666666666666,\"#ed7953\"],[0.7777777777777778,\"#fb9f3a\"],[0.8888888888888888,\"#fdca26\"],[1.0,\"#f0f921\"]],\"type\":\"histogram2d\"}],\"histogram2dcontour\":[{\"colorbar\":{\"outlinewidth\":0,\"ticks\":\"\"},\"colorscale\":[[0.0,\"#0d0887\"],[0.1111111111111111,\"#46039f\"],[0.2222222222222222,\"#7201a8\"],[0.3333333333333333,\"#9c179e\"],[0.4444444444444444,\"#bd3786\"],[0.5555555555555556,\"#d8576b\"],[0.6666666666666666,\"#ed7953\"],[0.7777777777777778,\"#fb9f3a\"],[0.8888888888888888,\"#fdca26\"],[1.0,\"#f0f921\"]],\"type\":\"histogram2dcontour\"}],\"mesh3d\":[{\"colorbar\":{\"outlinewidth\":0,\"ticks\":\"\"},\"type\":\"mesh3d\"}],\"parcoords\":[{\"line\":{\"colorbar\":{\"outlinewidth\":0,\"ticks\":\"\"}},\"type\":\"parcoords\"}],\"pie\":[{\"automargin\":true,\"type\":\"pie\"}],\"scatter\":[{\"marker\":{\"colorbar\":{\"outlinewidth\":0,\"ticks\":\"\"}},\"type\":\"scatter\"}],\"scatter3d\":[{\"line\":{\"colorbar\":{\"outlinewidth\":0,\"ticks\":\"\"}},\"marker\":{\"colorbar\":{\"outlinewidth\":0,\"ticks\":\"\"}},\"type\":\"scatter3d\"}],\"scattercarpet\":[{\"marker\":{\"colorbar\":{\"outlinewidth\":0,\"ticks\":\"\"}},\"type\":\"scattercarpet\"}],\"scattergeo\":[{\"marker\":{\"colorbar\":{\"outlinewidth\":0,\"ticks\":\"\"}},\"type\":\"scattergeo\"}],\"scattergl\":[{\"marker\":{\"colorbar\":{\"outlinewidth\":0,\"ticks\":\"\"}},\"type\":\"scattergl\"}],\"scattermapbox\":[{\"marker\":{\"colorbar\":{\"outlinewidth\":0,\"ticks\":\"\"}},\"type\":\"scattermapbox\"}],\"scatterpolar\":[{\"marker\":{\"colorbar\":{\"outlinewidth\":0,\"ticks\":\"\"}},\"type\":\"scatterpolar\"}],\"scatterpolargl\":[{\"marker\":{\"colorbar\":{\"outlinewidth\":0,\"ticks\":\"\"}},\"type\":\"scatterpolargl\"}],\"scatterternary\":[{\"marker\":{\"colorbar\":{\"outlinewidth\":0,\"ticks\":\"\"}},\"type\":\"scatterternary\"}],\"surface\":[{\"colorbar\":{\"outlinewidth\":0,\"ticks\":\"\"},\"colorscale\":[[0.0,\"#0d0887\"],[0.1111111111111111,\"#46039f\"],[0.2222222222222222,\"#7201a8\"],[0.3333333333333333,\"#9c179e\"],[0.4444444444444444,\"#bd3786\"],[0.5555555555555556,\"#d8576b\"],[0.6666666666666666,\"#ed7953\"],[0.7777777777777778,\"#fb9f3a\"],[0.8888888888888888,\"#fdca26\"],[1.0,\"#f0f921\"]],\"type\":\"surface\"}],\"table\":[{\"cells\":{\"fill\":{\"color\":\"#EBF0F8\"},\"line\":{\"color\":\"white\"}},\"header\":{\"fill\":{\"color\":\"#C8D4E3\"},\"line\":{\"color\":\"white\"}},\"type\":\"table\"}]},\"layout\":{\"annotationdefaults\":{\"arrowcolor\":\"#2a3f5f\",\"arrowhead\":0,\"arrowwidth\":1},\"autotypenumbers\":\"strict\",\"coloraxis\":{\"colorbar\":{\"outlinewidth\":0,\"ticks\":\"\"}},\"colorscale\":{\"diverging\":[[0,\"#8e0152\"],[0.1,\"#c51b7d\"],[0.2,\"#de77ae\"],[0.3,\"#f1b6da\"],[0.4,\"#fde0ef\"],[0.5,\"#f7f7f7\"],[0.6,\"#e6f5d0\"],[0.7,\"#b8e186\"],[0.8,\"#7fbc41\"],[0.9,\"#4d9221\"],[1,\"#276419\"]],\"sequential\":[[0.0,\"#0d0887\"],[0.1111111111111111,\"#46039f\"],[0.2222222222222222,\"#7201a8\"],[0.3333333333333333,\"#9c179e\"],[0.4444444444444444,\"#bd3786\"],[0.5555555555555556,\"#d8576b\"],[0.6666666666666666,\"#ed7953\"],[0.7777777777777778,\"#fb9f3a\"],[0.8888888888888888,\"#fdca26\"],[1.0,\"#f0f921\"]],\"sequentialminus\":[[0.0,\"#0d0887\"],[0.1111111111111111,\"#46039f\"],[0.2222222222222222,\"#7201a8\"],[0.3333333333333333,\"#9c179e\"],[0.4444444444444444,\"#bd3786\"],[0.5555555555555556,\"#d8576b\"],[0.6666666666666666,\"#ed7953\"],[0.7777777777777778,\"#fb9f3a\"],[0.8888888888888888,\"#fdca26\"],[1.0,\"#f0f921\"]]},\"colorway\":[\"#636efa\",\"#EF553B\",\"#00cc96\",\"#ab63fa\",\"#FFA15A\",\"#19d3f3\",\"#FF6692\",\"#B6E880\",\"#FF97FF\",\"#FECB52\"],\"font\":{\"color\":\"#2a3f5f\"},\"geo\":{\"bgcolor\":\"white\",\"lakecolor\":\"white\",\"landcolor\":\"#E5ECF6\",\"showlakes\":true,\"showland\":true,\"subunitcolor\":\"white\"},\"hoverlabel\":{\"align\":\"left\"},\"hovermode\":\"closest\",\"mapbox\":{\"style\":\"light\"},\"paper_bgcolor\":\"white\",\"plot_bgcolor\":\"#E5ECF6\",\"polar\":{\"angularaxis\":{\"gridcolor\":\"white\",\"linecolor\":\"white\",\"ticks\":\"\"},\"bgcolor\":\"#E5ECF6\",\"radialaxis\":{\"gridcolor\":\"white\",\"linecolor\":\"white\",\"ticks\":\"\"}},\"scene\":{\"xaxis\":{\"backgroundcolor\":\"#E5ECF6\",\"gridcolor\":\"white\",\"gridwidth\":2,\"linecolor\":\"white\",\"showbackground\":true,\"ticks\":\"\",\"zerolinecolor\":\"white\"},\"yaxis\":{\"backgroundcolor\":\"#E5ECF6\",\"gridcolor\":\"white\",\"gridwidth\":2,\"linecolor\":\"white\",\"showbackground\":true,\"ticks\":\"\",\"zerolinecolor\":\"white\"},\"zaxis\":{\"backgroundcolor\":\"#E5ECF6\",\"gridcolor\":\"white\",\"gridwidth\":2,\"linecolor\":\"white\",\"showbackground\":true,\"ticks\":\"\",\"zerolinecolor\":\"white\"}},\"shapedefaults\":{\"line\":{\"color\":\"#2a3f5f\"}},\"ternary\":{\"aaxis\":{\"gridcolor\":\"white\",\"linecolor\":\"white\",\"ticks\":\"\"},\"baxis\":{\"gridcolor\":\"white\",\"linecolor\":\"white\",\"ticks\":\"\"},\"bgcolor\":\"#E5ECF6\",\"caxis\":{\"gridcolor\":\"white\",\"linecolor\":\"white\",\"ticks\":\"\"}},\"title\":{\"x\":0.05},\"xaxis\":{\"automargin\":true,\"gridcolor\":\"white\",\"linecolor\":\"white\",\"ticks\":\"\",\"title\":{\"standoff\":15},\"zerolinecolor\":\"white\",\"zerolinewidth\":2},\"yaxis\":{\"automargin\":true,\"gridcolor\":\"white\",\"linecolor\":\"white\",\"ticks\":\"\",\"title\":{\"standoff\":15},\"zerolinecolor\":\"white\",\"zerolinewidth\":2}}},\"xaxis\":{\"anchor\":\"y\",\"domain\":[0.0,1.0],\"title\":{\"text\":\"Day\"}},\"yaxis\":{\"anchor\":\"x\",\"domain\":[0.0,1.0],\"title\":{\"text\":\"Quantidade\"}},\"legend\":{\"title\":{\"text\":\"Incident_Type\"},\"tracegroupgap\":0},\"title\":{\"text\":\"Quantidade de aplica\\u00e7\\u00e3o do uso de for\\u00e7a por dia de 2014 a 2019\"},\"barmode\":\"relative\"},                        {\"responsive\": true}                    ).then(function(){\n",
              "                            \n",
              "var gd = document.getElementById('45384d8e-5f90-4072-8ae3-7a660eebab10');\n",
              "var x = new MutationObserver(function (mutations, observer) {{\n",
              "        var display = window.getComputedStyle(gd).display;\n",
              "        if (!display || display === 'none') {{\n",
              "            console.log([gd, 'removed!']);\n",
              "            Plotly.purge(gd);\n",
              "            observer.disconnect();\n",
              "        }}\n",
              "}});\n",
              "\n",
              "// Listen for the removal of the full notebook cells\n",
              "var notebookContainer = gd.closest('#notebook-container');\n",
              "if (notebookContainer) {{\n",
              "    x.observe(notebookContainer, {childList: true});\n",
              "}}\n",
              "\n",
              "// Listen for the clearing of the current output cell\n",
              "var outputEl = gd.closest('.output');\n",
              "if (outputEl) {{\n",
              "    x.observe(outputEl, {childList: true});\n",
              "}}\n",
              "\n",
              "                        })                };                            </script>        </div>\n",
              "</body>\n",
              "</html>"
            ]
          },
          "metadata": {}
        }
      ]
    },
    {
      "cell_type": "markdown",
      "source": [
        "##### **Procurando tendências para incidentes ao longo dos meses**"
      ],
      "metadata": {
        "id": "nBLAaq-1JxsM"
      }
    },
    {
      "cell_type": "code",
      "source": [
        "month_name = ['January', 'February', 'March', 'April', 'May', 'June','July', 'August', 'September', 'October',\n",
        "              'November', 'December']\n",
        "\n",
        "ptbr_month_name = ['Janeiro', 'Fevereiro', 'Março', 'Abril', 'Maio', 'Junho', 'Julho', 'Agosto', 'Setembro', 'Outubro',\n",
        "                  'Novembro', 'Dezembro'] # apenas para o xlabel do grágico\n",
        "\n",
        "incidents_by_month = incidents_num_by_feature(month_name,'Month', incidents_data)\n",
        "\n",
        "month = pd.DataFrame({'Month':ptbr_month_name,\n",
        "                    'total_of_incidents':incidents_by_month,\n",
        "                    })\n",
        "\n",
        "fig, ax1 = plt.subplots(figsize=(13,6))\n",
        "sns.set_theme(style='darkgrid')\n",
        "sns.barplot(data=month, x='Month', y='total_of_incidents', color='salmon')\n",
        "plt.title(\"Distribuição de incidências criminais ao longo dos meses nos períodos de 2014 a 2022\")\n",
        "plt.ylabel(\"Total de incidências\")\n",
        "plt.xlabel('Mês')\n",
        "\n",
        "plt.show()"
      ],
      "metadata": {
        "colab": {
          "base_uri": "https://localhost:8080/",
          "height": 410
        },
        "id": "8hkpBIEMNZS2",
        "outputId": "675af80b-9225-42c4-8269-f04a3d26fe58"
      },
      "execution_count": null,
      "outputs": [
        {
          "output_type": "display_data",
          "data": {
            "text/plain": [
              "<Figure size 936x432 with 1 Axes>"
            ],
            "image/png": "[encoded data removed]"
          },
          "metadata": {}
        }
      ]
    },
    {
      "cell_type": "markdown",
      "source": [
        "**Conforme vemos no gráfico acima:**\n",
        "* **Há um pico de incidências criminais no mês de Maio.**\n",
        "* **A distribuição de incidentes nos meses lembra uma distribuição normal gaussiana**\n",
        "* **As menores incidências de crimes ocorrem durante os meses de fevereiro e novembro**"
      ],
      "metadata": {
        "id": "SigS3JqcRnQB"
      }
    },
    {
      "cell_type": "code",
      "source": [
        "force = incidents_data.groupby(['Incident_Type', 'Month','Year']).count()\n",
        "force = force.reset_index(level=['Incident_Type', 'Month','Year'])\n",
        "force.drop(['Hour'], axis=1, inplace=True)\n",
        "force.rename(columns={'Day': 'Quantidade'}, inplace = True)\n",
        "\n",
        "force_total = incidents_data.groupby(['Incident_Type', 'Month']).count()\n",
        "force_total = force_total.reset_index(level=['Incident_Type', 'Month'])\n",
        "force_total.drop(['Hour', 'Year'], axis=1, inplace=True)\n",
        "force_total.rename(columns={'Day': 'Quantidade'}, inplace = True) \n",
        "\n",
        "\n",
        "fig = px.bar(force, x='Month', y='Quantidade', color='Incident_Type', animation_frame='Year', title='Quantidade de aplicação do uso de força por mês no ano')\n",
        "fig.show()\n",
        "\n",
        "fig2 = px.bar(force_total, x='Month', y='Quantidade', color='Incident_Type', title='Quantidade de aplicação do uso de força por mês de 2014 a 2019')\n",
        "fig2.show() "
      ],
      "metadata": {
        "colab": {
          "base_uri": "https://localhost:8080/",
          "height": 1000
        },
        "id": "FfCghAcM0R_B",
        "outputId": "2559b04f-98a4-496e-ab8a-e6388699c911"
      },
      "execution_count": null,
      "outputs": [
        {
          "output_type": "display_data",
          "data": {
            "text/html": [
              "<html>\n",
              "<head><meta charset=\"utf-8\" /></head>\n",
              "<body>\n",
              "    <div>            <script src=\"https://cdnjs.cloudflare.com/ajax/libs/mathjax/2.7.5/MathJax.js?config=TeX-AMS-MML_SVG\"></script><script type=\"text/javascript\">if (window.MathJax) {MathJax.Hub.Config({SVG: {font: \"STIX-Web\"}});}</script>                <script type=\"text/javascript\">window.PlotlyConfig = {MathJaxConfig: 'local'};</script>\n",
              "        <script src=\"https://cdn.plot.ly/plotly-2.8.3.min.js\"></script>                <div id=\"7a29bb6c-63bf-4d1f-b54d-ded68cc78966\" class=\"plotly-graph-div\" style=\"height:525px; width:100%;\"></div>            <script type=\"text/javascript\">                                    window.PLOTLYENV=window.PLOTLYENV || {};                                    if (document.getElementById(\"7a29bb6c-63bf-4d1f-b54d-ded68cc78966\")) {                    Plotly.newPlot(                        \"7a29bb6c-63bf-4d1f-b54d-ded68cc78966\",                        [{\"alignmentgroup\":\"True\",\"hovertemplate\":\"Incident_Type=Level 1 - Use of Force<br>Year=2014<br>Month=%{x}<br>Quantidade=%{y}<extra></extra>\",\"legendgroup\":\"Level 1 - Use of Force\",\"marker\":{\"color\":\"#636efa\",\"pattern\":{\"shape\":\"\"}},\"name\":\"Level 1 - Use of Force\",\"offsetgroup\":\"Level 1 - Use of Force\",\"orientation\":\"v\",\"showlegend\":true,\"textposition\":\"auto\",\"x\":[\"April\",\"August\",\"December\",\"February\",\"July\",\"June\",\"May\",\"November\",\"October\",\"September\"],\"xaxis\":\"x\",\"y\":[157,99,130,1,145,121,180,83,109,101],\"yaxis\":\"y\",\"type\":\"bar\"},{\"alignmentgroup\":\"True\",\"hovertemplate\":\"Incident_Type=Level 2 - Use of Force<br>Year=2014<br>Month=%{x}<br>Quantidade=%{y}<extra></extra>\",\"legendgroup\":\"Level 2 - Use of Force\",\"marker\":{\"color\":\"#EF553B\",\"pattern\":{\"shape\":\"\"}},\"name\":\"Level 2 - Use of Force\",\"offsetgroup\":\"Level 2 - Use of Force\",\"orientation\":\"v\",\"showlegend\":true,\"textposition\":\"auto\",\"x\":[\"April\",\"August\",\"December\",\"January\",\"July\",\"June\",\"March\",\"May\",\"November\",\"October\",\"September\"],\"xaxis\":\"x\",\"y\":[76,58,33,1,44,51,8,76,62,36,53],\"yaxis\":\"y\",\"type\":\"bar\"},{\"alignmentgroup\":\"True\",\"hovertemplate\":\"Incident_Type=Level 3 - OIS<br>Year=2014<br>Month=%{x}<br>Quantidade=%{y}<extra></extra>\",\"legendgroup\":\"Level 3 - OIS\",\"marker\":{\"color\":\"#00cc96\",\"pattern\":{\"shape\":\"\"}},\"name\":\"Level 3 - OIS\",\"offsetgroup\":\"Level 3 - OIS\",\"orientation\":\"v\",\"showlegend\":true,\"textposition\":\"auto\",\"x\":[\"April\",\"August\",\"December\",\"July\",\"September\"],\"xaxis\":\"x\",\"y\":[1,2,15,4,1],\"yaxis\":\"y\",\"type\":\"bar\"},{\"alignmentgroup\":\"True\",\"hovertemplate\":\"Incident_Type=Level 3 - Use of Force<br>Year=2014<br>Month=%{x}<br>Quantidade=%{y}<extra></extra>\",\"legendgroup\":\"Level 3 - Use of Force\",\"marker\":{\"color\":\"#ab63fa\",\"pattern\":{\"shape\":\"\"}},\"name\":\"Level 3 - Use of Force\",\"offsetgroup\":\"Level 3 - Use of Force\",\"orientation\":\"v\",\"showlegend\":true,\"textposition\":\"auto\",\"x\":[\"August\",\"December\",\"July\",\"June\",\"May\",\"November\",\"October\",\"September\"],\"xaxis\":\"x\",\"y\":[2,1,1,7,2,4,6,1],\"yaxis\":\"y\",\"type\":\"bar\"}],                        {\"template\":{\"data\":{\"bar\":[{\"error_x\":{\"color\":\"#2a3f5f\"},\"error_y\":{\"color\":\"#2a3f5f\"},\"marker\":{\"line\":{\"color\":\"#E5ECF6\",\"width\":0.5},\"pattern\":{\"fillmode\":\"overlay\",\"size\":10,\"solidity\":0.2}},\"type\":\"bar\"}],\"barpolar\":[{\"marker\":{\"line\":{\"color\":\"#E5ECF6\",\"width\":0.5},\"pattern\":{\"fillmode\":\"overlay\",\"size\":10,\"solidity\":0.2}},\"type\":\"barpolar\"}],\"carpet\":[{\"aaxis\":{\"endlinecolor\":\"#2a3f5f\",\"gridcolor\":\"white\",\"linecolor\":\"white\",\"minorgridcolor\":\"white\",\"startlinecolor\":\"#2a3f5f\"},\"baxis\":{\"endlinecolor\":\"#2a3f5f\",\"gridcolor\":\"white\",\"linecolor\":\"white\",\"minorgridcolor\":\"white\",\"startlinecolor\":\"#2a3f5f\"},\"type\":\"carpet\"}],\"choropleth\":[{\"colorbar\":{\"outlinewidth\":0,\"ticks\":\"\"},\"type\":\"choropleth\"}],\"contour\":[{\"colorbar\":{\"outlinewidth\":0,\"ticks\":\"\"},\"colorscale\":[[0.0,\"#0d0887\"],[0.1111111111111111,\"#46039f\"],[0.2222222222222222,\"#7201a8\"],[0.3333333333333333,\"#9c179e\"],[0.4444444444444444,\"#bd3786\"],[0.5555555555555556,\"#d8576b\"],[0.6666666666666666,\"#ed7953\"],[0.7777777777777778,\"#fb9f3a\"],[0.8888888888888888,\"#fdca26\"],[1.0,\"#f0f921\"]],\"type\":\"contour\"}],\"contourcarpet\":[{\"colorbar\":{\"outlinewidth\":0,\"ticks\":\"\"},\"type\":\"contourcarpet\"}],\"heatmap\":[{\"colorbar\":{\"outlinewidth\":0,\"ticks\":\"\"},\"colorscale\":[[0.0,\"#0d0887\"],[0.1111111111111111,\"#46039f\"],[0.2222222222222222,\"#7201a8\"],[0.3333333333333333,\"#9c179e\"],[0.4444444444444444,\"#bd3786\"],[0.5555555555555556,\"#d8576b\"],[0.6666666666666666,\"#ed7953\"],[0.7777777777777778,\"#fb9f3a\"],[0.8888888888888888,\"#fdca26\"],[1.0,\"#f0f921\"]],\"type\":\"heatmap\"}],\"heatmapgl\":[{\"colorbar\":{\"outlinewidth\":0,\"ticks\":\"\"},\"colorscale\":[[0.0,\"#0d0887\"],[0.1111111111111111,\"#46039f\"],[0.2222222222222222,\"#7201a8\"],[0.3333333333333333,\"#9c179e\"],[0.4444444444444444,\"#bd3786\"],[0.5555555555555556,\"#d8576b\"],[0.6666666666666666,\"#ed7953\"],[0.7777777777777778,\"#fb9f3a\"],[0.8888888888888888,\"#fdca26\"],[1.0,\"#f0f921\"]],\"type\":\"heatmapgl\"}],\"histogram\":[{\"marker\":{\"pattern\":{\"fillmode\":\"overlay\",\"size\":10,\"solidity\":0.2}},\"type\":\"histogram\"}],\"histogram2d\":[{\"colorbar\":{\"outlinewidth\":0,\"ticks\":\"\"},\"colorscale\":[[0.0,\"#0d0887\"],[0.1111111111111111,\"#46039f\"],[0.2222222222222222,\"#7201a8\"],[0.3333333333333333,\"#9c179e\"],[0.4444444444444444,\"#bd3786\"],[0.5555555555555556,\"#d8576b\"],[0.6666666666666666,\"#ed7953\"],[0.7777777777777778,\"#fb9f3a\"],[0.8888888888888888,\"#fdca26\"],[1.0,\"#f0f921\"]],\"type\":\"histogram2d\"}],\"histogram2dcontour\":[{\"colorbar\":{\"outlinewidth\":0,\"ticks\":\"\"},\"colorscale\":[[0.0,\"#0d0887\"],[0.1111111111111111,\"#46039f\"],[0.2222222222222222,\"#7201a8\"],[0.3333333333333333,\"#9c179e\"],[0.4444444444444444,\"#bd3786\"],[0.5555555555555556,\"#d8576b\"],[0.6666666666666666,\"#ed7953\"],[0.7777777777777778,\"#fb9f3a\"],[0.8888888888888888,\"#fdca26\"],[1.0,\"#f0f921\"]],\"type\":\"histogram2dcontour\"}],\"mesh3d\":[{\"colorbar\":{\"outlinewidth\":0,\"ticks\":\"\"},\"type\":\"mesh3d\"}],\"parcoords\":[{\"line\":{\"colorbar\":{\"outlinewidth\":0,\"ticks\":\"\"}},\"type\":\"parcoords\"}],\"pie\":[{\"automargin\":true,\"type\":\"pie\"}],\"scatter\":[{\"marker\":{\"colorbar\":{\"outlinewidth\":0,\"ticks\":\"\"}},\"type\":\"scatter\"}],\"scatter3d\":[{\"line\":{\"colorbar\":{\"outlinewidth\":0,\"ticks\":\"\"}},\"marker\":{\"colorbar\":{\"outlinewidth\":0,\"ticks\":\"\"}},\"type\":\"scatter3d\"}],\"scattercarpet\":[{\"marker\":{\"colorbar\":{\"outlinewidth\":0,\"ticks\":\"\"}},\"type\":\"scattercarpet\"}],\"scattergeo\":[{\"marker\":{\"colorbar\":{\"outlinewidth\":0,\"ticks\":\"\"}},\"type\":\"scattergeo\"}],\"scattergl\":[{\"marker\":{\"colorbar\":{\"outlinewidth\":0,\"ticks\":\"\"}},\"type\":\"scattergl\"}],\"scattermapbox\":[{\"marker\":{\"colorbar\":{\"outlinewidth\":0,\"ticks\":\"\"}},\"type\":\"scattermapbox\"}],\"scatterpolar\":[{\"marker\":{\"colorbar\":{\"outlinewidth\":0,\"ticks\":\"\"}},\"type\":\"scatterpolar\"}],\"scatterpolargl\":[{\"marker\":{\"colorbar\":{\"outlinewidth\":0,\"ticks\":\"\"}},\"type\":\"scatterpolargl\"}],\"scatterternary\":[{\"marker\":{\"colorbar\":{\"outlinewidth\":0,\"ticks\":\"\"}},\"type\":\"scatterternary\"}],\"surface\":[{\"colorbar\":{\"outlinewidth\":0,\"ticks\":\"\"},\"colorscale\":[[0.0,\"#0d0887\"],[0.1111111111111111,\"#46039f\"],[0.2222222222222222,\"#7201a8\"],[0.3333333333333333,\"#9c179e\"],[0.4444444444444444,\"#bd3786\"],[0.5555555555555556,\"#d8576b\"],[0.6666666666666666,\"#ed7953\"],[0.7777777777777778,\"#fb9f3a\"],[0.8888888888888888,\"#fdca26\"],[1.0,\"#f0f921\"]],\"type\":\"surface\"}],\"table\":[{\"cells\":{\"fill\":{\"color\":\"#EBF0F8\"},\"line\":{\"color\":\"white\"}},\"header\":{\"fill\":{\"color\":\"#C8D4E3\"},\"line\":{\"color\":\"white\"}},\"type\":\"table\"}]},\"layout\":{\"annotationdefaults\":{\"arrowcolor\":\"#2a3f5f\",\"arrowhead\":0,\"arrowwidth\":1},\"autotypenumbers\":\"strict\",\"coloraxis\":{\"colorbar\":{\"outlinewidth\":0,\"ticks\":\"\"}},\"colorscale\":{\"diverging\":[[0,\"#8e0152\"],[0.1,\"#c51b7d\"],[0.2,\"#de77ae\"],[0.3,\"#f1b6da\"],[0.4,\"#fde0ef\"],[0.5,\"#f7f7f7\"],[0.6,\"#e6f5d0\"],[0.7,\"#b8e186\"],[0.8,\"#7fbc41\"],[0.9,\"#4d9221\"],[1,\"#276419\"]],\"sequential\":[[0.0,\"#0d0887\"],[0.1111111111111111,\"#46039f\"],[0.2222222222222222,\"#7201a8\"],[0.3333333333333333,\"#9c179e\"],[0.4444444444444444,\"#bd3786\"],[0.5555555555555556,\"#d8576b\"],[0.6666666666666666,\"#ed7953\"],[0.7777777777777778,\"#fb9f3a\"],[0.8888888888888888,\"#fdca26\"],[1.0,\"#f0f921\"]],\"sequentialminus\":[[0.0,\"#0d0887\"],[0.1111111111111111,\"#46039f\"],[0.2222222222222222,\"#7201a8\"],[0.3333333333333333,\"#9c179e\"],[0.4444444444444444,\"#bd3786\"],[0.5555555555555556,\"#d8576b\"],[0.6666666666666666,\"#ed7953\"],[0.7777777777777778,\"#fb9f3a\"],[0.8888888888888888,\"#fdca26\"],[1.0,\"#f0f921\"]]},\"colorway\":[\"#636efa\",\"#EF553B\",\"#00cc96\",\"#ab63fa\",\"#FFA15A\",\"#19d3f3\",\"#FF6692\",\"#B6E880\",\"#FF97FF\",\"#FECB52\"],\"font\":{\"color\":\"#2a3f5f\"},\"geo\":{\"bgcolor\":\"white\",\"lakecolor\":\"white\",\"landcolor\":\"#E5ECF6\",\"showlakes\":true,\"showland\":true,\"subunitcolor\":\"white\"},\"hoverlabel\":{\"align\":\"left\"},\"hovermode\":\"closest\",\"mapbox\":{\"style\":\"light\"},\"paper_bgcolor\":\"white\",\"plot_bgcolor\":\"#E5ECF6\",\"polar\":{\"angularaxis\":{\"gridcolor\":\"white\",\"linecolor\":\"white\",\"ticks\":\"\"},\"bgcolor\":\"#E5ECF6\",\"radialaxis\":{\"gridcolor\":\"white\",\"linecolor\":\"white\",\"ticks\":\"\"}},\"scene\":{\"xaxis\":{\"backgroundcolor\":\"#E5ECF6\",\"gridcolor\":\"white\",\"gridwidth\":2,\"linecolor\":\"white\",\"showbackground\":true,\"ticks\":\"\",\"zerolinecolor\":\"white\"},\"yaxis\":{\"backgroundcolor\":\"#E5ECF6\",\"gridcolor\":\"white\",\"gridwidth\":2,\"linecolor\":\"white\",\"showbackground\":true,\"ticks\":\"\",\"zerolinecolor\":\"white\"},\"zaxis\":{\"backgroundcolor\":\"#E5ECF6\",\"gridcolor\":\"white\",\"gridwidth\":2,\"linecolor\":\"white\",\"showbackground\":true,\"ticks\":\"\",\"zerolinecolor\":\"white\"}},\"shapedefaults\":{\"line\":{\"color\":\"#2a3f5f\"}},\"ternary\":{\"aaxis\":{\"gridcolor\":\"white\",\"linecolor\":\"white\",\"ticks\":\"\"},\"baxis\":{\"gridcolor\":\"white\",\"linecolor\":\"white\",\"ticks\":\"\"},\"bgcolor\":\"#E5ECF6\",\"caxis\":{\"gridcolor\":\"white\",\"linecolor\":\"white\",\"ticks\":\"\"}},\"title\":{\"x\":0.05},\"xaxis\":{\"automargin\":true,\"gridcolor\":\"white\",\"linecolor\":\"white\",\"ticks\":\"\",\"title\":{\"standoff\":15},\"zerolinecolor\":\"white\",\"zerolinewidth\":2},\"yaxis\":{\"automargin\":true,\"gridcolor\":\"white\",\"linecolor\":\"white\",\"ticks\":\"\",\"title\":{\"standoff\":15},\"zerolinecolor\":\"white\",\"zerolinewidth\":2}}},\"xaxis\":{\"anchor\":\"y\",\"domain\":[0.0,1.0],\"title\":{\"text\":\"Month\"}},\"yaxis\":{\"anchor\":\"x\",\"domain\":[0.0,1.0],\"title\":{\"text\":\"Quantidade\"}},\"legend\":{\"title\":{\"text\":\"Incident_Type\"},\"tracegroupgap\":0},\"title\":{\"text\":\"Quantidade de aplica\\u00e7\\u00e3o do uso de for\\u00e7a por m\\u00eas no ano\"},\"barmode\":\"relative\",\"updatemenus\":[{\"buttons\":[{\"args\":[null,{\"frame\":{\"duration\":500,\"redraw\":true},\"mode\":\"immediate\",\"fromcurrent\":true,\"transition\":{\"duration\":500,\"easing\":\"linear\"}}],\"label\":\"&#9654;\",\"method\":\"animate\"},{\"args\":[[null],{\"frame\":{\"duration\":0,\"redraw\":true},\"mode\":\"immediate\",\"fromcurrent\":true,\"transition\":{\"duration\":0,\"easing\":\"linear\"}}],\"label\":\"&#9724;\",\"method\":\"animate\"}],\"direction\":\"left\",\"pad\":{\"r\":10,\"t\":70},\"showactive\":false,\"type\":\"buttons\",\"x\":0.1,\"xanchor\":\"right\",\"y\":0,\"yanchor\":\"top\"}],\"sliders\":[{\"active\":0,\"currentvalue\":{\"prefix\":\"Year=\"},\"len\":0.9,\"pad\":{\"b\":10,\"t\":60},\"steps\":[{\"args\":[[\"2014\"],{\"frame\":{\"duration\":0,\"redraw\":true},\"mode\":\"immediate\",\"fromcurrent\":true,\"transition\":{\"duration\":0,\"easing\":\"linear\"}}],\"label\":\"2014\",\"method\":\"animate\"},{\"args\":[[\"2015\"],{\"frame\":{\"duration\":0,\"redraw\":true},\"mode\":\"immediate\",\"fromcurrent\":true,\"transition\":{\"duration\":0,\"easing\":\"linear\"}}],\"label\":\"2015\",\"method\":\"animate\"},{\"args\":[[\"2016\"],{\"frame\":{\"duration\":0,\"redraw\":true},\"mode\":\"immediate\",\"fromcurrent\":true,\"transition\":{\"duration\":0,\"easing\":\"linear\"}}],\"label\":\"2016\",\"method\":\"animate\"},{\"args\":[[\"2017\"],{\"frame\":{\"duration\":0,\"redraw\":true},\"mode\":\"immediate\",\"fromcurrent\":true,\"transition\":{\"duration\":0,\"easing\":\"linear\"}}],\"label\":\"2017\",\"method\":\"animate\"},{\"args\":[[\"2018\"],{\"frame\":{\"duration\":0,\"redraw\":true},\"mode\":\"immediate\",\"fromcurrent\":true,\"transition\":{\"duration\":0,\"easing\":\"linear\"}}],\"label\":\"2018\",\"method\":\"animate\"},{\"args\":[[\"2019\"],{\"frame\":{\"duration\":0,\"redraw\":true},\"mode\":\"immediate\",\"fromcurrent\":true,\"transition\":{\"duration\":0,\"easing\":\"linear\"}}],\"label\":\"2019\",\"method\":\"animate\"},{\"args\":[[\"2020\"],{\"frame\":{\"duration\":0,\"redraw\":true},\"mode\":\"immediate\",\"fromcurrent\":true,\"transition\":{\"duration\":0,\"easing\":\"linear\"}}],\"label\":\"2020\",\"method\":\"animate\"},{\"args\":[[\"2021\"],{\"frame\":{\"duration\":0,\"redraw\":true},\"mode\":\"immediate\",\"fromcurrent\":true,\"transition\":{\"duration\":0,\"easing\":\"linear\"}}],\"label\":\"2021\",\"method\":\"animate\"},{\"args\":[[\"2022\"],{\"frame\":{\"duration\":0,\"redraw\":true},\"mode\":\"immediate\",\"fromcurrent\":true,\"transition\":{\"duration\":0,\"easing\":\"linear\"}}],\"label\":\"2022\",\"method\":\"animate\"}],\"x\":0.1,\"xanchor\":\"left\",\"y\":0,\"yanchor\":\"top\"}]},                        {\"responsive\": true}                    ).then(function(){\n",
              "                            Plotly.addFrames('7a29bb6c-63bf-4d1f-b54d-ded68cc78966', [{\"data\":[{\"alignmentgroup\":\"True\",\"hovertemplate\":\"Incident_Type=Level 1 - Use of Force<br>Year=2014<br>Month=%{x}<br>Quantidade=%{y}<extra></extra>\",\"legendgroup\":\"Level 1 - Use of Force\",\"marker\":{\"color\":\"#636efa\",\"pattern\":{\"shape\":\"\"}},\"name\":\"Level 1 - Use of Force\",\"offsetgroup\":\"Level 1 - Use of Force\",\"orientation\":\"v\",\"showlegend\":true,\"textposition\":\"auto\",\"x\":[\"April\",\"August\",\"December\",\"February\",\"July\",\"June\",\"May\",\"November\",\"October\",\"September\"],\"xaxis\":\"x\",\"y\":[157,99,130,1,145,121,180,83,109,101],\"yaxis\":\"y\",\"type\":\"bar\"},{\"alignmentgroup\":\"True\",\"hovertemplate\":\"Incident_Type=Level 2 - Use of Force<br>Year=2014<br>Month=%{x}<br>Quantidade=%{y}<extra></extra>\",\"legendgroup\":\"Level 2 - Use of Force\",\"marker\":{\"color\":\"#EF553B\",\"pattern\":{\"shape\":\"\"}},\"name\":\"Level 2 - Use of Force\",\"offsetgroup\":\"Level 2 - Use of Force\",\"orientation\":\"v\",\"showlegend\":true,\"textposition\":\"auto\",\"x\":[\"April\",\"August\",\"December\",\"January\",\"July\",\"June\",\"March\",\"May\",\"November\",\"October\",\"September\"],\"xaxis\":\"x\",\"y\":[76,58,33,1,44,51,8,76,62,36,53],\"yaxis\":\"y\",\"type\":\"bar\"},{\"alignmentgroup\":\"True\",\"hovertemplate\":\"Incident_Type=Level 3 - OIS<br>Year=2014<br>Month=%{x}<br>Quantidade=%{y}<extra></extra>\",\"legendgroup\":\"Level 3 - OIS\",\"marker\":{\"color\":\"#00cc96\",\"pattern\":{\"shape\":\"\"}},\"name\":\"Level 3 - OIS\",\"offsetgroup\":\"Level 3 - OIS\",\"orientation\":\"v\",\"showlegend\":true,\"textposition\":\"auto\",\"x\":[\"April\",\"August\",\"December\",\"July\",\"September\"],\"xaxis\":\"x\",\"y\":[1,2,15,4,1],\"yaxis\":\"y\",\"type\":\"bar\"},{\"alignmentgroup\":\"True\",\"hovertemplate\":\"Incident_Type=Level 3 - Use of Force<br>Year=2014<br>Month=%{x}<br>Quantidade=%{y}<extra></extra>\",\"legendgroup\":\"Level 3 - Use of Force\",\"marker\":{\"color\":\"#ab63fa\",\"pattern\":{\"shape\":\"\"}},\"name\":\"Level 3 - Use of Force\",\"offsetgroup\":\"Level 3 - Use of Force\",\"orientation\":\"v\",\"showlegend\":true,\"textposition\":\"auto\",\"x\":[\"August\",\"December\",\"July\",\"June\",\"May\",\"November\",\"October\",\"September\"],\"xaxis\":\"x\",\"y\":[2,1,1,7,2,4,6,1],\"yaxis\":\"y\",\"type\":\"bar\"}],\"name\":\"2014\"},{\"data\":[{\"alignmentgroup\":\"True\",\"hovertemplate\":\"Incident_Type=Level 1 - Use of Force<br>Year=2015<br>Month=%{x}<br>Quantidade=%{y}<extra></extra>\",\"legendgroup\":\"Level 1 - Use of Force\",\"marker\":{\"color\":\"#636efa\",\"pattern\":{\"shape\":\"\"}},\"name\":\"Level 1 - Use of Force\",\"offsetgroup\":\"Level 1 - Use of Force\",\"orientation\":\"v\",\"showlegend\":true,\"textposition\":\"auto\",\"x\":[\"April\",\"August\",\"December\",\"February\",\"January\",\"July\",\"June\",\"March\",\"May\",\"November\",\"October\",\"September\"],\"xaxis\":\"x\",\"y\":[111,153,155,109,147,119,144,107,112,90,121,124],\"yaxis\":\"y\",\"type\":\"bar\"},{\"alignmentgroup\":\"True\",\"hovertemplate\":\"Incident_Type=Level 2 - Use of Force<br>Year=2015<br>Month=%{x}<br>Quantidade=%{y}<extra></extra>\",\"legendgroup\":\"Level 2 - Use of Force\",\"marker\":{\"color\":\"#EF553B\",\"pattern\":{\"shape\":\"\"}},\"name\":\"Level 2 - Use of Force\",\"offsetgroup\":\"Level 2 - Use of Force\",\"orientation\":\"v\",\"showlegend\":true,\"textposition\":\"auto\",\"x\":[\"April\",\"August\",\"December\",\"February\",\"January\",\"July\",\"June\",\"March\",\"May\",\"November\",\"October\",\"September\"],\"xaxis\":\"x\",\"y\":[32,50,25,35,65,35,31,43,80,26,19,25],\"yaxis\":\"y\",\"type\":\"bar\"},{\"alignmentgroup\":\"True\",\"hovertemplate\":\"Incident_Type=Level 3 - OIS<br>Year=2015<br>Month=%{x}<br>Quantidade=%{y}<extra></extra>\",\"legendgroup\":\"Level 3 - OIS\",\"marker\":{\"color\":\"#00cc96\",\"pattern\":{\"shape\":\"\"}},\"name\":\"Level 3 - OIS\",\"offsetgroup\":\"Level 3 - OIS\",\"orientation\":\"v\",\"showlegend\":true,\"textposition\":\"auto\",\"x\":[\"August\",\"December\",\"July\",\"September\"],\"xaxis\":\"x\",\"y\":[1,11,1,2],\"yaxis\":\"y\",\"type\":\"bar\"},{\"alignmentgroup\":\"True\",\"hovertemplate\":\"Incident_Type=Level 3 - Use of Force<br>Year=2015<br>Month=%{x}<br>Quantidade=%{y}<extra></extra>\",\"legendgroup\":\"Level 3 - Use of Force\",\"marker\":{\"color\":\"#ab63fa\",\"pattern\":{\"shape\":\"\"}},\"name\":\"Level 3 - Use of Force\",\"offsetgroup\":\"Level 3 - Use of Force\",\"orientation\":\"v\",\"showlegend\":true,\"textposition\":\"auto\",\"x\":[\"December\",\"February\",\"January\",\"May\",\"October\",\"September\"],\"xaxis\":\"x\",\"y\":[3,1,1,7,1,7],\"yaxis\":\"y\",\"type\":\"bar\"}],\"name\":\"2015\"},{\"data\":[{\"alignmentgroup\":\"True\",\"hovertemplate\":\"Incident_Type=Level 1 - Use of Force<br>Year=2016<br>Month=%{x}<br>Quantidade=%{y}<extra></extra>\",\"legendgroup\":\"Level 1 - Use of Force\",\"marker\":{\"color\":\"#636efa\",\"pattern\":{\"shape\":\"\"}},\"name\":\"Level 1 - Use of Force\",\"offsetgroup\":\"Level 1 - Use of Force\",\"orientation\":\"v\",\"showlegend\":true,\"textposition\":\"auto\",\"x\":[\"April\",\"August\",\"December\",\"February\",\"January\",\"July\",\"June\",\"March\",\"May\",\"November\",\"October\",\"September\"],\"xaxis\":\"x\",\"y\":[71,93,67,109,123,128,105,93,100,85,95,75],\"yaxis\":\"y\",\"type\":\"bar\"},{\"alignmentgroup\":\"True\",\"hovertemplate\":\"Incident_Type=Level 2 - Use of Force<br>Year=2016<br>Month=%{x}<br>Quantidade=%{y}<extra></extra>\",\"legendgroup\":\"Level 2 - Use of Force\",\"marker\":{\"color\":\"#EF553B\",\"pattern\":{\"shape\":\"\"}},\"name\":\"Level 2 - Use of Force\",\"offsetgroup\":\"Level 2 - Use of Force\",\"orientation\":\"v\",\"showlegend\":true,\"textposition\":\"auto\",\"x\":[\"April\",\"August\",\"December\",\"February\",\"January\",\"July\",\"June\",\"March\",\"May\",\"November\",\"October\",\"September\"],\"xaxis\":\"x\",\"y\":[19,27,5,28,49,41,31,22,74,31,13,19],\"yaxis\":\"y\",\"type\":\"bar\"},{\"alignmentgroup\":\"True\",\"hovertemplate\":\"Incident_Type=Level 3 - OIS<br>Year=2016<br>Month=%{x}<br>Quantidade=%{y}<extra></extra>\",\"legendgroup\":\"Level 3 - OIS\",\"marker\":{\"color\":\"#00cc96\",\"pattern\":{\"shape\":\"\"}},\"name\":\"Level 3 - OIS\",\"offsetgroup\":\"Level 3 - OIS\",\"orientation\":\"v\",\"showlegend\":true,\"textposition\":\"auto\",\"x\":[\"February\",\"January\",\"June\",\"October\"],\"xaxis\":\"x\",\"y\":[2,1,1,1],\"yaxis\":\"y\",\"type\":\"bar\"},{\"alignmentgroup\":\"True\",\"hovertemplate\":\"Incident_Type=Level 3 - Use of Force<br>Year=2016<br>Month=%{x}<br>Quantidade=%{y}<extra></extra>\",\"legendgroup\":\"Level 3 - Use of Force\",\"marker\":{\"color\":\"#ab63fa\",\"pattern\":{\"shape\":\"\"}},\"name\":\"Level 3 - Use of Force\",\"offsetgroup\":\"Level 3 - Use of Force\",\"orientation\":\"v\",\"showlegend\":true,\"textposition\":\"auto\",\"x\":[\"August\",\"December\",\"February\",\"July\",\"May\",\"November\"],\"xaxis\":\"x\",\"y\":[6,6,1,1,2,3],\"yaxis\":\"y\",\"type\":\"bar\"}],\"name\":\"2016\"},{\"data\":[{\"alignmentgroup\":\"True\",\"hovertemplate\":\"Incident_Type=Level 1 - Use of Force<br>Year=2017<br>Month=%{x}<br>Quantidade=%{y}<extra></extra>\",\"legendgroup\":\"Level 1 - Use of Force\",\"marker\":{\"color\":\"#636efa\",\"pattern\":{\"shape\":\"\"}},\"name\":\"Level 1 - Use of Force\",\"offsetgroup\":\"Level 1 - Use of Force\",\"orientation\":\"v\",\"showlegend\":true,\"textposition\":\"auto\",\"x\":[\"April\",\"August\",\"December\",\"February\",\"January\",\"July\",\"June\",\"March\",\"May\",\"November\",\"October\",\"September\"],\"xaxis\":\"x\",\"y\":[124,114,109,68,88,76,92,121,86,109,109,111],\"yaxis\":\"y\",\"type\":\"bar\"},{\"alignmentgroup\":\"True\",\"hovertemplate\":\"Incident_Type=Level 2 - Use of Force<br>Year=2017<br>Month=%{x}<br>Quantidade=%{y}<extra></extra>\",\"legendgroup\":\"Level 2 - Use of Force\",\"marker\":{\"color\":\"#EF553B\",\"pattern\":{\"shape\":\"\"}},\"name\":\"Level 2 - Use of Force\",\"offsetgroup\":\"Level 2 - Use of Force\",\"orientation\":\"v\",\"showlegend\":true,\"textposition\":\"auto\",\"x\":[\"April\",\"August\",\"December\",\"February\",\"January\",\"July\",\"June\",\"March\",\"May\",\"November\",\"October\",\"September\"],\"xaxis\":\"x\",\"y\":[28,64,25,23,40,15,56,21,25,7,18,21],\"yaxis\":\"y\",\"type\":\"bar\"},{\"alignmentgroup\":\"True\",\"hovertemplate\":\"Incident_Type=Level 3 - OIS<br>Year=2017<br>Month=%{x}<br>Quantidade=%{y}<extra></extra>\",\"legendgroup\":\"Level 3 - OIS\",\"marker\":{\"color\":\"#00cc96\",\"pattern\":{\"shape\":\"\"}},\"name\":\"Level 3 - OIS\",\"offsetgroup\":\"Level 3 - OIS\",\"orientation\":\"v\",\"showlegend\":true,\"textposition\":\"auto\",\"x\":[\"April\",\"December\",\"June\",\"October\",\"September\"],\"xaxis\":\"x\",\"y\":[4,7,2,6,1],\"yaxis\":\"y\",\"type\":\"bar\"},{\"alignmentgroup\":\"True\",\"hovertemplate\":\"Incident_Type=Level 3 - Use of Force<br>Year=2017<br>Month=%{x}<br>Quantidade=%{y}<extra></extra>\",\"legendgroup\":\"Level 3 - Use of Force\",\"marker\":{\"color\":\"#ab63fa\",\"pattern\":{\"shape\":\"\"}},\"name\":\"Level 3 - Use of Force\",\"offsetgroup\":\"Level 3 - Use of Force\",\"orientation\":\"v\",\"showlegend\":true,\"textposition\":\"auto\",\"x\":[\"April\",\"August\",\"March\",\"May\",\"October\",\"September\"],\"xaxis\":\"x\",\"y\":[2,4,1,2,2,1],\"yaxis\":\"y\",\"type\":\"bar\"}],\"name\":\"2017\"},{\"data\":[{\"alignmentgroup\":\"True\",\"hovertemplate\":\"Incident_Type=Level 1 - Use of Force<br>Year=2018<br>Month=%{x}<br>Quantidade=%{y}<extra></extra>\",\"legendgroup\":\"Level 1 - Use of Force\",\"marker\":{\"color\":\"#636efa\",\"pattern\":{\"shape\":\"\"}},\"name\":\"Level 1 - Use of Force\",\"offsetgroup\":\"Level 1 - Use of Force\",\"orientation\":\"v\",\"showlegend\":true,\"textposition\":\"auto\",\"x\":[\"April\",\"August\",\"December\",\"February\",\"January\",\"July\",\"June\",\"March\",\"May\",\"November\",\"October\",\"September\"],\"xaxis\":\"x\",\"y\":[132,185,160,106,128,163,169,140,161,132,155,168],\"yaxis\":\"y\",\"type\":\"bar\"},{\"alignmentgroup\":\"True\",\"hovertemplate\":\"Incident_Type=Level 2 - Use of Force<br>Year=2018<br>Month=%{x}<br>Quantidade=%{y}<extra></extra>\",\"legendgroup\":\"Level 2 - Use of Force\",\"marker\":{\"color\":\"#EF553B\",\"pattern\":{\"shape\":\"\"}},\"name\":\"Level 2 - Use of Force\",\"offsetgroup\":\"Level 2 - Use of Force\",\"orientation\":\"v\",\"showlegend\":true,\"textposition\":\"auto\",\"x\":[\"April\",\"August\",\"December\",\"February\",\"January\",\"July\",\"June\",\"March\",\"May\",\"November\",\"October\",\"September\"],\"xaxis\":\"x\",\"y\":[20,31,16,41,35,43,22,33,42,19,32,23],\"yaxis\":\"y\",\"type\":\"bar\"},{\"alignmentgroup\":\"True\",\"hovertemplate\":\"Incident_Type=Level 3 - OIS<br>Year=2018<br>Month=%{x}<br>Quantidade=%{y}<extra></extra>\",\"legendgroup\":\"Level 3 - OIS\",\"marker\":{\"color\":\"#00cc96\",\"pattern\":{\"shape\":\"\"}},\"name\":\"Level 3 - OIS\",\"offsetgroup\":\"Level 3 - OIS\",\"orientation\":\"v\",\"showlegend\":true,\"textposition\":\"auto\",\"x\":[\"December\",\"February\"],\"xaxis\":\"x\",\"y\":[1,2],\"yaxis\":\"y\",\"type\":\"bar\"},{\"alignmentgroup\":\"True\",\"hovertemplate\":\"Incident_Type=Level 3 - Use of Force<br>Year=2018<br>Month=%{x}<br>Quantidade=%{y}<extra></extra>\",\"legendgroup\":\"Level 3 - Use of Force\",\"marker\":{\"color\":\"#ab63fa\",\"pattern\":{\"shape\":\"\"}},\"name\":\"Level 3 - Use of Force\",\"offsetgroup\":\"Level 3 - Use of Force\",\"orientation\":\"v\",\"showlegend\":true,\"textposition\":\"auto\",\"x\":[\"April\",\"August\",\"December\",\"June\",\"March\",\"May\",\"November\"],\"xaxis\":\"x\",\"y\":[7,2,3,2,6,2,1],\"yaxis\":\"y\",\"type\":\"bar\"}],\"name\":\"2018\"},{\"data\":[{\"alignmentgroup\":\"True\",\"hovertemplate\":\"Incident_Type=Level 1 - Use of Force<br>Year=2019<br>Month=%{x}<br>Quantidade=%{y}<extra></extra>\",\"legendgroup\":\"Level 1 - Use of Force\",\"marker\":{\"color\":\"#636efa\",\"pattern\":{\"shape\":\"\"}},\"name\":\"Level 1 - Use of Force\",\"offsetgroup\":\"Level 1 - Use of Force\",\"orientation\":\"v\",\"showlegend\":true,\"textposition\":\"auto\",\"x\":[\"April\",\"August\",\"December\",\"February\",\"January\",\"July\",\"June\",\"March\",\"May\",\"November\",\"October\",\"September\"],\"xaxis\":\"x\",\"y\":[97,91,117,80,100,71,50,97,95,72,56,63],\"yaxis\":\"y\",\"type\":\"bar\"},{\"alignmentgroup\":\"True\",\"hovertemplate\":\"Incident_Type=Level 2 - Use of Force<br>Year=2019<br>Month=%{x}<br>Quantidade=%{y}<extra></extra>\",\"legendgroup\":\"Level 2 - Use of Force\",\"marker\":{\"color\":\"#EF553B\",\"pattern\":{\"shape\":\"\"}},\"name\":\"Level 2 - Use of Force\",\"offsetgroup\":\"Level 2 - Use of Force\",\"orientation\":\"v\",\"showlegend\":true,\"textposition\":\"auto\",\"x\":[\"April\",\"August\",\"December\",\"February\",\"January\",\"July\",\"June\",\"March\",\"May\",\"November\",\"October\",\"September\"],\"xaxis\":\"x\",\"y\":[27,30,39,17,37,22,21,17,27,27,21,26],\"yaxis\":\"y\",\"type\":\"bar\"},{\"alignmentgroup\":\"True\",\"hovertemplate\":\"Incident_Type=Level 3 - OIS<br>Year=2019<br>Month=%{x}<br>Quantidade=%{y}<extra></extra>\",\"legendgroup\":\"Level 3 - OIS\",\"marker\":{\"color\":\"#00cc96\",\"pattern\":{\"shape\":\"\"}},\"name\":\"Level 3 - OIS\",\"offsetgroup\":\"Level 3 - OIS\",\"orientation\":\"v\",\"showlegend\":true,\"textposition\":\"auto\",\"x\":[\"February\",\"July\",\"March\",\"May\",\"October\"],\"xaxis\":\"x\",\"y\":[2,2,4,3,2],\"yaxis\":\"y\",\"type\":\"bar\"},{\"alignmentgroup\":\"True\",\"hovertemplate\":\"Incident_Type=Level 3 - Use of Force<br>Year=2019<br>Month=%{x}<br>Quantidade=%{y}<extra></extra>\",\"legendgroup\":\"Level 3 - Use of Force\",\"marker\":{\"color\":\"#ab63fa\",\"pattern\":{\"shape\":\"\"}},\"name\":\"Level 3 - Use of Force\",\"offsetgroup\":\"Level 3 - Use of Force\",\"orientation\":\"v\",\"showlegend\":true,\"textposition\":\"auto\",\"x\":[\"August\",\"January\",\"June\",\"March\",\"November\"],\"xaxis\":\"x\",\"y\":[1,1,1,1,1],\"yaxis\":\"y\",\"type\":\"bar\"}],\"name\":\"2019\"},{\"data\":[{\"alignmentgroup\":\"True\",\"hovertemplate\":\"Incident_Type=Level 1 - Use of Force<br>Year=2020<br>Month=%{x}<br>Quantidade=%{y}<extra></extra>\",\"legendgroup\":\"Level 1 - Use of Force\",\"marker\":{\"color\":\"#636efa\",\"pattern\":{\"shape\":\"\"}},\"name\":\"Level 1 - Use of Force\",\"offsetgroup\":\"Level 1 - Use of Force\",\"orientation\":\"v\",\"showlegend\":true,\"textposition\":\"auto\",\"x\":[\"April\",\"August\",\"December\",\"February\",\"January\",\"July\",\"June\",\"March\",\"May\",\"November\",\"October\",\"September\"],\"xaxis\":\"x\",\"y\":[70,50,47,90,95,76,39,109,100,51,51,62],\"yaxis\":\"y\",\"type\":\"bar\"},{\"alignmentgroup\":\"True\",\"hovertemplate\":\"Incident_Type=Level 2 - Use of Force<br>Year=2020<br>Month=%{x}<br>Quantidade=%{y}<extra></extra>\",\"legendgroup\":\"Level 2 - Use of Force\",\"marker\":{\"color\":\"#EF553B\",\"pattern\":{\"shape\":\"\"}},\"name\":\"Level 2 - Use of Force\",\"offsetgroup\":\"Level 2 - Use of Force\",\"orientation\":\"v\",\"showlegend\":true,\"textposition\":\"auto\",\"x\":[\"April\",\"August\",\"December\",\"February\",\"January\",\"July\",\"June\",\"March\",\"May\",\"November\",\"October\",\"September\"],\"xaxis\":\"x\",\"y\":[27,48,42,46,26,208,243,34,229,24,38,155],\"yaxis\":\"y\",\"type\":\"bar\"},{\"alignmentgroup\":\"True\",\"hovertemplate\":\"Incident_Type=Level 3 - OIS<br>Year=2020<br>Month=%{x}<br>Quantidade=%{y}<extra></extra>\",\"legendgroup\":\"Level 3 - OIS\",\"marker\":{\"color\":\"#00cc96\",\"pattern\":{\"shape\":\"\"}},\"name\":\"Level 3 - OIS\",\"offsetgroup\":\"Level 3 - OIS\",\"orientation\":\"v\",\"showlegend\":true,\"textposition\":\"auto\",\"x\":[\"January\",\"March\",\"May\",\"October\"],\"xaxis\":\"x\",\"y\":[2,1,1,1],\"yaxis\":\"y\",\"type\":\"bar\"},{\"alignmentgroup\":\"True\",\"hovertemplate\":\"Incident_Type=Level 3 - Use of Force<br>Year=2020<br>Month=%{x}<br>Quantidade=%{y}<extra></extra>\",\"legendgroup\":\"Level 3 - Use of Force\",\"marker\":{\"color\":\"#ab63fa\",\"pattern\":{\"shape\":\"\"}},\"name\":\"Level 3 - Use of Force\",\"offsetgroup\":\"Level 3 - Use of Force\",\"orientation\":\"v\",\"showlegend\":true,\"textposition\":\"auto\",\"x\":[\"April\",\"December\",\"February\",\"January\",\"July\",\"October\",\"September\"],\"xaxis\":\"x\",\"y\":[1,2,1,1,2,2,3],\"yaxis\":\"y\",\"type\":\"bar\"}],\"name\":\"2020\"},{\"data\":[{\"alignmentgroup\":\"True\",\"hovertemplate\":\"Incident_Type=Level 1 - Use of Force<br>Year=2021<br>Month=%{x}<br>Quantidade=%{y}<extra></extra>\",\"legendgroup\":\"Level 1 - Use of Force\",\"marker\":{\"color\":\"#636efa\",\"pattern\":{\"shape\":\"\"}},\"name\":\"Level 1 - Use of Force\",\"offsetgroup\":\"Level 1 - Use of Force\",\"orientation\":\"v\",\"showlegend\":true,\"textposition\":\"auto\",\"x\":[\"April\",\"August\",\"December\",\"February\",\"January\",\"July\",\"June\",\"March\",\"May\",\"November\",\"October\",\"September\"],\"xaxis\":\"x\",\"y\":[51,36,58,72,64,55,86,92,73,59,48,67],\"yaxis\":\"y\",\"type\":\"bar\"},{\"alignmentgroup\":\"True\",\"hovertemplate\":\"Incident_Type=Level 2 - Use of Force<br>Year=2021<br>Month=%{x}<br>Quantidade=%{y}<extra></extra>\",\"legendgroup\":\"Level 2 - Use of Force\",\"marker\":{\"color\":\"#EF553B\",\"pattern\":{\"shape\":\"\"}},\"name\":\"Level 2 - Use of Force\",\"offsetgroup\":\"Level 2 - Use of Force\",\"orientation\":\"v\",\"showlegend\":true,\"textposition\":\"auto\",\"x\":[\"April\",\"August\",\"December\",\"February\",\"January\",\"July\",\"June\",\"March\",\"May\",\"November\",\"October\",\"September\"],\"xaxis\":\"x\",\"y\":[13,13,1,17,22,22,25,28,22,15,15,13],\"yaxis\":\"y\",\"type\":\"bar\"},{\"alignmentgroup\":\"True\",\"hovertemplate\":\"Incident_Type=Level 3 - OIS<br>Year=2021<br>Month=%{x}<br>Quantidade=%{y}<extra></extra>\",\"legendgroup\":\"Level 3 - OIS\",\"marker\":{\"color\":\"#00cc96\",\"pattern\":{\"shape\":\"\"}},\"name\":\"Level 3 - OIS\",\"offsetgroup\":\"Level 3 - OIS\",\"orientation\":\"v\",\"showlegend\":true,\"textposition\":\"auto\",\"x\":[\"February\"],\"xaxis\":\"x\",\"y\":[8],\"yaxis\":\"y\",\"type\":\"bar\"},{\"alignmentgroup\":\"True\",\"hovertemplate\":\"Incident_Type=Level 3 - Use of Force<br>Year=2021<br>Month=%{x}<br>Quantidade=%{y}<extra></extra>\",\"legendgroup\":\"Level 3 - Use of Force\",\"marker\":{\"color\":\"#ab63fa\",\"pattern\":{\"shape\":\"\"}},\"name\":\"Level 3 - Use of Force\",\"offsetgroup\":\"Level 3 - Use of Force\",\"orientation\":\"v\",\"showlegend\":true,\"textposition\":\"auto\",\"x\":[\"February\",\"June\",\"November\",\"October\"],\"xaxis\":\"x\",\"y\":[1,1,1,3],\"yaxis\":\"y\",\"type\":\"bar\"}],\"name\":\"2021\"},{\"data\":[{\"alignmentgroup\":\"True\",\"hovertemplate\":\"Incident_Type=Level 1 - Use of Force<br>Year=2022<br>Month=%{x}<br>Quantidade=%{y}<extra></extra>\",\"legendgroup\":\"Level 1 - Use of Force\",\"marker\":{\"color\":\"#636efa\",\"pattern\":{\"shape\":\"\"}},\"name\":\"Level 1 - Use of Force\",\"offsetgroup\":\"Level 1 - Use of Force\",\"orientation\":\"v\",\"showlegend\":true,\"textposition\":\"auto\",\"x\":[\"February\",\"January\",\"March\"],\"xaxis\":\"x\",\"y\":[38,37,1],\"yaxis\":\"y\",\"type\":\"bar\"},{\"alignmentgroup\":\"True\",\"hovertemplate\":\"Incident_Type=Level 2 - Use of Force<br>Year=2022<br>Month=%{x}<br>Quantidade=%{y}<extra></extra>\",\"legendgroup\":\"Level 2 - Use of Force\",\"marker\":{\"color\":\"#EF553B\",\"pattern\":{\"shape\":\"\"}},\"name\":\"Level 2 - Use of Force\",\"offsetgroup\":\"Level 2 - Use of Force\",\"orientation\":\"v\",\"showlegend\":true,\"textposition\":\"auto\",\"x\":[\"February\",\"January\"],\"xaxis\":\"x\",\"y\":[1,4],\"yaxis\":\"y\",\"type\":\"bar\"},{\"alignmentgroup\":\"True\",\"hovertemplate\":\"Incident_Type=Level 3 - OIS<br>Year=2022<br>Month=%{x}<br>Quantidade=%{y}<extra></extra>\",\"legendgroup\":\"Level 3 - OIS\",\"marker\":{\"color\":\"#00cc96\",\"pattern\":{\"shape\":\"\"}},\"name\":\"Level 3 - OIS\",\"offsetgroup\":\"Level 3 - OIS\",\"orientation\":\"v\",\"showlegend\":true,\"textposition\":\"auto\",\"x\":[\"January\"],\"xaxis\":\"x\",\"y\":[1],\"yaxis\":\"y\",\"type\":\"bar\"}],\"name\":\"2022\"}]);\n",
              "                        }).then(function(){\n",
              "                            \n",
              "var gd = document.getElementById('7a29bb6c-63bf-4d1f-b54d-ded68cc78966');\n",
              "var x = new MutationObserver(function (mutations, observer) {{\n",
              "        var display = window.getComputedStyle(gd).display;\n",
              "        if (!display || display === 'none') {{\n",
              "            console.log([gd, 'removed!']);\n",
              "            Plotly.purge(gd);\n",
              "            observer.disconnect();\n",
              "        }}\n",
              "}});\n",
              "\n",
              "// Listen for the removal of the full notebook cells\n",
              "var notebookContainer = gd.closest('#notebook-container');\n",
              "if (notebookContainer) {{\n",
              "    x.observe(notebookContainer, {childList: true});\n",
              "}}\n",
              "\n",
              "// Listen for the clearing of the current output cell\n",
              "var outputEl = gd.closest('.output');\n",
              "if (outputEl) {{\n",
              "    x.observe(outputEl, {childList: true});\n",
              "}}\n",
              "\n",
              "                        })                };                            </script>        </div>\n",
              "</body>\n",
              "</html>"
            ]
          },
          "metadata": {}
        },
        {
          "output_type": "display_data",
          "data": {
            "text/html": [
              "<html>\n",
              "<head><meta charset=\"utf-8\" /></head>\n",
              "<body>\n",
              "    <div>            <script src=\"https://cdnjs.cloudflare.com/ajax/libs/mathjax/2.7.5/MathJax.js?config=TeX-AMS-MML_SVG\"></script><script type=\"text/javascript\">if (window.MathJax) {MathJax.Hub.Config({SVG: {font: \"STIX-Web\"}});}</script>                <script type=\"text/javascript\">window.PlotlyConfig = {MathJaxConfig: 'local'};</script>\n",
              "        <script src=\"https://cdn.plot.ly/plotly-2.8.3.min.js\"></script>                <div id=\"2a94fde6-ae31-4e0d-82a4-c1720a1b638d\" class=\"plotly-graph-div\" style=\"height:525px; width:100%;\"></div>            <script type=\"text/javascript\">                                    window.PLOTLYENV=window.PLOTLYENV || {};                                    if (document.getElementById(\"2a94fde6-ae31-4e0d-82a4-c1720a1b638d\")) {                    Plotly.newPlot(                        \"2a94fde6-ae31-4e0d-82a4-c1720a1b638d\",                        [{\"alignmentgroup\":\"True\",\"hovertemplate\":\"Incident_Type=Level 1 - Use of Force<br>Month=%{x}<br>Quantidade=%{y}<extra></extra>\",\"legendgroup\":\"Level 1 - Use of Force\",\"marker\":{\"color\":\"#636efa\",\"pattern\":{\"shape\":\"\"}},\"name\":\"Level 1 - Use of Force\",\"offsetgroup\":\"Level 1 - Use of Force\",\"orientation\":\"v\",\"showlegend\":true,\"textposition\":\"auto\",\"x\":[\"April\",\"August\",\"December\",\"February\",\"January\",\"July\",\"June\",\"March\",\"May\",\"November\",\"October\",\"September\"],\"xaxis\":\"x\",\"y\":[813,821,843,673,782,833,806,760,907,681,744,771],\"yaxis\":\"y\",\"type\":\"bar\"},{\"alignmentgroup\":\"True\",\"hovertemplate\":\"Incident_Type=Level 2 - Use of Force<br>Month=%{x}<br>Quantidade=%{y}<extra></extra>\",\"legendgroup\":\"Level 2 - Use of Force\",\"marker\":{\"color\":\"#EF553B\",\"pattern\":{\"shape\":\"\"}},\"name\":\"Level 2 - Use of Force\",\"offsetgroup\":\"Level 2 - Use of Force\",\"orientation\":\"v\",\"showlegend\":true,\"textposition\":\"auto\",\"x\":[\"April\",\"August\",\"December\",\"February\",\"January\",\"July\",\"June\",\"March\",\"May\",\"November\",\"October\",\"September\"],\"xaxis\":\"x\",\"y\":[242,321,186,208,279,430,480,206,575,211,192,335],\"yaxis\":\"y\",\"type\":\"bar\"},{\"alignmentgroup\":\"True\",\"hovertemplate\":\"Incident_Type=Level 3 - OIS<br>Month=%{x}<br>Quantidade=%{y}<extra></extra>\",\"legendgroup\":\"Level 3 - OIS\",\"marker\":{\"color\":\"#00cc96\",\"pattern\":{\"shape\":\"\"}},\"name\":\"Level 3 - OIS\",\"offsetgroup\":\"Level 3 - OIS\",\"orientation\":\"v\",\"showlegend\":true,\"textposition\":\"auto\",\"x\":[\"April\",\"August\",\"December\",\"February\",\"January\",\"July\",\"June\",\"March\",\"May\",\"October\",\"September\"],\"xaxis\":\"x\",\"y\":[5,3,34,14,4,7,3,5,4,10,4],\"yaxis\":\"y\",\"type\":\"bar\"},{\"alignmentgroup\":\"True\",\"hovertemplate\":\"Incident_Type=Level 3 - Use of Force<br>Month=%{x}<br>Quantidade=%{y}<extra></extra>\",\"legendgroup\":\"Level 3 - Use of Force\",\"marker\":{\"color\":\"#ab63fa\",\"pattern\":{\"shape\":\"\"}},\"name\":\"Level 3 - Use of Force\",\"offsetgroup\":\"Level 3 - Use of Force\",\"orientation\":\"v\",\"showlegend\":true,\"textposition\":\"auto\",\"x\":[\"April\",\"August\",\"December\",\"February\",\"January\",\"July\",\"June\",\"March\",\"May\",\"November\",\"October\",\"September\"],\"xaxis\":\"x\",\"y\":[10,15,15,4,3,4,11,8,15,10,14,12],\"yaxis\":\"y\",\"type\":\"bar\"}],                        {\"template\":{\"data\":{\"bar\":[{\"error_x\":{\"color\":\"#2a3f5f\"},\"error_y\":{\"color\":\"#2a3f5f\"},\"marker\":{\"line\":{\"color\":\"#E5ECF6\",\"width\":0.5},\"pattern\":{\"fillmode\":\"overlay\",\"size\":10,\"solidity\":0.2}},\"type\":\"bar\"}],\"barpolar\":[{\"marker\":{\"line\":{\"color\":\"#E5ECF6\",\"width\":0.5},\"pattern\":{\"fillmode\":\"overlay\",\"size\":10,\"solidity\":0.2}},\"type\":\"barpolar\"}],\"carpet\":[{\"aaxis\":{\"endlinecolor\":\"#2a3f5f\",\"gridcolor\":\"white\",\"linecolor\":\"white\",\"minorgridcolor\":\"white\",\"startlinecolor\":\"#2a3f5f\"},\"baxis\":{\"endlinecolor\":\"#2a3f5f\",\"gridcolor\":\"white\",\"linecolor\":\"white\",\"minorgridcolor\":\"white\",\"startlinecolor\":\"#2a3f5f\"},\"type\":\"carpet\"}],\"choropleth\":[{\"colorbar\":{\"outlinewidth\":0,\"ticks\":\"\"},\"type\":\"choropleth\"}],\"contour\":[{\"colorbar\":{\"outlinewidth\":0,\"ticks\":\"\"},\"colorscale\":[[0.0,\"#0d0887\"],[0.1111111111111111,\"#46039f\"],[0.2222222222222222,\"#7201a8\"],[0.3333333333333333,\"#9c179e\"],[0.4444444444444444,\"#bd3786\"],[0.5555555555555556,\"#d8576b\"],[0.6666666666666666,\"#ed7953\"],[0.7777777777777778,\"#fb9f3a\"],[0.8888888888888888,\"#fdca26\"],[1.0,\"#f0f921\"]],\"type\":\"contour\"}],\"contourcarpet\":[{\"colorbar\":{\"outlinewidth\":0,\"ticks\":\"\"},\"type\":\"contourcarpet\"}],\"heatmap\":[{\"colorbar\":{\"outlinewidth\":0,\"ticks\":\"\"},\"colorscale\":[[0.0,\"#0d0887\"],[0.1111111111111111,\"#46039f\"],[0.2222222222222222,\"#7201a8\"],[0.3333333333333333,\"#9c179e\"],[0.4444444444444444,\"#bd3786\"],[0.5555555555555556,\"#d8576b\"],[0.6666666666666666,\"#ed7953\"],[0.7777777777777778,\"#fb9f3a\"],[0.8888888888888888,\"#fdca26\"],[1.0,\"#f0f921\"]],\"type\":\"heatmap\"}],\"heatmapgl\":[{\"colorbar\":{\"outlinewidth\":0,\"ticks\":\"\"},\"colorscale\":[[0.0,\"#0d0887\"],[0.1111111111111111,\"#46039f\"],[0.2222222222222222,\"#7201a8\"],[0.3333333333333333,\"#9c179e\"],[0.4444444444444444,\"#bd3786\"],[0.5555555555555556,\"#d8576b\"],[0.6666666666666666,\"#ed7953\"],[0.7777777777777778,\"#fb9f3a\"],[0.8888888888888888,\"#fdca26\"],[1.0,\"#f0f921\"]],\"type\":\"heatmapgl\"}],\"histogram\":[{\"marker\":{\"pattern\":{\"fillmode\":\"overlay\",\"size\":10,\"solidity\":0.2}},\"type\":\"histogram\"}],\"histogram2d\":[{\"colorbar\":{\"outlinewidth\":0,\"ticks\":\"\"},\"colorscale\":[[0.0,\"#0d0887\"],[0.1111111111111111,\"#46039f\"],[0.2222222222222222,\"#7201a8\"],[0.3333333333333333,\"#9c179e\"],[0.4444444444444444,\"#bd3786\"],[0.5555555555555556,\"#d8576b\"],[0.6666666666666666,\"#ed7953\"],[0.7777777777777778,\"#fb9f3a\"],[0.8888888888888888,\"#fdca26\"],[1.0,\"#f0f921\"]],\"type\":\"histogram2d\"}],\"histogram2dcontour\":[{\"colorbar\":{\"outlinewidth\":0,\"ticks\":\"\"},\"colorscale\":[[0.0,\"#0d0887\"],[0.1111111111111111,\"#46039f\"],[0.2222222222222222,\"#7201a8\"],[0.3333333333333333,\"#9c179e\"],[0.4444444444444444,\"#bd3786\"],[0.5555555555555556,\"#d8576b\"],[0.6666666666666666,\"#ed7953\"],[0.7777777777777778,\"#fb9f3a\"],[0.8888888888888888,\"#fdca26\"],[1.0,\"#f0f921\"]],\"type\":\"histogram2dcontour\"}],\"mesh3d\":[{\"colorbar\":{\"outlinewidth\":0,\"ticks\":\"\"},\"type\":\"mesh3d\"}],\"parcoords\":[{\"line\":{\"colorbar\":{\"outlinewidth\":0,\"ticks\":\"\"}},\"type\":\"parcoords\"}],\"pie\":[{\"automargin\":true,\"type\":\"pie\"}],\"scatter\":[{\"marker\":{\"colorbar\":{\"outlinewidth\":0,\"ticks\":\"\"}},\"type\":\"scatter\"}],\"scatter3d\":[{\"line\":{\"colorbar\":{\"outlinewidth\":0,\"ticks\":\"\"}},\"marker\":{\"colorbar\":{\"outlinewidth\":0,\"ticks\":\"\"}},\"type\":\"scatter3d\"}],\"scattercarpet\":[{\"marker\":{\"colorbar\":{\"outlinewidth\":0,\"ticks\":\"\"}},\"type\":\"scattercarpet\"}],\"scattergeo\":[{\"marker\":{\"colorbar\":{\"outlinewidth\":0,\"ticks\":\"\"}},\"type\":\"scattergeo\"}],\"scattergl\":[{\"marker\":{\"colorbar\":{\"outlinewidth\":0,\"ticks\":\"\"}},\"type\":\"scattergl\"}],\"scattermapbox\":[{\"marker\":{\"colorbar\":{\"outlinewidth\":0,\"ticks\":\"\"}},\"type\":\"scattermapbox\"}],\"scatterpolar\":[{\"marker\":{\"colorbar\":{\"outlinewidth\":0,\"ticks\":\"\"}},\"type\":\"scatterpolar\"}],\"scatterpolargl\":[{\"marker\":{\"colorbar\":{\"outlinewidth\":0,\"ticks\":\"\"}},\"type\":\"scatterpolargl\"}],\"scatterternary\":[{\"marker\":{\"colorbar\":{\"outlinewidth\":0,\"ticks\":\"\"}},\"type\":\"scatterternary\"}],\"surface\":[{\"colorbar\":{\"outlinewidth\":0,\"ticks\":\"\"},\"colorscale\":[[0.0,\"#0d0887\"],[0.1111111111111111,\"#46039f\"],[0.2222222222222222,\"#7201a8\"],[0.3333333333333333,\"#9c179e\"],[0.4444444444444444,\"#bd3786\"],[0.5555555555555556,\"#d8576b\"],[0.6666666666666666,\"#ed7953\"],[0.7777777777777778,\"#fb9f3a\"],[0.8888888888888888,\"#fdca26\"],[1.0,\"#f0f921\"]],\"type\":\"surface\"}],\"table\":[{\"cells\":{\"fill\":{\"color\":\"#EBF0F8\"},\"line\":{\"color\":\"white\"}},\"header\":{\"fill\":{\"color\":\"#C8D4E3\"},\"line\":{\"color\":\"white\"}},\"type\":\"table\"}]},\"layout\":{\"annotationdefaults\":{\"arrowcolor\":\"#2a3f5f\",\"arrowhead\":0,\"arrowwidth\":1},\"autotypenumbers\":\"strict\",\"coloraxis\":{\"colorbar\":{\"outlinewidth\":0,\"ticks\":\"\"}},\"colorscale\":{\"diverging\":[[0,\"#8e0152\"],[0.1,\"#c51b7d\"],[0.2,\"#de77ae\"],[0.3,\"#f1b6da\"],[0.4,\"#fde0ef\"],[0.5,\"#f7f7f7\"],[0.6,\"#e6f5d0\"],[0.7,\"#b8e186\"],[0.8,\"#7fbc41\"],[0.9,\"#4d9221\"],[1,\"#276419\"]],\"sequential\":[[0.0,\"#0d0887\"],[0.1111111111111111,\"#46039f\"],[0.2222222222222222,\"#7201a8\"],[0.3333333333333333,\"#9c179e\"],[0.4444444444444444,\"#bd3786\"],[0.5555555555555556,\"#d8576b\"],[0.6666666666666666,\"#ed7953\"],[0.7777777777777778,\"#fb9f3a\"],[0.8888888888888888,\"#fdca26\"],[1.0,\"#f0f921\"]],\"sequentialminus\":[[0.0,\"#0d0887\"],[0.1111111111111111,\"#46039f\"],[0.2222222222222222,\"#7201a8\"],[0.3333333333333333,\"#9c179e\"],[0.4444444444444444,\"#bd3786\"],[0.5555555555555556,\"#d8576b\"],[0.6666666666666666,\"#ed7953\"],[0.7777777777777778,\"#fb9f3a\"],[0.8888888888888888,\"#fdca26\"],[1.0,\"#f0f921\"]]},\"colorway\":[\"#636efa\",\"#EF553B\",\"#00cc96\",\"#ab63fa\",\"#FFA15A\",\"#19d3f3\",\"#FF6692\",\"#B6E880\",\"#FF97FF\",\"#FECB52\"],\"font\":{\"color\":\"#2a3f5f\"},\"geo\":{\"bgcolor\":\"white\",\"lakecolor\":\"white\",\"landcolor\":\"#E5ECF6\",\"showlakes\":true,\"showland\":true,\"subunitcolor\":\"white\"},\"hoverlabel\":{\"align\":\"left\"},\"hovermode\":\"closest\",\"mapbox\":{\"style\":\"light\"},\"paper_bgcolor\":\"white\",\"plot_bgcolor\":\"#E5ECF6\",\"polar\":{\"angularaxis\":{\"gridcolor\":\"white\",\"linecolor\":\"white\",\"ticks\":\"\"},\"bgcolor\":\"#E5ECF6\",\"radialaxis\":{\"gridcolor\":\"white\",\"linecolor\":\"white\",\"ticks\":\"\"}},\"scene\":{\"xaxis\":{\"backgroundcolor\":\"#E5ECF6\",\"gridcolor\":\"white\",\"gridwidth\":2,\"linecolor\":\"white\",\"showbackground\":true,\"ticks\":\"\",\"zerolinecolor\":\"white\"},\"yaxis\":{\"backgroundcolor\":\"#E5ECF6\",\"gridcolor\":\"white\",\"gridwidth\":2,\"linecolor\":\"white\",\"showbackground\":true,\"ticks\":\"\",\"zerolinecolor\":\"white\"},\"zaxis\":{\"backgroundcolor\":\"#E5ECF6\",\"gridcolor\":\"white\",\"gridwidth\":2,\"linecolor\":\"white\",\"showbackground\":true,\"ticks\":\"\",\"zerolinecolor\":\"white\"}},\"shapedefaults\":{\"line\":{\"color\":\"#2a3f5f\"}},\"ternary\":{\"aaxis\":{\"gridcolor\":\"white\",\"linecolor\":\"white\",\"ticks\":\"\"},\"baxis\":{\"gridcolor\":\"white\",\"linecolor\":\"white\",\"ticks\":\"\"},\"bgcolor\":\"#E5ECF6\",\"caxis\":{\"gridcolor\":\"white\",\"linecolor\":\"white\",\"ticks\":\"\"}},\"title\":{\"x\":0.05},\"xaxis\":{\"automargin\":true,\"gridcolor\":\"white\",\"linecolor\":\"white\",\"ticks\":\"\",\"title\":{\"standoff\":15},\"zerolinecolor\":\"white\",\"zerolinewidth\":2},\"yaxis\":{\"automargin\":true,\"gridcolor\":\"white\",\"linecolor\":\"white\",\"ticks\":\"\",\"title\":{\"standoff\":15},\"zerolinecolor\":\"white\",\"zerolinewidth\":2}}},\"xaxis\":{\"anchor\":\"y\",\"domain\":[0.0,1.0],\"title\":{\"text\":\"Month\"}},\"yaxis\":{\"anchor\":\"x\",\"domain\":[0.0,1.0],\"title\":{\"text\":\"Quantidade\"}},\"legend\":{\"title\":{\"text\":\"Incident_Type\"},\"tracegroupgap\":0},\"title\":{\"text\":\"Quantidade de aplica\\u00e7\\u00e3o do uso de for\\u00e7a por m\\u00eas de 2014 a 2019\"},\"barmode\":\"relative\"},                        {\"responsive\": true}                    ).then(function(){\n",
              "                            \n",
              "var gd = document.getElementById('2a94fde6-ae31-4e0d-82a4-c1720a1b638d');\n",
              "var x = new MutationObserver(function (mutations, observer) {{\n",
              "        var display = window.getComputedStyle(gd).display;\n",
              "        if (!display || display === 'none') {{\n",
              "            console.log([gd, 'removed!']);\n",
              "            Plotly.purge(gd);\n",
              "            observer.disconnect();\n",
              "        }}\n",
              "}});\n",
              "\n",
              "// Listen for the removal of the full notebook cells\n",
              "var notebookContainer = gd.closest('#notebook-container');\n",
              "if (notebookContainer) {{\n",
              "    x.observe(notebookContainer, {childList: true});\n",
              "}}\n",
              "\n",
              "// Listen for the clearing of the current output cell\n",
              "var outputEl = gd.closest('.output');\n",
              "if (outputEl) {{\n",
              "    x.observe(outputEl, {childList: true});\n",
              "}}\n",
              "\n",
              "                        })                };                            </script>        </div>\n",
              "</body>\n",
              "</html>"
            ]
          },
          "metadata": {}
        }
      ]
    },
    {
      "cell_type": "markdown",
      "source": [
        "##### **Procurando tendências para incidentes ao longo dos anos**"
      ],
      "metadata": {
        "id": "OdZqo6WELozd"
      }
    },
    {
      "cell_type": "code",
      "source": [
        "years_list = [2014, 2015, 2016, 2017, 2018, 2019, 2020, 2021, 2022]\n",
        "\n",
        "incidents_by_year = incidents_num_by_feature(years_list,'Year',incidents_data)\n",
        "\n",
        "year = pd.DataFrame({'Year':years_list,\n",
        "                     'total_of_incidents':incidents_by_year,\n",
        "                     })\n",
        "\n",
        "fig, ax1 = plt.subplots(figsize=(10,6))\n",
        "sns.set_theme(style='darkgrid')\n",
        "sns.lineplot(data=year, x='Year', y='total_of_incidents', color='salmon')\n",
        "plt.title(\"Distribuição de incidências criminais ao longo dos anos de 2014 a 2022\")\n",
        "plt.ylabel(\"Total de incidências\")\n",
        "plt.xlabel('Ano')\n",
        "\n",
        "\n",
        "plt.show()"
      ],
      "metadata": {
        "colab": {
          "base_uri": "https://localhost:8080/",
          "height": 410
        },
        "id": "s-8Q3ZHnAqHu",
        "outputId": "3c067d5f-e0b1-4dd6-c2c0-aa6be2dd30b0"
      },
      "execution_count": null,
      "outputs": [
        {
          "output_type": "display_data",
          "data": {
            "text/plain": [
              "<Figure size 720x432 with 1 Axes>"
            ],
            "image/png": "[encoded data removed]"
          },
          "metadata": {}
        }
      ]
    },
    {
      "cell_type": "markdown",
      "source": [
        "**O gráfico mostra que a incidência criminal tem períodos de alta e baixa ao longo dos anos**\n",
        "\n",
        "* **A maior incidência criminal dos últimos 9 anos aconteceu em 2018**\n",
        "\n",
        "* **Do ano de 2020 até o ano atual, a incidência de crimes tem diminuído consideravelmente, porém o número de amostras para o ano atual ainda não foi consolidada, e este índice ainda pode mudar**"
      ],
      "metadata": {
        "id": "SOjhOJDQGWU5"
      }
    },
    {
      "cell_type": "code",
      "source": [
        "force_total = incidents_data.groupby(['Incident_Type', 'Year']).count()\n",
        "force_total = force_total.reset_index(level=['Incident_Type', 'Year'])\n",
        "force_total.drop(['Month', 'Hour'], axis=1, inplace=True)\n",
        "force_total.rename(columns={'Day': 'Quantidade'}, inplace = True) \n",
        "\n",
        "fig = px.bar(force_total, x='Year', y='Quantidade', color='Incident_Type', title='Quantidade de aplicação do uso de força por ano (2014 a 2019)')\n",
        "fig.show() "
      ],
      "metadata": {
        "colab": {
          "base_uri": "https://localhost:8080/",
          "height": 542
        },
        "id": "rCo1bMSg1Sdo",
        "outputId": "d0720026-579e-40e3-a496-fb6ee85352aa"
      },
      "execution_count": null,
      "outputs": [
        {
          "output_type": "display_data",
          "data": {
            "text/html": [
              "<html>\n",
              "<head><meta charset=\"utf-8\" /></head>\n",
              "<body>\n",
              "    <div>            <script src=\"https://cdnjs.cloudflare.com/ajax/libs/mathjax/2.7.5/MathJax.js?config=TeX-AMS-MML_SVG\"></script><script type=\"text/javascript\">if (window.MathJax) {MathJax.Hub.Config({SVG: {font: \"STIX-Web\"}});}</script>                <script type=\"text/javascript\">window.PlotlyConfig = {MathJaxConfig: 'local'};</script>\n",
              "        <script src=\"https://cdn.plot.ly/plotly-2.8.3.min.js\"></script>                <div id=\"47c9b4c7-03b2-434a-9349-ed94893d2100\" class=\"plotly-graph-div\" style=\"height:525px; width:100%;\"></div>            <script type=\"text/javascript\">                                    window.PLOTLYENV=window.PLOTLYENV || {};                                    if (document.getElementById(\"47c9b4c7-03b2-434a-9349-ed94893d2100\")) {                    Plotly.newPlot(                        \"47c9b4c7-03b2-434a-9349-ed94893d2100\",                        [{\"alignmentgroup\":\"True\",\"hovertemplate\":\"Incident_Type=Level 1 - Use of Force<br>Year=%{x}<br>Quantidade=%{y}<extra></extra>\",\"legendgroup\":\"Level 1 - Use of Force\",\"marker\":{\"color\":\"#636efa\",\"pattern\":{\"shape\":\"\"}},\"name\":\"Level 1 - Use of Force\",\"offsetgroup\":\"Level 1 - Use of Force\",\"orientation\":\"v\",\"showlegend\":true,\"textposition\":\"auto\",\"x\":[2014,2015,2016,2017,2018,2019,2020,2021,2022],\"xaxis\":\"x\",\"y\":[1126,1492,1144,1207,1799,989,840,761,76],\"yaxis\":\"y\",\"type\":\"bar\"},{\"alignmentgroup\":\"True\",\"hovertemplate\":\"Incident_Type=Level 2 - Use of Force<br>Year=%{x}<br>Quantidade=%{y}<extra></extra>\",\"legendgroup\":\"Level 2 - Use of Force\",\"marker\":{\"color\":\"#EF553B\",\"pattern\":{\"shape\":\"\"}},\"name\":\"Level 2 - Use of Force\",\"offsetgroup\":\"Level 2 - Use of Force\",\"orientation\":\"v\",\"showlegend\":true,\"textposition\":\"auto\",\"x\":[2014,2015,2016,2017,2018,2019,2020,2021,2022],\"xaxis\":\"x\",\"y\":[498,466,359,343,357,311,1120,206,5],\"yaxis\":\"y\",\"type\":\"bar\"},{\"alignmentgroup\":\"True\",\"hovertemplate\":\"Incident_Type=Level 3 - OIS<br>Year=%{x}<br>Quantidade=%{y}<extra></extra>\",\"legendgroup\":\"Level 3 - OIS\",\"marker\":{\"color\":\"#00cc96\",\"pattern\":{\"shape\":\"\"}},\"name\":\"Level 3 - OIS\",\"offsetgroup\":\"Level 3 - OIS\",\"orientation\":\"v\",\"showlegend\":true,\"textposition\":\"auto\",\"x\":[2014,2015,2016,2017,2018,2019,2020,2021,2022],\"xaxis\":\"x\",\"y\":[23,15,5,20,3,13,5,8,1],\"yaxis\":\"y\",\"type\":\"bar\"},{\"alignmentgroup\":\"True\",\"hovertemplate\":\"Incident_Type=Level 3 - Use of Force<br>Year=%{x}<br>Quantidade=%{y}<extra></extra>\",\"legendgroup\":\"Level 3 - Use of Force\",\"marker\":{\"color\":\"#ab63fa\",\"pattern\":{\"shape\":\"\"}},\"name\":\"Level 3 - Use of Force\",\"offsetgroup\":\"Level 3 - Use of Force\",\"orientation\":\"v\",\"showlegend\":true,\"textposition\":\"auto\",\"x\":[2014,2015,2016,2017,2018,2019,2020,2021],\"xaxis\":\"x\",\"y\":[24,20,19,12,23,5,12,6],\"yaxis\":\"y\",\"type\":\"bar\"}],                        {\"template\":{\"data\":{\"bar\":[{\"error_x\":{\"color\":\"#2a3f5f\"},\"error_y\":{\"color\":\"#2a3f5f\"},\"marker\":{\"line\":{\"color\":\"#E5ECF6\",\"width\":0.5},\"pattern\":{\"fillmode\":\"overlay\",\"size\":10,\"solidity\":0.2}},\"type\":\"bar\"}],\"barpolar\":[{\"marker\":{\"line\":{\"color\":\"#E5ECF6\",\"width\":0.5},\"pattern\":{\"fillmode\":\"overlay\",\"size\":10,\"solidity\":0.2}},\"type\":\"barpolar\"}],\"carpet\":[{\"aaxis\":{\"endlinecolor\":\"#2a3f5f\",\"gridcolor\":\"white\",\"linecolor\":\"white\",\"minorgridcolor\":\"white\",\"startlinecolor\":\"#2a3f5f\"},\"baxis\":{\"endlinecolor\":\"#2a3f5f\",\"gridcolor\":\"white\",\"linecolor\":\"white\",\"minorgridcolor\":\"white\",\"startlinecolor\":\"#2a3f5f\"},\"type\":\"carpet\"}],\"choropleth\":[{\"colorbar\":{\"outlinewidth\":0,\"ticks\":\"\"},\"type\":\"choropleth\"}],\"contour\":[{\"colorbar\":{\"outlinewidth\":0,\"ticks\":\"\"},\"colorscale\":[[0.0,\"#0d0887\"],[0.1111111111111111,\"#46039f\"],[0.2222222222222222,\"#7201a8\"],[0.3333333333333333,\"#9c179e\"],[0.4444444444444444,\"#bd3786\"],[0.5555555555555556,\"#d8576b\"],[0.6666666666666666,\"#ed7953\"],[0.7777777777777778,\"#fb9f3a\"],[0.8888888888888888,\"#fdca26\"],[1.0,\"#f0f921\"]],\"type\":\"contour\"}],\"contourcarpet\":[{\"colorbar\":{\"outlinewidth\":0,\"ticks\":\"\"},\"type\":\"contourcarpet\"}],\"heatmap\":[{\"colorbar\":{\"outlinewidth\":0,\"ticks\":\"\"},\"colorscale\":[[0.0,\"#0d0887\"],[0.1111111111111111,\"#46039f\"],[0.2222222222222222,\"#7201a8\"],[0.3333333333333333,\"#9c179e\"],[0.4444444444444444,\"#bd3786\"],[0.5555555555555556,\"#d8576b\"],[0.6666666666666666,\"#ed7953\"],[0.7777777777777778,\"#fb9f3a\"],[0.8888888888888888,\"#fdca26\"],[1.0,\"#f0f921\"]],\"type\":\"heatmap\"}],\"heatmapgl\":[{\"colorbar\":{\"outlinewidth\":0,\"ticks\":\"\"},\"colorscale\":[[0.0,\"#0d0887\"],[0.1111111111111111,\"#46039f\"],[0.2222222222222222,\"#7201a8\"],[0.3333333333333333,\"#9c179e\"],[0.4444444444444444,\"#bd3786\"],[0.5555555555555556,\"#d8576b\"],[0.6666666666666666,\"#ed7953\"],[0.7777777777777778,\"#fb9f3a\"],[0.8888888888888888,\"#fdca26\"],[1.0,\"#f0f921\"]],\"type\":\"heatmapgl\"}],\"histogram\":[{\"marker\":{\"pattern\":{\"fillmode\":\"overlay\",\"size\":10,\"solidity\":0.2}},\"type\":\"histogram\"}],\"histogram2d\":[{\"colorbar\":{\"outlinewidth\":0,\"ticks\":\"\"},\"colorscale\":[[0.0,\"#0d0887\"],[0.1111111111111111,\"#46039f\"],[0.2222222222222222,\"#7201a8\"],[0.3333333333333333,\"#9c179e\"],[0.4444444444444444,\"#bd3786\"],[0.5555555555555556,\"#d8576b\"],[0.6666666666666666,\"#ed7953\"],[0.7777777777777778,\"#fb9f3a\"],[0.8888888888888888,\"#fdca26\"],[1.0,\"#f0f921\"]],\"type\":\"histogram2d\"}],\"histogram2dcontour\":[{\"colorbar\":{\"outlinewidth\":0,\"ticks\":\"\"},\"colorscale\":[[0.0,\"#0d0887\"],[0.1111111111111111,\"#46039f\"],[0.2222222222222222,\"#7201a8\"],[0.3333333333333333,\"#9c179e\"],[0.4444444444444444,\"#bd3786\"],[0.5555555555555556,\"#d8576b\"],[0.6666666666666666,\"#ed7953\"],[0.7777777777777778,\"#fb9f3a\"],[0.8888888888888888,\"#fdca26\"],[1.0,\"#f0f921\"]],\"type\":\"histogram2dcontour\"}],\"mesh3d\":[{\"colorbar\":{\"outlinewidth\":0,\"ticks\":\"\"},\"type\":\"mesh3d\"}],\"parcoords\":[{\"line\":{\"colorbar\":{\"outlinewidth\":0,\"ticks\":\"\"}},\"type\":\"parcoords\"}],\"pie\":[{\"automargin\":true,\"type\":\"pie\"}],\"scatter\":[{\"marker\":{\"colorbar\":{\"outlinewidth\":0,\"ticks\":\"\"}},\"type\":\"scatter\"}],\"scatter3d\":[{\"line\":{\"colorbar\":{\"outlinewidth\":0,\"ticks\":\"\"}},\"marker\":{\"colorbar\":{\"outlinewidth\":0,\"ticks\":\"\"}},\"type\":\"scatter3d\"}],\"scattercarpet\":[{\"marker\":{\"colorbar\":{\"outlinewidth\":0,\"ticks\":\"\"}},\"type\":\"scattercarpet\"}],\"scattergeo\":[{\"marker\":{\"colorbar\":{\"outlinewidth\":0,\"ticks\":\"\"}},\"type\":\"scattergeo\"}],\"scattergl\":[{\"marker\":{\"colorbar\":{\"outlinewidth\":0,\"ticks\":\"\"}},\"type\":\"scattergl\"}],\"scattermapbox\":[{\"marker\":{\"colorbar\":{\"outlinewidth\":0,\"ticks\":\"\"}},\"type\":\"scattermapbox\"}],\"scatterpolar\":[{\"marker\":{\"colorbar\":{\"outlinewidth\":0,\"ticks\":\"\"}},\"type\":\"scatterpolar\"}],\"scatterpolargl\":[{\"marker\":{\"colorbar\":{\"outlinewidth\":0,\"ticks\":\"\"}},\"type\":\"scatterpolargl\"}],\"scatterternary\":[{\"marker\":{\"colorbar\":{\"outlinewidth\":0,\"ticks\":\"\"}},\"type\":\"scatterternary\"}],\"surface\":[{\"colorbar\":{\"outlinewidth\":0,\"ticks\":\"\"},\"colorscale\":[[0.0,\"#0d0887\"],[0.1111111111111111,\"#46039f\"],[0.2222222222222222,\"#7201a8\"],[0.3333333333333333,\"#9c179e\"],[0.4444444444444444,\"#bd3786\"],[0.5555555555555556,\"#d8576b\"],[0.6666666666666666,\"#ed7953\"],[0.7777777777777778,\"#fb9f3a\"],[0.8888888888888888,\"#fdca26\"],[1.0,\"#f0f921\"]],\"type\":\"surface\"}],\"table\":[{\"cells\":{\"fill\":{\"color\":\"#EBF0F8\"},\"line\":{\"color\":\"white\"}},\"header\":{\"fill\":{\"color\":\"#C8D4E3\"},\"line\":{\"color\":\"white\"}},\"type\":\"table\"}]},\"layout\":{\"annotationdefaults\":{\"arrowcolor\":\"#2a3f5f\",\"arrowhead\":0,\"arrowwidth\":1},\"autotypenumbers\":\"strict\",\"coloraxis\":{\"colorbar\":{\"outlinewidth\":0,\"ticks\":\"\"}},\"colorscale\":{\"diverging\":[[0,\"#8e0152\"],[0.1,\"#c51b7d\"],[0.2,\"#de77ae\"],[0.3,\"#f1b6da\"],[0.4,\"#fde0ef\"],[0.5,\"#f7f7f7\"],[0.6,\"#e6f5d0\"],[0.7,\"#b8e186\"],[0.8,\"#7fbc41\"],[0.9,\"#4d9221\"],[1,\"#276419\"]],\"sequential\":[[0.0,\"#0d0887\"],[0.1111111111111111,\"#46039f\"],[0.2222222222222222,\"#7201a8\"],[0.3333333333333333,\"#9c179e\"],[0.4444444444444444,\"#bd3786\"],[0.5555555555555556,\"#d8576b\"],[0.6666666666666666,\"#ed7953\"],[0.7777777777777778,\"#fb9f3a\"],[0.8888888888888888,\"#fdca26\"],[1.0,\"#f0f921\"]],\"sequentialminus\":[[0.0,\"#0d0887\"],[0.1111111111111111,\"#46039f\"],[0.2222222222222222,\"#7201a8\"],[0.3333333333333333,\"#9c179e\"],[0.4444444444444444,\"#bd3786\"],[0.5555555555555556,\"#d8576b\"],[0.6666666666666666,\"#ed7953\"],[0.7777777777777778,\"#fb9f3a\"],[0.8888888888888888,\"#fdca26\"],[1.0,\"#f0f921\"]]},\"colorway\":[\"#636efa\",\"#EF553B\",\"#00cc96\",\"#ab63fa\",\"#FFA15A\",\"#19d3f3\",\"#FF6692\",\"#B6E880\",\"#FF97FF\",\"#FECB52\"],\"font\":{\"color\":\"#2a3f5f\"},\"geo\":{\"bgcolor\":\"white\",\"lakecolor\":\"white\",\"landcolor\":\"#E5ECF6\",\"showlakes\":true,\"showland\":true,\"subunitcolor\":\"white\"},\"hoverlabel\":{\"align\":\"left\"},\"hovermode\":\"closest\",\"mapbox\":{\"style\":\"light\"},\"paper_bgcolor\":\"white\",\"plot_bgcolor\":\"#E5ECF6\",\"polar\":{\"angularaxis\":{\"gridcolor\":\"white\",\"linecolor\":\"white\",\"ticks\":\"\"},\"bgcolor\":\"#E5ECF6\",\"radialaxis\":{\"gridcolor\":\"white\",\"linecolor\":\"white\",\"ticks\":\"\"}},\"scene\":{\"xaxis\":{\"backgroundcolor\":\"#E5ECF6\",\"gridcolor\":\"white\",\"gridwidth\":2,\"linecolor\":\"white\",\"showbackground\":true,\"ticks\":\"\",\"zerolinecolor\":\"white\"},\"yaxis\":{\"backgroundcolor\":\"#E5ECF6\",\"gridcolor\":\"white\",\"gridwidth\":2,\"linecolor\":\"white\",\"showbackground\":true,\"ticks\":\"\",\"zerolinecolor\":\"white\"},\"zaxis\":{\"backgroundcolor\":\"#E5ECF6\",\"gridcolor\":\"white\",\"gridwidth\":2,\"linecolor\":\"white\",\"showbackground\":true,\"ticks\":\"\",\"zerolinecolor\":\"white\"}},\"shapedefaults\":{\"line\":{\"color\":\"#2a3f5f\"}},\"ternary\":{\"aaxis\":{\"gridcolor\":\"white\",\"linecolor\":\"white\",\"ticks\":\"\"},\"baxis\":{\"gridcolor\":\"white\",\"linecolor\":\"white\",\"ticks\":\"\"},\"bgcolor\":\"#E5ECF6\",\"caxis\":{\"gridcolor\":\"white\",\"linecolor\":\"white\",\"ticks\":\"\"}},\"title\":{\"x\":0.05},\"xaxis\":{\"automargin\":true,\"gridcolor\":\"white\",\"linecolor\":\"white\",\"ticks\":\"\",\"title\":{\"standoff\":15},\"zerolinecolor\":\"white\",\"zerolinewidth\":2},\"yaxis\":{\"automargin\":true,\"gridcolor\":\"white\",\"linecolor\":\"white\",\"ticks\":\"\",\"title\":{\"standoff\":15},\"zerolinecolor\":\"white\",\"zerolinewidth\":2}}},\"xaxis\":{\"anchor\":\"y\",\"domain\":[0.0,1.0],\"title\":{\"text\":\"Year\"}},\"yaxis\":{\"anchor\":\"x\",\"domain\":[0.0,1.0],\"title\":{\"text\":\"Quantidade\"}},\"legend\":{\"title\":{\"text\":\"Incident_Type\"},\"tracegroupgap\":0},\"title\":{\"text\":\"Quantidade de aplica\\u00e7\\u00e3o do uso de for\\u00e7a por ano (2014 a 2019)\"},\"barmode\":\"relative\"},                        {\"responsive\": true}                    ).then(function(){\n",
              "                            \n",
              "var gd = document.getElementById('47c9b4c7-03b2-434a-9349-ed94893d2100');\n",
              "var x = new MutationObserver(function (mutations, observer) {{\n",
              "        var display = window.getComputedStyle(gd).display;\n",
              "        if (!display || display === 'none') {{\n",
              "            console.log([gd, 'removed!']);\n",
              "            Plotly.purge(gd);\n",
              "            observer.disconnect();\n",
              "        }}\n",
              "}});\n",
              "\n",
              "// Listen for the removal of the full notebook cells\n",
              "var notebookContainer = gd.closest('#notebook-container');\n",
              "if (notebookContainer) {{\n",
              "    x.observe(notebookContainer, {childList: true});\n",
              "}}\n",
              "\n",
              "// Listen for the clearing of the current output cell\n",
              "var outputEl = gd.closest('.output');\n",
              "if (outputEl) {{\n",
              "    x.observe(outputEl, {childList: true});\n",
              "}}\n",
              "\n",
              "                        })                };                            </script>        </div>\n",
              "</body>\n",
              "</html>"
            ]
          },
          "metadata": {}
        }
      ]
    },
    {
      "cell_type": "markdown",
      "source": [
        "Quando o uso de força foi massivamente Level 2, os incidentes do ano seguinte diminuíram consideravelmente"
      ],
      "metadata": {
        "id": "LDTR1wwu1_P6"
      }
    },
    {
      "cell_type": "markdown",
      "source": [
        "Por fim, podemos resumir as análises para a questão 1, da seguinte forma:\n",
        "\n",
        "* As incidências de crimes ao longo desses 9 anos em Seattle, ocorreram em sua maioria no período noturno, com pico às 20H, geralmente a maior incidência é aos sábados. Porém, após o ano de 2020, quando o uso de força Level 2 foi aplicado de forma mais incisiva, a incidência de crimes diminuiu consideravelmente.\n"
      ],
      "metadata": {
        "id": "AKdWwIn3H-pV"
      }
    },
    {
      "cell_type": "markdown",
      "source": [
        "####  2️⃣ Uma métrica interessante para a polícia é o grau de reincidência por parte dos civis. Apresente o percentual de casos reincidentes em relação ao total de incidentes em cada setor e verifique se há correlação entre esta métrica e o percentual de incidentes “Level 2” calculado na questão. Que interpretação pode ser dada a este resultado?"
      ],
      "metadata": {
        "id": "KF1NWy9yjwkE"
      }
    },
    {
      "cell_type": "markdown",
      "source": [
        "Para responder essa questão é necessário utilizar a engenharia de dados para formar novos atributos que nos dêem informações mais específicas do que queremos encontrar.\n",
        "\n",
        "A partir das variáveis *Subject_ID*, *Sector* e *Incident_Type* podemos obter:\n",
        "\n",
        "* Os *Sector* associados a cada reincidente\n",
        "* Total de incidentes em cada *Sector*\n",
        "* A quantidade de pessoas com reincidentes criminais em cada *Sector*\n",
        "* O percentual de reincidentes em cada Sector\n",
        "* A quantidade de uso de força Level 2 em cada *Sector*\n",
        "* Percentual de incidentes Level 2 por Sector\n",
        "\n",
        "Utilizando algumas métricas auxiliares e análises dos resultados podemos dizer se o percentual de casos reincidentes em relação ao total de incidentes em cada setor tem correlação com o percentual de incidentes “Level 2”"
      ],
      "metadata": {
        "id": "xWBYNZSiNGp6"
      }
    },
    {
      "cell_type": "code",
      "source": [
        "# criando base de dados com atributos chave\n",
        "reincidents_data = raw_data.drop(['Incident_Num', 'Occured_date_time', 'Precinct',\n",
        "                                  'Beat',\t'Subject_Race',\t'Subject_Gender'], axis=1)\n",
        "\n",
        "reincidents_data.head()"
      ],
      "metadata": {
        "colab": {
          "base_uri": "https://localhost:8080/",
          "height": 206
        },
        "id": "Z5cgagASTRJP",
        "outputId": "3012414b-fff9-4b18-d8e6-b99fe305851e"
      },
      "execution_count": null,
      "outputs": [
        {
          "output_type": "execute_result",
          "data": {
            "text/plain": [
              "            Incident_Type   Sector  Subject_ID\n",
              "0  Level 1 - Use of Force  CHARLIE         203\n",
              "1  Level 1 - Use of Force   GEORGE         166\n",
              "2  Level 1 - Use of Force     KING         125\n",
              "3  Level 1 - Use of Force   EDWARD         126\n",
              "4  Level 1 - Use of Force   ROBERT         172"
            ],
            "text/html": [
              "\n",
              "  <div id=\"df-0105123d-fe28-4e27-84a8-ec749ff3df08\">\n",
              "    <div class=\"colab-df-container\">\n",
              "      <div>\n",
              "<style scoped>\n",
              "    .dataframe tbody tr th:only-of-type {\n",
              "        vertical-align: middle;\n",
              "    }\n",
              "\n",
              "    .dataframe tbody tr th {\n",
              "        vertical-align: top;\n",
              "    }\n",
              "\n",
              "    .dataframe thead th {\n",
              "        text-align: right;\n",
              "    }\n",
              "</style>\n",
              "<table border=\"1\" class=\"dataframe\">\n",
              "  <thead>\n",
              "    <tr style=\"text-align: right;\">\n",
              "      <th></th>\n",
              "      <th>Incident_Type</th>\n",
              "      <th>Sector</th>\n",
              "      <th>Subject_ID</th>\n",
              "    </tr>\n",
              "  </thead>\n",
              "  <tbody>\n",
              "    <tr>\n",
              "      <th>0</th>\n",
              "      <td>Level 1 - Use of Force</td>\n",
              "      <td>CHARLIE</td>\n",
              "      <td>203</td>\n",
              "    </tr>\n",
              "    <tr>\n",
              "      <th>1</th>\n",
              "      <td>Level 1 - Use of Force</td>\n",
              "      <td>GEORGE</td>\n",
              "      <td>166</td>\n",
              "    </tr>\n",
              "    <tr>\n",
              "      <th>2</th>\n",
              "      <td>Level 1 - Use of Force</td>\n",
              "      <td>KING</td>\n",
              "      <td>125</td>\n",
              "    </tr>\n",
              "    <tr>\n",
              "      <th>3</th>\n",
              "      <td>Level 1 - Use of Force</td>\n",
              "      <td>EDWARD</td>\n",
              "      <td>126</td>\n",
              "    </tr>\n",
              "    <tr>\n",
              "      <th>4</th>\n",
              "      <td>Level 1 - Use of Force</td>\n",
              "      <td>ROBERT</td>\n",
              "      <td>172</td>\n",
              "    </tr>\n",
              "  </tbody>\n",
              "</table>\n",
              "</div>\n",
              "      <button class=\"colab-df-convert\" onclick=\"convertToInteractive('df-0105123d-fe28-4e27-84a8-ec749ff3df08')\"\n",
              "              title=\"Convert this dataframe to an interactive table.\"\n",
              "              style=\"display:none;\">\n",
              "        \n",
              "  <svg xmlns=\"http://www.w3.org/2000/svg\" height=\"24px\"viewBox=\"0 0 24 24\"\n",
              "       width=\"24px\">\n",
              "    <path d=\"M0 0h24v24H0V0z\" fill=\"none\"/>\n",
              "    <path d=\"M18.56 5.44l.94 2.06.94-2.06 2.06-.94-2.06-.94-.94-2.06-.94 2.06-2.06.94zm-11 1L8.5 8.5l.94-2.06 2.06-.94-2.06-.94L8.5 2.5l-.94 2.06-2.06.94zm10 10l.94 2.06.94-2.06 2.06-.94-2.06-.94-.94-2.06-.94 2.06-2.06.94z\"/><path d=\"M17.41 7.96l-1.37-1.37c-.4-.4-.92-.59-1.43-.59-.52 0-1.04.2-1.43.59L10.3 9.45l-7.72 7.72c-.78.78-.78 2.05 0 2.83L4 21.41c.39.39.9.59 1.41.59.51 0 1.02-.2 1.41-.59l7.78-7.78 2.81-2.81c.8-.78.8-2.07 0-2.86zM5.41 20L4 18.59l7.72-7.72 1.47 1.35L5.41 20z\"/>\n",
              "  </svg>\n",
              "      </button>\n",
              "      \n",
              "  <style>\n",
              "    .colab-df-container {\n",
              "      display:flex;\n",
              "      flex-wrap:wrap;\n",
              "      gap: 12px;\n",
              "    }\n",
              "\n",
              "    .colab-df-convert {\n",
              "      background-color: #E8F0FE;\n",
              "      border: none;\n",
              "      border-radius: 50%;\n",
              "      cursor: pointer;\n",
              "      display: none;\n",
              "      fill: #1967D2;\n",
              "      height: 32px;\n",
              "      padding: 0 0 0 0;\n",
              "      width: 32px;\n",
              "    }\n",
              "\n",
              "    .colab-df-convert:hover {\n",
              "      background-color: #E2EBFA;\n",
              "      box-shadow: 0px 1px 2px rgba(60, 64, 67, 0.3), 0px 1px 3px 1px rgba(60, 64, 67, 0.15);\n",
              "      fill: #174EA6;\n",
              "    }\n",
              "\n",
              "    [theme=dark] .colab-df-convert {\n",
              "      background-color: #3B4455;\n",
              "      fill: #D2E3FC;\n",
              "    }\n",
              "\n",
              "    [theme=dark] .colab-df-convert:hover {\n",
              "      background-color: #434B5C;\n",
              "      box-shadow: 0px 1px 3px 1px rgba(0, 0, 0, 0.15);\n",
              "      filter: drop-shadow(0px 1px 2px rgba(0, 0, 0, 0.3));\n",
              "      fill: #FFFFFF;\n",
              "    }\n",
              "  </style>\n",
              "\n",
              "      <script>\n",
              "        const buttonEl =\n",
              "          document.querySelector('#df-0105123d-fe28-4e27-84a8-ec749ff3df08 button.colab-df-convert');\n",
              "        buttonEl.style.display =\n",
              "          google.colab.kernel.accessAllowed ? 'block' : 'none';\n",
              "\n",
              "        async function convertToInteractive(key) {\n",
              "          const element = document.querySelector('#df-0105123d-fe28-4e27-84a8-ec749ff3df08');\n",
              "          const dataTable =\n",
              "            await google.colab.kernel.invokeFunction('convertToInteractive',\n",
              "                                                     [key], {});\n",
              "          if (!dataTable) return;\n",
              "\n",
              "          const docLinkHtml = 'Like what you see? Visit the ' +\n",
              "            '<a target=\"_blank\" href=https://colab.research.google.com/notebooks/data_table.ipynb>data table notebook</a>'\n",
              "            + ' to learn more about interactive tables.';\n",
              "          element.innerHTML = '';\n",
              "          dataTable['output_type'] = 'display_data';\n",
              "          await google.colab.output.renderOutput(dataTable, element);\n",
              "          const docLink = document.createElement('div');\n",
              "          docLink.innerHTML = docLinkHtml;\n",
              "          element.appendChild(docLink);\n",
              "        }\n",
              "      </script>\n",
              "    </div>\n",
              "  </div>\n",
              "  "
            ]
          },
          "metadata": {},
          "execution_count": 24
        }
      ]
    },
    {
      "cell_type": "code",
      "source": [
        "# adiquirindo a lista de todos os civis reincidentes\n",
        "def check_repeated_IDs(lista):\n",
        "  reincidents = []\n",
        "  for i in range(len(lista)):\n",
        "    if lista.index(lista[i])!=i:\n",
        "      if lista[i] not in reincidents:\n",
        "        reincidents.append(lista[i])\n",
        "  return reincidents\n",
        "\n",
        "subjects_list = reincidents_data['Subject_ID'].tolist()\n",
        "reincidents_list = check_repeated_IDs(subjects_list)"
      ],
      "metadata": {
        "id": "gOSchBXJUkYP"
      },
      "execution_count": null,
      "outputs": []
    },
    {
      "cell_type": "code",
      "source": [
        "# refinando a busca para encontrarmos o número de reincidência destes civis\n",
        "num_reincidents_list = []\n",
        "for re in reincidents_list:\n",
        "  counter = 0\n",
        "  for i in reincidents_data['Subject_ID']:\n",
        "    if i == re:\n",
        "      counter += 1\n",
        "  num_reincidents_list.append(counter)\n",
        "\n",
        "reinc_data = pd.DataFrame({'Subject_ID':reincidents_list,\n",
        "                           'num_of_reincidents':num_reincidents_list,\n",
        "                          })"
      ],
      "metadata": {
        "id": "c_WGUj2ikxki"
      },
      "execution_count": null,
      "outputs": []
    },
    {
      "cell_type": "code",
      "source": [
        "# formando base de dados dos reincidentes\n",
        "reinc_data = pd.merge(reinc_data, reincidents_data, on=['Subject_ID'])\n",
        "reinc_data = reinc_data.drop_duplicates(subset='Subject_ID', keep='first')"
      ],
      "metadata": {
        "id": "WFtAnbMmlt6P"
      },
      "execution_count": null,
      "outputs": []
    },
    {
      "cell_type": "code",
      "source": [
        "# Calculando o total de reincidências em cada Sector\n",
        "reinc_data1 = reinc_data.drop(['Subject_ID'], axis=1)\n",
        "reinc_data_per_sector = reinc_data1.groupby(['Sector']).sum()\n",
        "reinc_data_per_sector = reinc_data_per_sector.reset_index()\n",
        "reinc_data_per_sector.head(17)"
      ],
      "metadata": {
        "colab": {
          "base_uri": "https://localhost:8080/",
          "height": 582
        },
        "id": "duSHhNDwxhym",
        "outputId": "42751d08-a280-47ef-ad52-06bdb0deba4f"
      },
      "execution_count": null,
      "outputs": [
        {
          "output_type": "execute_result",
          "data": {
            "text/plain": [
              "     Sector  num_of_reincidents\n",
              "0       BOY                 373\n",
              "1   CHARLIE                 261\n",
              "2     DAVID                 817\n",
              "3    EDWARD                1088\n",
              "4     FRANK                 323\n",
              "5    GEORGE                 530\n",
              "6      JOHN                 310\n",
              "7      KING                1093\n",
              "8   LINCOLN                 443\n",
              "9      MARY                 666\n",
              "10     NORA                 562\n",
              "11    OCEAN                 301\n",
              "12    QUEEN                 343\n",
              "13   ROBERT                 517\n",
              "14      SAM                 644\n",
              "15    UNION                 514\n",
              "16  WILLIAM                 232"
            ],
            "text/html": [
              "\n",
              "  <div id=\"df-41db532f-14de-472d-b1e3-c6bc0e6b194b\">\n",
              "    <div class=\"colab-df-container\">\n",
              "      <div>\n",
              "<style scoped>\n",
              "    .dataframe tbody tr th:only-of-type {\n",
              "        vertical-align: middle;\n",
              "    }\n",
              "\n",
              "    .dataframe tbody tr th {\n",
              "        vertical-align: top;\n",
              "    }\n",
              "\n",
              "    .dataframe thead th {\n",
              "        text-align: right;\n",
              "    }\n",
              "</style>\n",
              "<table border=\"1\" class=\"dataframe\">\n",
              "  <thead>\n",
              "    <tr style=\"text-align: right;\">\n",
              "      <th></th>\n",
              "      <th>Sector</th>\n",
              "      <th>num_of_reincidents</th>\n",
              "    </tr>\n",
              "  </thead>\n",
              "  <tbody>\n",
              "    <tr>\n",
              "      <th>0</th>\n",
              "      <td>BOY</td>\n",
              "      <td>373</td>\n",
              "    </tr>\n",
              "    <tr>\n",
              "      <th>1</th>\n",
              "      <td>CHARLIE</td>\n",
              "      <td>261</td>\n",
              "    </tr>\n",
              "    <tr>\n",
              "      <th>2</th>\n",
              "      <td>DAVID</td>\n",
              "      <td>817</td>\n",
              "    </tr>\n",
              "    <tr>\n",
              "      <th>3</th>\n",
              "      <td>EDWARD</td>\n",
              "      <td>1088</td>\n",
              "    </tr>\n",
              "    <tr>\n",
              "      <th>4</th>\n",
              "      <td>FRANK</td>\n",
              "      <td>323</td>\n",
              "    </tr>\n",
              "    <tr>\n",
              "      <th>5</th>\n",
              "      <td>GEORGE</td>\n",
              "      <td>530</td>\n",
              "    </tr>\n",
              "    <tr>\n",
              "      <th>6</th>\n",
              "      <td>JOHN</td>\n",
              "      <td>310</td>\n",
              "    </tr>\n",
              "    <tr>\n",
              "      <th>7</th>\n",
              "      <td>KING</td>\n",
              "      <td>1093</td>\n",
              "    </tr>\n",
              "    <tr>\n",
              "      <th>8</th>\n",
              "      <td>LINCOLN</td>\n",
              "      <td>443</td>\n",
              "    </tr>\n",
              "    <tr>\n",
              "      <th>9</th>\n",
              "      <td>MARY</td>\n",
              "      <td>666</td>\n",
              "    </tr>\n",
              "    <tr>\n",
              "      <th>10</th>\n",
              "      <td>NORA</td>\n",
              "      <td>562</td>\n",
              "    </tr>\n",
              "    <tr>\n",
              "      <th>11</th>\n",
              "      <td>OCEAN</td>\n",
              "      <td>301</td>\n",
              "    </tr>\n",
              "    <tr>\n",
              "      <th>12</th>\n",
              "      <td>QUEEN</td>\n",
              "      <td>343</td>\n",
              "    </tr>\n",
              "    <tr>\n",
              "      <th>13</th>\n",
              "      <td>ROBERT</td>\n",
              "      <td>517</td>\n",
              "    </tr>\n",
              "    <tr>\n",
              "      <th>14</th>\n",
              "      <td>SAM</td>\n",
              "      <td>644</td>\n",
              "    </tr>\n",
              "    <tr>\n",
              "      <th>15</th>\n",
              "      <td>UNION</td>\n",
              "      <td>514</td>\n",
              "    </tr>\n",
              "    <tr>\n",
              "      <th>16</th>\n",
              "      <td>WILLIAM</td>\n",
              "      <td>232</td>\n",
              "    </tr>\n",
              "  </tbody>\n",
              "</table>\n",
              "</div>\n",
              "      <button class=\"colab-df-convert\" onclick=\"convertToInteractive('df-41db532f-14de-472d-b1e3-c6bc0e6b194b')\"\n",
              "              title=\"Convert this dataframe to an interactive table.\"\n",
              "              style=\"display:none;\">\n",
              "        \n",
              "  <svg xmlns=\"http://www.w3.org/2000/svg\" height=\"24px\"viewBox=\"0 0 24 24\"\n",
              "       width=\"24px\">\n",
              "    <path d=\"M0 0h24v24H0V0z\" fill=\"none\"/>\n",
              "    <path d=\"M18.56 5.44l.94 2.06.94-2.06 2.06-.94-2.06-.94-.94-2.06-.94 2.06-2.06.94zm-11 1L8.5 8.5l.94-2.06 2.06-.94-2.06-.94L8.5 2.5l-.94 2.06-2.06.94zm10 10l.94 2.06.94-2.06 2.06-.94-2.06-.94-.94-2.06-.94 2.06-2.06.94z\"/><path d=\"M17.41 7.96l-1.37-1.37c-.4-.4-.92-.59-1.43-.59-.52 0-1.04.2-1.43.59L10.3 9.45l-7.72 7.72c-.78.78-.78 2.05 0 2.83L4 21.41c.39.39.9.59 1.41.59.51 0 1.02-.2 1.41-.59l7.78-7.78 2.81-2.81c.8-.78.8-2.07 0-2.86zM5.41 20L4 18.59l7.72-7.72 1.47 1.35L5.41 20z\"/>\n",
              "  </svg>\n",
              "      </button>\n",
              "      \n",
              "  <style>\n",
              "    .colab-df-container {\n",
              "      display:flex;\n",
              "      flex-wrap:wrap;\n",
              "      gap: 12px;\n",
              "    }\n",
              "\n",
              "    .colab-df-convert {\n",
              "      background-color: #E8F0FE;\n",
              "      border: none;\n",
              "      border-radius: 50%;\n",
              "      cursor: pointer;\n",
              "      display: none;\n",
              "      fill: #1967D2;\n",
              "      height: 32px;\n",
              "      padding: 0 0 0 0;\n",
              "      width: 32px;\n",
              "    }\n",
              "\n",
              "    .colab-df-convert:hover {\n",
              "      background-color: #E2EBFA;\n",
              "      box-shadow: 0px 1px 2px rgba(60, 64, 67, 0.3), 0px 1px 3px 1px rgba(60, 64, 67, 0.15);\n",
              "      fill: #174EA6;\n",
              "    }\n",
              "\n",
              "    [theme=dark] .colab-df-convert {\n",
              "      background-color: #3B4455;\n",
              "      fill: #D2E3FC;\n",
              "    }\n",
              "\n",
              "    [theme=dark] .colab-df-convert:hover {\n",
              "      background-color: #434B5C;\n",
              "      box-shadow: 0px 1px 3px 1px rgba(0, 0, 0, 0.15);\n",
              "      filter: drop-shadow(0px 1px 2px rgba(0, 0, 0, 0.3));\n",
              "      fill: #FFFFFF;\n",
              "    }\n",
              "  </style>\n",
              "\n",
              "      <script>\n",
              "        const buttonEl =\n",
              "          document.querySelector('#df-41db532f-14de-472d-b1e3-c6bc0e6b194b button.colab-df-convert');\n",
              "        buttonEl.style.display =\n",
              "          google.colab.kernel.accessAllowed ? 'block' : 'none';\n",
              "\n",
              "        async function convertToInteractive(key) {\n",
              "          const element = document.querySelector('#df-41db532f-14de-472d-b1e3-c6bc0e6b194b');\n",
              "          const dataTable =\n",
              "            await google.colab.kernel.invokeFunction('convertToInteractive',\n",
              "                                                     [key], {});\n",
              "          if (!dataTable) return;\n",
              "\n",
              "          const docLinkHtml = 'Like what you see? Visit the ' +\n",
              "            '<a target=\"_blank\" href=https://colab.research.google.com/notebooks/data_table.ipynb>data table notebook</a>'\n",
              "            + ' to learn more about interactive tables.';\n",
              "          element.innerHTML = '';\n",
              "          dataTable['output_type'] = 'display_data';\n",
              "          await google.colab.output.renderOutput(dataTable, element);\n",
              "          const docLink = document.createElement('div');\n",
              "          docLink.innerHTML = docLinkHtml;\n",
              "          element.appendChild(docLink);\n",
              "        }\n",
              "      </script>\n",
              "    </div>\n",
              "  </div>\n",
              "  "
            ]
          },
          "metadata": {},
          "execution_count": 28
        }
      ]
    },
    {
      "cell_type": "code",
      "source": [
        "# calculando o número total de incidências em cada Sector\n",
        "sectors_list = ['GEORGE', 'KING', 'LINCOLN', 'DAVID', 'FRANK', 'JOHN', 'NORA',\n",
        "           'BOY', 'MARY', 'SAM', 'EDWARD', 'CHARLIE', 'QUEEN', 'UNION',\n",
        "           'ROBERT', 'OCEAN', 'WILLIAM']\n",
        "\n",
        "incidents_by_sector = incidents_num_by_feature(sectors_list, 'Sector',raw_data)\n",
        "\n",
        "sector = pd.DataFrame({'Sector':sectors_list,\n",
        "                     'num_of_incidents':incidents_by_sector,\n",
        "                     })\n",
        "\n",
        "sector.head(17)"
      ],
      "metadata": {
        "colab": {
          "base_uri": "https://localhost:8080/",
          "height": 582
        },
        "id": "E2ezNcIgu-t_",
        "outputId": "66e434c2-d958-40b7-e0d1-e4f60bab0fe5"
      },
      "execution_count": null,
      "outputs": [
        {
          "output_type": "execute_result",
          "data": {
            "text/plain": [
              "     Sector  num_of_incidents\n",
              "0    GEORGE               688\n",
              "1      KING              1505\n",
              "2   LINCOLN               644\n",
              "3     DAVID              1049\n",
              "4     FRANK               471\n",
              "5      JOHN               441\n",
              "6      NORA               913\n",
              "7       BOY               525\n",
              "8      MARY               998\n",
              "9       SAM               947\n",
              "10   EDWARD              1738\n",
              "11  CHARLIE               425\n",
              "12    QUEEN               509\n",
              "13    UNION               690\n",
              "14   ROBERT               877\n",
              "15    OCEAN               551\n",
              "16  WILLIAM               342"
            ],
            "text/html": [
              "\n",
              "  <div id=\"df-4f9100d5-90bd-4ff0-81a2-acfcfe263f11\">\n",
              "    <div class=\"colab-df-container\">\n",
              "      <div>\n",
              "<style scoped>\n",
              "    .dataframe tbody tr th:only-of-type {\n",
              "        vertical-align: middle;\n",
              "    }\n",
              "\n",
              "    .dataframe tbody tr th {\n",
              "        vertical-align: top;\n",
              "    }\n",
              "\n",
              "    .dataframe thead th {\n",
              "        text-align: right;\n",
              "    }\n",
              "</style>\n",
              "<table border=\"1\" class=\"dataframe\">\n",
              "  <thead>\n",
              "    <tr style=\"text-align: right;\">\n",
              "      <th></th>\n",
              "      <th>Sector</th>\n",
              "      <th>num_of_incidents</th>\n",
              "    </tr>\n",
              "  </thead>\n",
              "  <tbody>\n",
              "    <tr>\n",
              "      <th>0</th>\n",
              "      <td>GEORGE</td>\n",
              "      <td>688</td>\n",
              "    </tr>\n",
              "    <tr>\n",
              "      <th>1</th>\n",
              "      <td>KING</td>\n",
              "      <td>1505</td>\n",
              "    </tr>\n",
              "    <tr>\n",
              "      <th>2</th>\n",
              "      <td>LINCOLN</td>\n",
              "      <td>644</td>\n",
              "    </tr>\n",
              "    <tr>\n",
              "      <th>3</th>\n",
              "      <td>DAVID</td>\n",
              "      <td>1049</td>\n",
              "    </tr>\n",
              "    <tr>\n",
              "      <th>4</th>\n",
              "      <td>FRANK</td>\n",
              "      <td>471</td>\n",
              "    </tr>\n",
              "    <tr>\n",
              "      <th>5</th>\n",
              "      <td>JOHN</td>\n",
              "      <td>441</td>\n",
              "    </tr>\n",
              "    <tr>\n",
              "      <th>6</th>\n",
              "      <td>NORA</td>\n",
              "      <td>913</td>\n",
              "    </tr>\n",
              "    <tr>\n",
              "      <th>7</th>\n",
              "      <td>BOY</td>\n",
              "      <td>525</td>\n",
              "    </tr>\n",
              "    <tr>\n",
              "      <th>8</th>\n",
              "      <td>MARY</td>\n",
              "      <td>998</td>\n",
              "    </tr>\n",
              "    <tr>\n",
              "      <th>9</th>\n",
              "      <td>SAM</td>\n",
              "      <td>947</td>\n",
              "    </tr>\n",
              "    <tr>\n",
              "      <th>10</th>\n",
              "      <td>EDWARD</td>\n",
              "      <td>1738</td>\n",
              "    </tr>\n",
              "    <tr>\n",
              "      <th>11</th>\n",
              "      <td>CHARLIE</td>\n",
              "      <td>425</td>\n",
              "    </tr>\n",
              "    <tr>\n",
              "      <th>12</th>\n",
              "      <td>QUEEN</td>\n",
              "      <td>509</td>\n",
              "    </tr>\n",
              "    <tr>\n",
              "      <th>13</th>\n",
              "      <td>UNION</td>\n",
              "      <td>690</td>\n",
              "    </tr>\n",
              "    <tr>\n",
              "      <th>14</th>\n",
              "      <td>ROBERT</td>\n",
              "      <td>877</td>\n",
              "    </tr>\n",
              "    <tr>\n",
              "      <th>15</th>\n",
              "      <td>OCEAN</td>\n",
              "      <td>551</td>\n",
              "    </tr>\n",
              "    <tr>\n",
              "      <th>16</th>\n",
              "      <td>WILLIAM</td>\n",
              "      <td>342</td>\n",
              "    </tr>\n",
              "  </tbody>\n",
              "</table>\n",
              "</div>\n",
              "      <button class=\"colab-df-convert\" onclick=\"convertToInteractive('df-4f9100d5-90bd-4ff0-81a2-acfcfe263f11')\"\n",
              "              title=\"Convert this dataframe to an interactive table.\"\n",
              "              style=\"display:none;\">\n",
              "        \n",
              "  <svg xmlns=\"http://www.w3.org/2000/svg\" height=\"24px\"viewBox=\"0 0 24 24\"\n",
              "       width=\"24px\">\n",
              "    <path d=\"M0 0h24v24H0V0z\" fill=\"none\"/>\n",
              "    <path d=\"M18.56 5.44l.94 2.06.94-2.06 2.06-.94-2.06-.94-.94-2.06-.94 2.06-2.06.94zm-11 1L8.5 8.5l.94-2.06 2.06-.94-2.06-.94L8.5 2.5l-.94 2.06-2.06.94zm10 10l.94 2.06.94-2.06 2.06-.94-2.06-.94-.94-2.06-.94 2.06-2.06.94z\"/><path d=\"M17.41 7.96l-1.37-1.37c-.4-.4-.92-.59-1.43-.59-.52 0-1.04.2-1.43.59L10.3 9.45l-7.72 7.72c-.78.78-.78 2.05 0 2.83L4 21.41c.39.39.9.59 1.41.59.51 0 1.02-.2 1.41-.59l7.78-7.78 2.81-2.81c.8-.78.8-2.07 0-2.86zM5.41 20L4 18.59l7.72-7.72 1.47 1.35L5.41 20z\"/>\n",
              "  </svg>\n",
              "      </button>\n",
              "      \n",
              "  <style>\n",
              "    .colab-df-container {\n",
              "      display:flex;\n",
              "      flex-wrap:wrap;\n",
              "      gap: 12px;\n",
              "    }\n",
              "\n",
              "    .colab-df-convert {\n",
              "      background-color: #E8F0FE;\n",
              "      border: none;\n",
              "      border-radius: 50%;\n",
              "      cursor: pointer;\n",
              "      display: none;\n",
              "      fill: #1967D2;\n",
              "      height: 32px;\n",
              "      padding: 0 0 0 0;\n",
              "      width: 32px;\n",
              "    }\n",
              "\n",
              "    .colab-df-convert:hover {\n",
              "      background-color: #E2EBFA;\n",
              "      box-shadow: 0px 1px 2px rgba(60, 64, 67, 0.3), 0px 1px 3px 1px rgba(60, 64, 67, 0.15);\n",
              "      fill: #174EA6;\n",
              "    }\n",
              "\n",
              "    [theme=dark] .colab-df-convert {\n",
              "      background-color: #3B4455;\n",
              "      fill: #D2E3FC;\n",
              "    }\n",
              "\n",
              "    [theme=dark] .colab-df-convert:hover {\n",
              "      background-color: #434B5C;\n",
              "      box-shadow: 0px 1px 3px 1px rgba(0, 0, 0, 0.15);\n",
              "      filter: drop-shadow(0px 1px 2px rgba(0, 0, 0, 0.3));\n",
              "      fill: #FFFFFF;\n",
              "    }\n",
              "  </style>\n",
              "\n",
              "      <script>\n",
              "        const buttonEl =\n",
              "          document.querySelector('#df-4f9100d5-90bd-4ff0-81a2-acfcfe263f11 button.colab-df-convert');\n",
              "        buttonEl.style.display =\n",
              "          google.colab.kernel.accessAllowed ? 'block' : 'none';\n",
              "\n",
              "        async function convertToInteractive(key) {\n",
              "          const element = document.querySelector('#df-4f9100d5-90bd-4ff0-81a2-acfcfe263f11');\n",
              "          const dataTable =\n",
              "            await google.colab.kernel.invokeFunction('convertToInteractive',\n",
              "                                                     [key], {});\n",
              "          if (!dataTable) return;\n",
              "\n",
              "          const docLinkHtml = 'Like what you see? Visit the ' +\n",
              "            '<a target=\"_blank\" href=https://colab.research.google.com/notebooks/data_table.ipynb>data table notebook</a>'\n",
              "            + ' to learn more about interactive tables.';\n",
              "          element.innerHTML = '';\n",
              "          dataTable['output_type'] = 'display_data';\n",
              "          await google.colab.output.renderOutput(dataTable, element);\n",
              "          const docLink = document.createElement('div');\n",
              "          docLink.innerHTML = docLinkHtml;\n",
              "          element.appendChild(docLink);\n",
              "        }\n",
              "      </script>\n",
              "    </div>\n",
              "  </div>\n",
              "  "
            ]
          },
          "metadata": {},
          "execution_count": 29
        }
      ]
    },
    {
      "cell_type": "code",
      "source": [
        "# combinando os dados encontrados\n",
        "data_sector_info = pd.merge(reinc_data_per_sector, sector, on=['Sector'])\n",
        "\n",
        "# calculando o percentual de casos reincidentes em relação ao total de incidentes em cada setor\n",
        "data_sector_info['percent_of_reincidents'] = data_sector_info['num_of_reincidents'] / data_sector_info['num_of_incidents'] \n",
        "data_sector_info.head(17)"
      ],
      "metadata": {
        "colab": {
          "base_uri": "https://localhost:8080/",
          "height": 582
        },
        "id": "eywx9fLdCUTA",
        "outputId": "f886a131-e99c-4130-c20c-69d600e3eac6"
      },
      "execution_count": null,
      "outputs": [
        {
          "output_type": "execute_result",
          "data": {
            "text/plain": [
              "     Sector  num_of_reincidents  num_of_incidents  percent_of_reincidents\n",
              "0       BOY                 373               525                0.710476\n",
              "1   CHARLIE                 261               425                0.614118\n",
              "2     DAVID                 817              1049                0.778837\n",
              "3    EDWARD                1088              1738                0.626007\n",
              "4     FRANK                 323               471                0.685775\n",
              "5    GEORGE                 530               688                0.770349\n",
              "6      JOHN                 310               441                0.702948\n",
              "7      KING                1093              1505                0.726246\n",
              "8   LINCOLN                 443               644                0.687888\n",
              "9      MARY                 666               998                0.667335\n",
              "10     NORA                 562               913                0.615553\n",
              "11    OCEAN                 301               551                0.546279\n",
              "12    QUEEN                 343               509                0.673870\n",
              "13   ROBERT                 517               877                0.589510\n",
              "14      SAM                 644               947                0.680042\n",
              "15    UNION                 514               690                0.744928\n",
              "16  WILLIAM                 232               342                0.678363"
            ],
            "text/html": [
              "\n",
              "  <div id=\"df-1440ba94-d841-4267-ad1f-73afb8bcb069\">\n",
              "    <div class=\"colab-df-container\">\n",
              "      <div>\n",
              "<style scoped>\n",
              "    .dataframe tbody tr th:only-of-type {\n",
              "        vertical-align: middle;\n",
              "    }\n",
              "\n",
              "    .dataframe tbody tr th {\n",
              "        vertical-align: top;\n",
              "    }\n",
              "\n",
              "    .dataframe thead th {\n",
              "        text-align: right;\n",
              "    }\n",
              "</style>\n",
              "<table border=\"1\" class=\"dataframe\">\n",
              "  <thead>\n",
              "    <tr style=\"text-align: right;\">\n",
              "      <th></th>\n",
              "      <th>Sector</th>\n",
              "      <th>num_of_reincidents</th>\n",
              "      <th>num_of_incidents</th>\n",
              "      <th>percent_of_reincidents</th>\n",
              "    </tr>\n",
              "  </thead>\n",
              "  <tbody>\n",
              "    <tr>\n",
              "      <th>0</th>\n",
              "      <td>BOY</td>\n",
              "      <td>373</td>\n",
              "      <td>525</td>\n",
              "      <td>0.710476</td>\n",
              "    </tr>\n",
              "    <tr>\n",
              "      <th>1</th>\n",
              "      <td>CHARLIE</td>\n",
              "      <td>261</td>\n",
              "      <td>425</td>\n",
              "      <td>0.614118</td>\n",
              "    </tr>\n",
              "    <tr>\n",
              "      <th>2</th>\n",
              "      <td>DAVID</td>\n",
              "      <td>817</td>\n",
              "      <td>1049</td>\n",
              "      <td>0.778837</td>\n",
              "    </tr>\n",
              "    <tr>\n",
              "      <th>3</th>\n",
              "      <td>EDWARD</td>\n",
              "      <td>1088</td>\n",
              "      <td>1738</td>\n",
              "      <td>0.626007</td>\n",
              "    </tr>\n",
              "    <tr>\n",
              "      <th>4</th>\n",
              "      <td>FRANK</td>\n",
              "      <td>323</td>\n",
              "      <td>471</td>\n",
              "      <td>0.685775</td>\n",
              "    </tr>\n",
              "    <tr>\n",
              "      <th>5</th>\n",
              "      <td>GEORGE</td>\n",
              "      <td>530</td>\n",
              "      <td>688</td>\n",
              "      <td>0.770349</td>\n",
              "    </tr>\n",
              "    <tr>\n",
              "      <th>6</th>\n",
              "      <td>JOHN</td>\n",
              "      <td>310</td>\n",
              "      <td>441</td>\n",
              "      <td>0.702948</td>\n",
              "    </tr>\n",
              "    <tr>\n",
              "      <th>7</th>\n",
              "      <td>KING</td>\n",
              "      <td>1093</td>\n",
              "      <td>1505</td>\n",
              "      <td>0.726246</td>\n",
              "    </tr>\n",
              "    <tr>\n",
              "      <th>8</th>\n",
              "      <td>LINCOLN</td>\n",
              "      <td>443</td>\n",
              "      <td>644</td>\n",
              "      <td>0.687888</td>\n",
              "    </tr>\n",
              "    <tr>\n",
              "      <th>9</th>\n",
              "      <td>MARY</td>\n",
              "      <td>666</td>\n",
              "      <td>998</td>\n",
              "      <td>0.667335</td>\n",
              "    </tr>\n",
              "    <tr>\n",
              "      <th>10</th>\n",
              "      <td>NORA</td>\n",
              "      <td>562</td>\n",
              "      <td>913</td>\n",
              "      <td>0.615553</td>\n",
              "    </tr>\n",
              "    <tr>\n",
              "      <th>11</th>\n",
              "      <td>OCEAN</td>\n",
              "      <td>301</td>\n",
              "      <td>551</td>\n",
              "      <td>0.546279</td>\n",
              "    </tr>\n",
              "    <tr>\n",
              "      <th>12</th>\n",
              "      <td>QUEEN</td>\n",
              "      <td>343</td>\n",
              "      <td>509</td>\n",
              "      <td>0.673870</td>\n",
              "    </tr>\n",
              "    <tr>\n",
              "      <th>13</th>\n",
              "      <td>ROBERT</td>\n",
              "      <td>517</td>\n",
              "      <td>877</td>\n",
              "      <td>0.589510</td>\n",
              "    </tr>\n",
              "    <tr>\n",
              "      <th>14</th>\n",
              "      <td>SAM</td>\n",
              "      <td>644</td>\n",
              "      <td>947</td>\n",
              "      <td>0.680042</td>\n",
              "    </tr>\n",
              "    <tr>\n",
              "      <th>15</th>\n",
              "      <td>UNION</td>\n",
              "      <td>514</td>\n",
              "      <td>690</td>\n",
              "      <td>0.744928</td>\n",
              "    </tr>\n",
              "    <tr>\n",
              "      <th>16</th>\n",
              "      <td>WILLIAM</td>\n",
              "      <td>232</td>\n",
              "      <td>342</td>\n",
              "      <td>0.678363</td>\n",
              "    </tr>\n",
              "  </tbody>\n",
              "</table>\n",
              "</div>\n",
              "      <button class=\"colab-df-convert\" onclick=\"convertToInteractive('df-1440ba94-d841-4267-ad1f-73afb8bcb069')\"\n",
              "              title=\"Convert this dataframe to an interactive table.\"\n",
              "              style=\"display:none;\">\n",
              "        \n",
              "  <svg xmlns=\"http://www.w3.org/2000/svg\" height=\"24px\"viewBox=\"0 0 24 24\"\n",
              "       width=\"24px\">\n",
              "    <path d=\"M0 0h24v24H0V0z\" fill=\"none\"/>\n",
              "    <path d=\"M18.56 5.44l.94 2.06.94-2.06 2.06-.94-2.06-.94-.94-2.06-.94 2.06-2.06.94zm-11 1L8.5 8.5l.94-2.06 2.06-.94-2.06-.94L8.5 2.5l-.94 2.06-2.06.94zm10 10l.94 2.06.94-2.06 2.06-.94-2.06-.94-.94-2.06-.94 2.06-2.06.94z\"/><path d=\"M17.41 7.96l-1.37-1.37c-.4-.4-.92-.59-1.43-.59-.52 0-1.04.2-1.43.59L10.3 9.45l-7.72 7.72c-.78.78-.78 2.05 0 2.83L4 21.41c.39.39.9.59 1.41.59.51 0 1.02-.2 1.41-.59l7.78-7.78 2.81-2.81c.8-.78.8-2.07 0-2.86zM5.41 20L4 18.59l7.72-7.72 1.47 1.35L5.41 20z\"/>\n",
              "  </svg>\n",
              "      </button>\n",
              "      \n",
              "  <style>\n",
              "    .colab-df-container {\n",
              "      display:flex;\n",
              "      flex-wrap:wrap;\n",
              "      gap: 12px;\n",
              "    }\n",
              "\n",
              "    .colab-df-convert {\n",
              "      background-color: #E8F0FE;\n",
              "      border: none;\n",
              "      border-radius: 50%;\n",
              "      cursor: pointer;\n",
              "      display: none;\n",
              "      fill: #1967D2;\n",
              "      height: 32px;\n",
              "      padding: 0 0 0 0;\n",
              "      width: 32px;\n",
              "    }\n",
              "\n",
              "    .colab-df-convert:hover {\n",
              "      background-color: #E2EBFA;\n",
              "      box-shadow: 0px 1px 2px rgba(60, 64, 67, 0.3), 0px 1px 3px 1px rgba(60, 64, 67, 0.15);\n",
              "      fill: #174EA6;\n",
              "    }\n",
              "\n",
              "    [theme=dark] .colab-df-convert {\n",
              "      background-color: #3B4455;\n",
              "      fill: #D2E3FC;\n",
              "    }\n",
              "\n",
              "    [theme=dark] .colab-df-convert:hover {\n",
              "      background-color: #434B5C;\n",
              "      box-shadow: 0px 1px 3px 1px rgba(0, 0, 0, 0.15);\n",
              "      filter: drop-shadow(0px 1px 2px rgba(0, 0, 0, 0.3));\n",
              "      fill: #FFFFFF;\n",
              "    }\n",
              "  </style>\n",
              "\n",
              "      <script>\n",
              "        const buttonEl =\n",
              "          document.querySelector('#df-1440ba94-d841-4267-ad1f-73afb8bcb069 button.colab-df-convert');\n",
              "        buttonEl.style.display =\n",
              "          google.colab.kernel.accessAllowed ? 'block' : 'none';\n",
              "\n",
              "        async function convertToInteractive(key) {\n",
              "          const element = document.querySelector('#df-1440ba94-d841-4267-ad1f-73afb8bcb069');\n",
              "          const dataTable =\n",
              "            await google.colab.kernel.invokeFunction('convertToInteractive',\n",
              "                                                     [key], {});\n",
              "          if (!dataTable) return;\n",
              "\n",
              "          const docLinkHtml = 'Like what you see? Visit the ' +\n",
              "            '<a target=\"_blank\" href=https://colab.research.google.com/notebooks/data_table.ipynb>data table notebook</a>'\n",
              "            + ' to learn more about interactive tables.';\n",
              "          element.innerHTML = '';\n",
              "          dataTable['output_type'] = 'display_data';\n",
              "          await google.colab.output.renderOutput(dataTable, element);\n",
              "          const docLink = document.createElement('div');\n",
              "          docLink.innerHTML = docLinkHtml;\n",
              "          element.appendChild(docLink);\n",
              "        }\n",
              "      </script>\n",
              "    </div>\n",
              "  </div>\n",
              "  "
            ]
          },
          "metadata": {},
          "execution_count": 30
        }
      ]
    },
    {
      "cell_type": "code",
      "source": [
        "# Calculando o total de incidentes por uso de força em cada setor\n",
        "level_total = []\n",
        "\n",
        "def total_incidents_by_Level_and_Sector(level):\n",
        "  dataset = raw_data.loc[raw_data['Incident_Type']==level]\n",
        "\n",
        "  sec_name = dataset['Sector'].value_counts().index.tolist()\n",
        "  total = list(dataset['Sector'].value_counts())\n",
        "\n",
        "  return sec_name, total\n",
        "\n",
        "sec_name1, total1 = total_incidents_by_Level_and_Sector('Level 1 - Use of Force') \n",
        "sec_name2, total2 = total_incidents_by_Level_and_Sector('Level 2 - Use of Force') \n",
        "sec_name3, total3 = total_incidents_by_Level_and_Sector('Level 3 - Use of Force') \n",
        "sec_nameosi, totalosi = total_incidents_by_Level_and_Sector('Level 3 - OIS')\n",
        " \n",
        "# incluindo d 0 nos Sectors que não se utilizou nível 2 de força\n",
        "totalosi.append(0)\n",
        "totalosi.append(0)\n",
        "\n",
        "level_of_force = pd.DataFrame({'Sector':sec_name2,\n",
        "                               'Level1_of_force_applyed':total1,\n",
        "                               'Level2_of_force_applyed':total2,\n",
        "                               'Level3_of_force_applyed':total3,\n",
        "                               'Level3OSI_of_force_applyed':totalosi,\n",
        "                               })\n",
        "\n",
        "level_of_force['total_of_force_applyed'] = level_of_force.sum(axis=1) # total de nível de força no Sector\n",
        "\n",
        "level_of_force['perc_of_force2_applyed'] = level_of_force['Level2_of_force_applyed']/level_of_force['total_of_force_applyed'] # porcentual de força Level 2 utilizada no Sector\n",
        "\n",
        "\n",
        "level_of_force = level_of_force.drop(['Level1_of_force_applyed','Level2_of_force_applyed','Level3_of_force_applyed','Level3OSI_of_force_applyed','total_of_force_applyed'], axis=1)\n",
        "\n",
        "data_quest2 = pd.merge(data_sector_info, level_of_force, on=['Sector']) # dataset contendo as informações específicas necessárias para análise\n",
        "data_quest2.head(17)\n"
      ],
      "metadata": {
        "colab": {
          "base_uri": "https://localhost:8080/",
          "height": 582
        },
        "id": "KlPA3rsBbz4I",
        "outputId": "bb36f6a4-4620-4379-deb2-39cbce32186d"
      },
      "execution_count": null,
      "outputs": [
        {
          "output_type": "execute_result",
          "data": {
            "text/plain": [
              "     Sector  num_of_reincidents  num_of_incidents  percent_of_reincidents  \\\n",
              "0       BOY                 373               525                0.710476   \n",
              "1   CHARLIE                 261               425                0.614118   \n",
              "2     DAVID                 817              1049                0.778837   \n",
              "3    EDWARD                1088              1738                0.626007   \n",
              "4     FRANK                 323               471                0.685775   \n",
              "5    GEORGE                 530               688                0.770349   \n",
              "6      JOHN                 310               441                0.702948   \n",
              "7      KING                1093              1505                0.726246   \n",
              "8   LINCOLN                 443               644                0.687888   \n",
              "9      MARY                 666               998                0.667335   \n",
              "10     NORA                 562               913                0.615553   \n",
              "11    OCEAN                 301               551                0.546279   \n",
              "12    QUEEN                 343               509                0.673870   \n",
              "13   ROBERT                 517               877                0.589510   \n",
              "14      SAM                 644               947                0.680042   \n",
              "15    UNION                 514               690                0.744928   \n",
              "16  WILLIAM                 232               342                0.678363   \n",
              "\n",
              "    perc_of_force2_applyed  \n",
              "0                 0.219403  \n",
              "1                 0.215164  \n",
              "2                 0.291010  \n",
              "3                 0.433792  \n",
              "4                 0.205128  \n",
              "5                 0.207237  \n",
              "6                 0.161804  \n",
              "7                 0.330709  \n",
              "8                 0.239544  \n",
              "9                 0.356198  \n",
              "10                0.220264  \n",
              "11                0.220840  \n",
              "12                0.210526  \n",
              "13                0.224828  \n",
              "14                0.198876  \n",
              "15                0.242647  \n",
              "16                0.150000  "
            ],
            "text/html": [
              "\n",
              "  <div id=\"df-c3783032-61ca-42e0-b0a3-ab72f4f840cd\">\n",
              "    <div class=\"colab-df-container\">\n",
              "      <div>\n",
              "<style scoped>\n",
              "    .dataframe tbody tr th:only-of-type {\n",
              "        vertical-align: middle;\n",
              "    }\n",
              "\n",
              "    .dataframe tbody tr th {\n",
              "        vertical-align: top;\n",
              "    }\n",
              "\n",
              "    .dataframe thead th {\n",
              "        text-align: right;\n",
              "    }\n",
              "</style>\n",
              "<table border=\"1\" class=\"dataframe\">\n",
              "  <thead>\n",
              "    <tr style=\"text-align: right;\">\n",
              "      <th></th>\n",
              "      <th>Sector</th>\n",
              "      <th>num_of_reincidents</th>\n",
              "      <th>num_of_incidents</th>\n",
              "      <th>percent_of_reincidents</th>\n",
              "      <th>perc_of_force2_applyed</th>\n",
              "    </tr>\n",
              "  </thead>\n",
              "  <tbody>\n",
              "    <tr>\n",
              "      <th>0</th>\n",
              "      <td>BOY</td>\n",
              "      <td>373</td>\n",
              "      <td>525</td>\n",
              "      <td>0.710476</td>\n",
              "      <td>0.219403</td>\n",
              "    </tr>\n",
              "    <tr>\n",
              "      <th>1</th>\n",
              "      <td>CHARLIE</td>\n",
              "      <td>261</td>\n",
              "      <td>425</td>\n",
              "      <td>0.614118</td>\n",
              "      <td>0.215164</td>\n",
              "    </tr>\n",
              "    <tr>\n",
              "      <th>2</th>\n",
              "      <td>DAVID</td>\n",
              "      <td>817</td>\n",
              "      <td>1049</td>\n",
              "      <td>0.778837</td>\n",
              "      <td>0.291010</td>\n",
              "    </tr>\n",
              "    <tr>\n",
              "      <th>3</th>\n",
              "      <td>EDWARD</td>\n",
              "      <td>1088</td>\n",
              "      <td>1738</td>\n",
              "      <td>0.626007</td>\n",
              "      <td>0.433792</td>\n",
              "    </tr>\n",
              "    <tr>\n",
              "      <th>4</th>\n",
              "      <td>FRANK</td>\n",
              "      <td>323</td>\n",
              "      <td>471</td>\n",
              "      <td>0.685775</td>\n",
              "      <td>0.205128</td>\n",
              "    </tr>\n",
              "    <tr>\n",
              "      <th>5</th>\n",
              "      <td>GEORGE</td>\n",
              "      <td>530</td>\n",
              "      <td>688</td>\n",
              "      <td>0.770349</td>\n",
              "      <td>0.207237</td>\n",
              "    </tr>\n",
              "    <tr>\n",
              "      <th>6</th>\n",
              "      <td>JOHN</td>\n",
              "      <td>310</td>\n",
              "      <td>441</td>\n",
              "      <td>0.702948</td>\n",
              "      <td>0.161804</td>\n",
              "    </tr>\n",
              "    <tr>\n",
              "      <th>7</th>\n",
              "      <td>KING</td>\n",
              "      <td>1093</td>\n",
              "      <td>1505</td>\n",
              "      <td>0.726246</td>\n",
              "      <td>0.330709</td>\n",
              "    </tr>\n",
              "    <tr>\n",
              "      <th>8</th>\n",
              "      <td>LINCOLN</td>\n",
              "      <td>443</td>\n",
              "      <td>644</td>\n",
              "      <td>0.687888</td>\n",
              "      <td>0.239544</td>\n",
              "    </tr>\n",
              "    <tr>\n",
              "      <th>9</th>\n",
              "      <td>MARY</td>\n",
              "      <td>666</td>\n",
              "      <td>998</td>\n",
              "      <td>0.667335</td>\n",
              "      <td>0.356198</td>\n",
              "    </tr>\n",
              "    <tr>\n",
              "      <th>10</th>\n",
              "      <td>NORA</td>\n",
              "      <td>562</td>\n",
              "      <td>913</td>\n",
              "      <td>0.615553</td>\n",
              "      <td>0.220264</td>\n",
              "    </tr>\n",
              "    <tr>\n",
              "      <th>11</th>\n",
              "      <td>OCEAN</td>\n",
              "      <td>301</td>\n",
              "      <td>551</td>\n",
              "      <td>0.546279</td>\n",
              "      <td>0.220840</td>\n",
              "    </tr>\n",
              "    <tr>\n",
              "      <th>12</th>\n",
              "      <td>QUEEN</td>\n",
              "      <td>343</td>\n",
              "      <td>509</td>\n",
              "      <td>0.673870</td>\n",
              "      <td>0.210526</td>\n",
              "    </tr>\n",
              "    <tr>\n",
              "      <th>13</th>\n",
              "      <td>ROBERT</td>\n",
              "      <td>517</td>\n",
              "      <td>877</td>\n",
              "      <td>0.589510</td>\n",
              "      <td>0.224828</td>\n",
              "    </tr>\n",
              "    <tr>\n",
              "      <th>14</th>\n",
              "      <td>SAM</td>\n",
              "      <td>644</td>\n",
              "      <td>947</td>\n",
              "      <td>0.680042</td>\n",
              "      <td>0.198876</td>\n",
              "    </tr>\n",
              "    <tr>\n",
              "      <th>15</th>\n",
              "      <td>UNION</td>\n",
              "      <td>514</td>\n",
              "      <td>690</td>\n",
              "      <td>0.744928</td>\n",
              "      <td>0.242647</td>\n",
              "    </tr>\n",
              "    <tr>\n",
              "      <th>16</th>\n",
              "      <td>WILLIAM</td>\n",
              "      <td>232</td>\n",
              "      <td>342</td>\n",
              "      <td>0.678363</td>\n",
              "      <td>0.150000</td>\n",
              "    </tr>\n",
              "  </tbody>\n",
              "</table>\n",
              "</div>\n",
              "      <button class=\"colab-df-convert\" onclick=\"convertToInteractive('df-c3783032-61ca-42e0-b0a3-ab72f4f840cd')\"\n",
              "              title=\"Convert this dataframe to an interactive table.\"\n",
              "              style=\"display:none;\">\n",
              "        \n",
              "  <svg xmlns=\"http://www.w3.org/2000/svg\" height=\"24px\"viewBox=\"0 0 24 24\"\n",
              "       width=\"24px\">\n",
              "    <path d=\"M0 0h24v24H0V0z\" fill=\"none\"/>\n",
              "    <path d=\"M18.56 5.44l.94 2.06.94-2.06 2.06-.94-2.06-.94-.94-2.06-.94 2.06-2.06.94zm-11 1L8.5 8.5l.94-2.06 2.06-.94-2.06-.94L8.5 2.5l-.94 2.06-2.06.94zm10 10l.94 2.06.94-2.06 2.06-.94-2.06-.94-.94-2.06-.94 2.06-2.06.94z\"/><path d=\"M17.41 7.96l-1.37-1.37c-.4-.4-.92-.59-1.43-.59-.52 0-1.04.2-1.43.59L10.3 9.45l-7.72 7.72c-.78.78-.78 2.05 0 2.83L4 21.41c.39.39.9.59 1.41.59.51 0 1.02-.2 1.41-.59l7.78-7.78 2.81-2.81c.8-.78.8-2.07 0-2.86zM5.41 20L4 18.59l7.72-7.72 1.47 1.35L5.41 20z\"/>\n",
              "  </svg>\n",
              "      </button>\n",
              "      \n",
              "  <style>\n",
              "    .colab-df-container {\n",
              "      display:flex;\n",
              "      flex-wrap:wrap;\n",
              "      gap: 12px;\n",
              "    }\n",
              "\n",
              "    .colab-df-convert {\n",
              "      background-color: #E8F0FE;\n",
              "      border: none;\n",
              "      border-radius: 50%;\n",
              "      cursor: pointer;\n",
              "      display: none;\n",
              "      fill: #1967D2;\n",
              "      height: 32px;\n",
              "      padding: 0 0 0 0;\n",
              "      width: 32px;\n",
              "    }\n",
              "\n",
              "    .colab-df-convert:hover {\n",
              "      background-color: #E2EBFA;\n",
              "      box-shadow: 0px 1px 2px rgba(60, 64, 67, 0.3), 0px 1px 3px 1px rgba(60, 64, 67, 0.15);\n",
              "      fill: #174EA6;\n",
              "    }\n",
              "\n",
              "    [theme=dark] .colab-df-convert {\n",
              "      background-color: #3B4455;\n",
              "      fill: #D2E3FC;\n",
              "    }\n",
              "\n",
              "    [theme=dark] .colab-df-convert:hover {\n",
              "      background-color: #434B5C;\n",
              "      box-shadow: 0px 1px 3px 1px rgba(0, 0, 0, 0.15);\n",
              "      filter: drop-shadow(0px 1px 2px rgba(0, 0, 0, 0.3));\n",
              "      fill: #FFFFFF;\n",
              "    }\n",
              "  </style>\n",
              "\n",
              "      <script>\n",
              "        const buttonEl =\n",
              "          document.querySelector('#df-c3783032-61ca-42e0-b0a3-ab72f4f840cd button.colab-df-convert');\n",
              "        buttonEl.style.display =\n",
              "          google.colab.kernel.accessAllowed ? 'block' : 'none';\n",
              "\n",
              "        async function convertToInteractive(key) {\n",
              "          const element = document.querySelector('#df-c3783032-61ca-42e0-b0a3-ab72f4f840cd');\n",
              "          const dataTable =\n",
              "            await google.colab.kernel.invokeFunction('convertToInteractive',\n",
              "                                                     [key], {});\n",
              "          if (!dataTable) return;\n",
              "\n",
              "          const docLinkHtml = 'Like what you see? Visit the ' +\n",
              "            '<a target=\"_blank\" href=https://colab.research.google.com/notebooks/data_table.ipynb>data table notebook</a>'\n",
              "            + ' to learn more about interactive tables.';\n",
              "          element.innerHTML = '';\n",
              "          dataTable['output_type'] = 'display_data';\n",
              "          await google.colab.output.renderOutput(dataTable, element);\n",
              "          const docLink = document.createElement('div');\n",
              "          docLink.innerHTML = docLinkHtml;\n",
              "          element.appendChild(docLink);\n",
              "        }\n",
              "      </script>\n",
              "    </div>\n",
              "  </div>\n",
              "  "
            ]
          },
          "metadata": {},
          "execution_count": 31
        }
      ]
    },
    {
      "cell_type": "code",
      "source": [
        "# adiquirindo informação de correlação entre as variáveis\n",
        "corr_matrix = data_quest2.corr()\n",
        "corr_matrix['perc_of_force2_applyed'].sort_values(ascending=False)"
      ],
      "metadata": {
        "colab": {
          "base_uri": "https://localhost:8080/"
        },
        "id": "Diw1De2WDXuT",
        "outputId": "d0b8568f-8fe0-417b-f5ca-b475ced30672"
      },
      "execution_count": null,
      "outputs": [
        {
          "output_type": "execute_result",
          "data": {
            "text/plain": [
              "perc_of_force2_applyed    1.000000\n",
              "num_of_incidents          0.869178\n",
              "num_of_reincidents        0.840564\n",
              "percent_of_reincidents   -0.010646\n",
              "Name: perc_of_force2_applyed, dtype: float64"
            ]
          },
          "metadata": {},
          "execution_count": 32
        }
      ]
    },
    {
      "cell_type": "code",
      "source": [
        "from matplotlib import axis\n",
        "# mostrando os resultados graficamente\n",
        "fig = plt.figure(figsize=(10,5))\n",
        "sns.scatterplot(data=data_quest2, x='percent_of_reincidents', y='perc_of_force2_applyed')\n",
        "plt.title('Tendência relacional do percentual de reincidências e uso de Força Level 2')\n",
        "plt.xlabel('Percentual de reincidência criminal no Sector')\n",
        "plt.ylabel('Percentual de uso de Força Level 2 no Sector')\n",
        "plt.xlim(.4,1)\n",
        "plt.ylim(0,.6)\n",
        "plt.show()"
      ],
      "metadata": {
        "colab": {
          "base_uri": "https://localhost:8080/",
          "height": 355
        },
        "id": "sWDoekfrJb32",
        "outputId": "809a6e12-b7db-47b1-885a-d34c954c1f62"
      },
      "execution_count": null,
      "outputs": [
        {
          "output_type": "display_data",
          "data": {
            "text/plain": [
              "<Figure size 720x360 with 1 Axes>"
            ],
            "image/png": "[encoded data removed]"
          },
          "metadata": {}
        }
      ]
    },
    {
      "cell_type": "markdown",
      "source": [
        "**A correlação indica uma relação linear entre uma variável e outra, neste caso, não há correlação entre o percentual de reincidentes com relação a incidentes no *Sector* e o percentual do uso de força Level 2. Conforme o gráfico mostra, não há uma relação linear forte positiva nem negativa das variáveis.**"
      ],
      "metadata": {
        "id": "lM1j6NnYNK00"
      }
    },
    {
      "cell_type": "markdown",
      "source": [
        "## Aprendizado de Máquina"
      ],
      "metadata": {
        "id": "k3bUpTiFj62u"
      }
    },
    {
      "cell_type": "markdown",
      "source": [
        "3️⃣ Considerando que é interessante para a Polícia de Seattle predizer o possível nível do uso da forca policial empregado em uma ocorrência, crie um modelo de classificação utilizando técnicas clássicas de Aprendizagem de Máquina (por exemplo: Regressão logística, Árvores de Decisão, Máquina de Vetores de Suporte (SVM)). Utilize diferentes métricas para avaliar o seu modelo. Qual acurácia seu modelo obteve e a que se deve isto?\n",
        "\n"
      ],
      "metadata": {
        "id": "KdDi-zX1j1pb"
      }
    },
    {
      "cell_type": "code",
      "source": [
        "# verificando os atributos restantes após todas as manipulações\n",
        "raw_data.columns"
      ],
      "metadata": {
        "colab": {
          "base_uri": "https://localhost:8080/"
        },
        "id": "BHKRxxtUWQYZ",
        "outputId": "77eedd89-86da-43a0-83d5-892ce30794b1"
      },
      "execution_count": null,
      "outputs": [
        {
          "output_type": "execute_result",
          "data": {
            "text/plain": [
              "Index(['Incident_Num', 'Incident_Type', 'Occured_date_time', 'Precinct',\n",
              "       'Sector', 'Beat', 'Subject_ID', 'Subject_Race', 'Subject_Gender'],\n",
              "      dtype='object')"
            ]
          },
          "metadata": {},
          "execution_count": 34
        }
      ]
    },
    {
      "cell_type": "markdown",
      "source": [
        "Na análise de dados vimos que, ao longo dos anos, é perceptível o aumento de incidentes criminais em determinados horários, meses e dias da semana. Claro que essa informação é generalizada e cada Sector pode ter os seus dias, horários e meses específicos com sua própria demanda. Contudo, *Ano*, *Dia da Semana* e *Mês* são atributos informativos e que podem ajudar nas previsões.\n"
      ],
      "metadata": {
        "id": "Kl0IC3UXdBOK"
      }
    },
    {
      "cell_type": "code",
      "source": [
        "# adicionando as variáveis horário, mês e dia da semana ao dataset\n",
        "raw_data['Month'] = raw_data['Occured_date_time'].dt.month_name()\n",
        "raw_data['Hour'] = raw_data['Occured_date_time'].dt.hour\n",
        "raw_data['Day'] = raw_data['Occured_date_time'].dt.day_name()"
      ],
      "metadata": {
        "id": "b-EeOCevaiDJ"
      },
      "execution_count": null,
      "outputs": []
    },
    {
      "cell_type": "code",
      "source": [
        "y = raw_data['Incident_Type'] # target\n",
        "\n",
        "# transformando categórico em int no target\n",
        "le = LabelEncoder()\n",
        "y_encoded = le.fit_transform(y)\n",
        "\n",
        "# excluindo variáveis não utilizáveis\n",
        "X = raw_data.drop(['Incident_Num', 'Incident_Type', 'Occured_date_time', 'Subject_ID'], axis=1) # excluindo variáveis de identificação\n",
        "\n",
        "print(X.shape, y_encoded.shape)"
      ],
      "metadata": {
        "colab": {
          "base_uri": "https://localhost:8080/"
        },
        "id": "lsHDT7yLTrTM",
        "outputId": "4c4be320-3993-401e-881c-e284316db234"
      },
      "execution_count": null,
      "outputs": [
        {
          "output_type": "stream",
          "name": "stdout",
          "text": [
            "(13313, 8) (13313,)\n"
          ]
        }
      ]
    },
    {
      "cell_type": "code",
      "source": [
        "# separando dados de treino, validação e teste\n",
        "# Treino e Validação = 80%\n",
        "# Teste = 20%\n",
        "X_train, X_test, y_train, y_test = train_test_split(X, y, test_size=0.2)"
      ],
      "metadata": {
        "id": "tVR_I5qCXzt9"
      },
      "execution_count": null,
      "outputs": []
    },
    {
      "cell_type": "code",
      "source": [
        "# vendo o tipo de cada atributo\n",
        "X_train.info()"
      ],
      "metadata": {
        "colab": {
          "base_uri": "https://localhost:8080/"
        },
        "id": "En49xlr1e5Uy",
        "outputId": "5484cbe8-2587-40cb-921f-c450182e1115"
      },
      "execution_count": null,
      "outputs": [
        {
          "output_type": "stream",
          "name": "stdout",
          "text": [
            "<class 'pandas.core.frame.DataFrame'>\n",
            "Int64Index: 10650 entries, 11446 to 4392\n",
            "Data columns (total 8 columns):\n",
            " #   Column          Non-Null Count  Dtype \n",
            "---  ------          --------------  ----- \n",
            " 0   Precinct        10650 non-null  object\n",
            " 1   Sector          10650 non-null  object\n",
            " 2   Beat            10650 non-null  object\n",
            " 3   Subject_Race    10650 non-null  object\n",
            " 4   Subject_Gender  10650 non-null  object\n",
            " 5   Month           10650 non-null  object\n",
            " 6   Hour            10650 non-null  int64 \n",
            " 7   Day             10650 non-null  object\n",
            "dtypes: int64(1), object(7)\n",
            "memory usage: 748.8+ KB\n"
          ]
        }
      ]
    },
    {
      "cell_type": "code",
      "source": [
        "num_features = ['Hour'] # variáveis numéticas\n",
        "cat_features = ['Precinct', 'Sector', 'Beat', 'Subject_Race', 'Subject_Gender',  'Day', 'Month'] # variáveis categóricas\n",
        "\n",
        "# utilizando pipeline para pre-processamento\n",
        "num_pipeline = Pipeline([\n",
        "                         ('imputer', SimpleImputer(strategy='median')),\n",
        "                         ('normalization', StandardScaler())\n",
        "                         ])\n",
        "\n",
        "full_pipeline = ColumnTransformer([\n",
        "                          ('num_data', num_pipeline, num_features),\n",
        "                          ('cat_data', OneHotEncoder(handle_unknown='ignore'), cat_features)\n",
        "])\n",
        "\n",
        "X_prepared = full_pipeline.fit_transform(X_train)\n",
        "X_prepared.toarray()"
      ],
      "metadata": {
        "colab": {
          "base_uri": "https://localhost:8080/"
        },
        "id": "GdF4_PCVfYr3",
        "outputId": "c2f2ceef-f92d-4629-aa63-7eb26ea75cd6"
      },
      "execution_count": null,
      "outputs": [
        {
          "output_type": "execute_result",
          "data": {
            "text/plain": [
              "array([[0.35345526, 0.        , 0.        , ..., 0.        , 0.        ,\n",
              "        0.        ],\n",
              "       [1.04349385, 0.        , 0.        , ..., 0.        , 0.        ,\n",
              "        0.        ],\n",
              "       [0.90548613, 0.        , 0.        , ..., 0.        , 0.        ,\n",
              "        1.        ],\n",
              "       ...,\n",
              "       [0.35345526, 0.        , 0.        , ..., 0.        , 0.        ,\n",
              "        0.        ],\n",
              "       [1.18150157, 0.        , 1.        , ..., 0.        , 0.        ,\n",
              "        0.        ],\n",
              "       [0.76747841, 1.        , 0.        , ..., 0.        , 0.        ,\n",
              "        0.        ]])"
            ]
          },
          "metadata": {},
          "execution_count": 39
        }
      ]
    },
    {
      "cell_type": "markdown",
      "source": [
        "**Validando os modelos**"
      ],
      "metadata": {
        "id": "Sr_JgQyvLDj8"
      }
    },
    {
      "cell_type": "code",
      "source": [
        "# definindo modelos para avaliação\n",
        "models = [RandomForestClassifier(), SVC(), LogisticRegression(),\n",
        "          KNeighborsClassifier(), DecisionTreeClassifier()]\n",
        "\n",
        "# definindo métricas para tabela de resultados\n",
        "MLA_columns = ['Modelo', 'Acc. treinamento', 'Acc. Teste', 'Tempo']\n",
        "MLA_compare = pd.DataFrame(columns = MLA_columns)\n",
        "\n",
        "# definindo hiperparâmetro de validação\n",
        "kfold = KFold(n_splits=10, shuffle=True)\n",
        "\n",
        "index = 0\n",
        "for i in range(len(models)):\n",
        "  \n",
        "  clf = models[i]\n",
        "\n",
        "  MLA_compare.loc[index, 'Modelo'] = clf\n",
        "\n",
        "  scores = cross_validate(clf, X_prepared, y_train, cv=kfold, return_train_score=True)\n",
        "\n",
        "\n",
        "  MLA_compare.loc[index, 'Tempo'] = scores['fit_time'].mean()\n",
        "  MLA_compare.loc[index, 'Acc. treinamento'] = scores['train_score'].mean()\n",
        "  MLA_compare.loc[index, 'Acc. Teste'] = scores['test_score'].mean()   \n",
        "\n",
        "  index+=1\n",
        " \n",
        "\n",
        "MLA_compare.sort_values(by = ['Acc. Teste'], ascending = False, inplace = True)\n",
        "MLA_compare\n"
      ],
      "metadata": {
        "colab": {
          "base_uri": "https://localhost:8080/",
          "height": 206
        },
        "id": "USuATS3klsY_",
        "outputId": "92bd89c8-b075-4a9e-8f69-106904bac57c"
      },
      "execution_count": null,
      "outputs": [
        {
          "output_type": "execute_result",
          "data": {
            "text/plain": [
              "                     Modelo Acc. treinamento Acc. Teste     Tempo\n",
              "0  RandomForestClassifier()         0.968211   0.846761  5.895996\n",
              "4  DecisionTreeClassifier()         0.968367   0.793239  0.208684\n",
              "1                     SVC()         0.789098   0.769765  5.616934\n",
              "3    KNeighborsClassifier()          0.84265   0.761315  0.010742\n",
              "2      LogisticRegression()         0.740344   0.738873  0.535363"
            ],
            "text/html": [
              "\n",
              "  <div id=\"df-dc1f392d-37c4-4171-acde-de68bf6767c4\">\n",
              "    <div class=\"colab-df-container\">\n",
              "      <div>\n",
              "<style scoped>\n",
              "    .dataframe tbody tr th:only-of-type {\n",
              "        vertical-align: middle;\n",
              "    }\n",
              "\n",
              "    .dataframe tbody tr th {\n",
              "        vertical-align: top;\n",
              "    }\n",
              "\n",
              "    .dataframe thead th {\n",
              "        text-align: right;\n",
              "    }\n",
              "</style>\n",
              "<table border=\"1\" class=\"dataframe\">\n",
              "  <thead>\n",
              "    <tr style=\"text-align: right;\">\n",
              "      <th></th>\n",
              "      <th>Modelo</th>\n",
              "      <th>Acc. treinamento</th>\n",
              "      <th>Acc. Teste</th>\n",
              "      <th>Tempo</th>\n",
              "    </tr>\n",
              "  </thead>\n",
              "  <tbody>\n",
              "    <tr>\n",
              "      <th>0</th>\n",
              "      <td>RandomForestClassifier()</td>\n",
              "      <td>0.968211</td>\n",
              "      <td>0.846761</td>\n",
              "      <td>5.895996</td>\n",
              "    </tr>\n",
              "    <tr>\n",
              "      <th>4</th>\n",
              "      <td>DecisionTreeClassifier()</td>\n",
              "      <td>0.968367</td>\n",
              "      <td>0.793239</td>\n",
              "      <td>0.208684</td>\n",
              "    </tr>\n",
              "    <tr>\n",
              "      <th>1</th>\n",
              "      <td>SVC()</td>\n",
              "      <td>0.789098</td>\n",
              "      <td>0.769765</td>\n",
              "      <td>5.616934</td>\n",
              "    </tr>\n",
              "    <tr>\n",
              "      <th>3</th>\n",
              "      <td>KNeighborsClassifier()</td>\n",
              "      <td>0.84265</td>\n",
              "      <td>0.761315</td>\n",
              "      <td>0.010742</td>\n",
              "    </tr>\n",
              "    <tr>\n",
              "      <th>2</th>\n",
              "      <td>LogisticRegression()</td>\n",
              "      <td>0.740344</td>\n",
              "      <td>0.738873</td>\n",
              "      <td>0.535363</td>\n",
              "    </tr>\n",
              "  </tbody>\n",
              "</table>\n",
              "</div>\n",
              "      <button class=\"colab-df-convert\" onclick=\"convertToInteractive('df-dc1f392d-37c4-4171-acde-de68bf6767c4')\"\n",
              "              title=\"Convert this dataframe to an interactive table.\"\n",
              "              style=\"display:none;\">\n",
              "        \n",
              "  <svg xmlns=\"http://www.w3.org/2000/svg\" height=\"24px\"viewBox=\"0 0 24 24\"\n",
              "       width=\"24px\">\n",
              "    <path d=\"M0 0h24v24H0V0z\" fill=\"none\"/>\n",
              "    <path d=\"M18.56 5.44l.94 2.06.94-2.06 2.06-.94-2.06-.94-.94-2.06-.94 2.06-2.06.94zm-11 1L8.5 8.5l.94-2.06 2.06-.94-2.06-.94L8.5 2.5l-.94 2.06-2.06.94zm10 10l.94 2.06.94-2.06 2.06-.94-2.06-.94-.94-2.06-.94 2.06-2.06.94z\"/><path d=\"M17.41 7.96l-1.37-1.37c-.4-.4-.92-.59-1.43-.59-.52 0-1.04.2-1.43.59L10.3 9.45l-7.72 7.72c-.78.78-.78 2.05 0 2.83L4 21.41c.39.39.9.59 1.41.59.51 0 1.02-.2 1.41-.59l7.78-7.78 2.81-2.81c.8-.78.8-2.07 0-2.86zM5.41 20L4 18.59l7.72-7.72 1.47 1.35L5.41 20z\"/>\n",
              "  </svg>\n",
              "      </button>\n",
              "      \n",
              "  <style>\n",
              "    .colab-df-container {\n",
              "      display:flex;\n",
              "      flex-wrap:wrap;\n",
              "      gap: 12px;\n",
              "    }\n",
              "\n",
              "    .colab-df-convert {\n",
              "      background-color: #E8F0FE;\n",
              "      border: none;\n",
              "      border-radius: 50%;\n",
              "      cursor: pointer;\n",
              "      display: none;\n",
              "      fill: #1967D2;\n",
              "      height: 32px;\n",
              "      padding: 0 0 0 0;\n",
              "      width: 32px;\n",
              "    }\n",
              "\n",
              "    .colab-df-convert:hover {\n",
              "      background-color: #E2EBFA;\n",
              "      box-shadow: 0px 1px 2px rgba(60, 64, 67, 0.3), 0px 1px 3px 1px rgba(60, 64, 67, 0.15);\n",
              "      fill: #174EA6;\n",
              "    }\n",
              "\n",
              "    [theme=dark] .colab-df-convert {\n",
              "      background-color: #3B4455;\n",
              "      fill: #D2E3FC;\n",
              "    }\n",
              "\n",
              "    [theme=dark] .colab-df-convert:hover {\n",
              "      background-color: #434B5C;\n",
              "      box-shadow: 0px 1px 3px 1px rgba(0, 0, 0, 0.15);\n",
              "      filter: drop-shadow(0px 1px 2px rgba(0, 0, 0, 0.3));\n",
              "      fill: #FFFFFF;\n",
              "    }\n",
              "  </style>\n",
              "\n",
              "      <script>\n",
              "        const buttonEl =\n",
              "          document.querySelector('#df-dc1f392d-37c4-4171-acde-de68bf6767c4 button.colab-df-convert');\n",
              "        buttonEl.style.display =\n",
              "          google.colab.kernel.accessAllowed ? 'block' : 'none';\n",
              "\n",
              "        async function convertToInteractive(key) {\n",
              "          const element = document.querySelector('#df-dc1f392d-37c4-4171-acde-de68bf6767c4');\n",
              "          const dataTable =\n",
              "            await google.colab.kernel.invokeFunction('convertToInteractive',\n",
              "                                                     [key], {});\n",
              "          if (!dataTable) return;\n",
              "\n",
              "          const docLinkHtml = 'Like what you see? Visit the ' +\n",
              "            '<a target=\"_blank\" href=https://colab.research.google.com/notebooks/data_table.ipynb>data table notebook</a>'\n",
              "            + ' to learn more about interactive tables.';\n",
              "          element.innerHTML = '';\n",
              "          dataTable['output_type'] = 'display_data';\n",
              "          await google.colab.output.renderOutput(dataTable, element);\n",
              "          const docLink = document.createElement('div');\n",
              "          docLink.innerHTML = docLinkHtml;\n",
              "          element.appendChild(docLink);\n",
              "        }\n",
              "      </script>\n",
              "    </div>\n",
              "  </div>\n",
              "  "
            ]
          },
          "metadata": {},
          "execution_count": 40
        }
      ]
    },
    {
      "cell_type": "markdown",
      "source": [
        "**Testando o melhor modelo validado**"
      ],
      "metadata": {
        "id": "imhTOtHdLTLw"
      }
    },
    {
      "cell_type": "code",
      "source": [
        "# realizando pre-processamento nos dados de teste\n",
        "X_test_prepared = full_pipeline.fit_transform(X_test)\n",
        "X_test_prepared.toarray()\n",
        "\n",
        "classifier = RandomForestClassifier(class_weight='balanced') # atribuindo modelo de maior acurácia no treinamento\n",
        "classifier.fit(X_prepared, y_train) # treinando o modelo\n",
        "y_pred = classifier.predict(X_test_prepared) # testando o modelo\n",
        "\n",
        "\n",
        "# resultados\n",
        "print(classification_report(y_test, y_pred))\n",
        "\n",
        "cf_matrix = confusion_matrix(y_test, y_pred)\n",
        "ax = sns.heatmap(cf_matrix, annot=True, cmap='Blues')\n",
        "ax.xaxis.set_ticklabels(['Leve1', 'Level2', 'Level3', 'Level3osi'])\n",
        "ax.yaxis.set_ticklabels(['Leve1', 'Level2', 'Level3', 'Level3osi']);\n",
        "plt.xlabel('Previsão')\n",
        "plt.ylabel('Real')\n",
        "plt.show()"
      ],
      "metadata": {
        "colab": {
          "base_uri": "https://localhost:8080/",
          "height": 476
        },
        "id": "VYkbaJgks8Gz",
        "outputId": "86367a8d-8b2b-4164-f83c-467762ac91f8"
      },
      "execution_count": null,
      "outputs": [
        {
          "output_type": "stream",
          "name": "stdout",
          "text": [
            "                        precision    recall  f1-score   support\n",
            "\n",
            "Level 1 - Use of Force       0.88      0.92      0.90      1894\n",
            "Level 2 - Use of Force       0.77      0.68      0.72       724\n",
            "         Level 3 - OIS       0.62      0.59      0.60        22\n",
            "Level 3 - Use of Force       0.42      0.35      0.38        23\n",
            "\n",
            "              accuracy                           0.85      2663\n",
            "             macro avg       0.67      0.63      0.65      2663\n",
            "          weighted avg       0.84      0.85      0.84      2663\n",
            "\n"
          ]
        },
        {
          "output_type": "display_data",
          "data": {
            "text/plain": [
              "<Figure size 432x288 with 2 Axes>"
            ],
            "image/png": "[encoded data removed]"
          },
          "metadata": {}
        }
      ]
    },
    {
      "cell_type": "markdown",
      "source": [
        "**A acurácia de 85% é alta para a natureza dos dados, porém, devido este mesmo fator, os resultados tornam-se tendenciosos uma vez que a quantidade de amostras para os usos de força nos níveis 1 e 2 são bem superiores às demais. Logo, o sistema tende a acertar muito para ocorrências nos níveis 1 e 2 mas não generaliza bem os outros níveis.**\n",
        "\n",
        "**Apesar disso, o modelo se mostrou eficaz para diferenciar entre o uso de força Level 3 e Level 3 osi.**\n",
        "\n",
        "**O modelo tem dificuldade em diferenciar o uso de força dos Levels 1 e 2**\n",
        "\n",
        "**Talvez a adição de alguns outros atributos que ajudem na decisão ou a utilização de modelos de aprendizagem mais robustos, possam melhorar os resultados.**"
      ],
      "metadata": {
        "id": "ZKbjzJkGYh0I"
      }
    },
    {
      "cell_type": "markdown",
      "source": [
        "4️⃣ Suponha que o modelo elaborado para o item 3 não possuiu acurácia razoável para os propósitos da consultoria. Visando aumentá-la, utilize uma ou mais das seguintes técnicas de Aprendizado de Máquina em uma nova versão do modelo:\n",
        "* Aprendizagem Profunda     \n",
        "* Aumento Artificial de Dados (Data Augmentation)\n",
        "* Técnicas de Balanceamento de Dados (ex. SMOTE, under-sampling)\n",
        "\n",
        "Foi possível melhorar a acurácia do modelo? A que se deve esse fato?"
      ],
      "metadata": {
        "id": "RLxhA7e-j5iF"
      }
    },
    {
      "cell_type": "markdown",
      "source": [
        "##### **Utilizando técnica de balanceamento de dados: SMOTE**"
      ],
      "metadata": {
        "id": "aCFGhL0ii04X"
      }
    },
    {
      "cell_type": "code",
      "source": [
        "# aplicado a técnica de sobreamostragem smote\n",
        "oversample = SMOTE()\n",
        "X_train_over, y_train_over = oversample.fit_resample(X_prepared, y_train)\n",
        "\n",
        "# mostrando nova distribuição dos dados balanceados\n",
        "counter = Counter(y_train_over)\n",
        "for k,v in counter.items():\n",
        "\tper = v / len(y_train_over) * 100\n",
        "\tprint(f'Class= {k}\\t amostras={v}\\t perc: {per:.2f} %')\n"
      ],
      "metadata": {
        "colab": {
          "base_uri": "https://localhost:8080/"
        },
        "id": "Qy9yi573cv0P",
        "outputId": "deb7192f-e13f-4043-edcc-5fcfb911d676"
      },
      "execution_count": null,
      "outputs": [
        {
          "output_type": "stream",
          "name": "stdout",
          "text": [
            "Class= Level 2 - Use of Force\t amostras=7540\t perc: 25.00 %\n",
            "Class= Level 1 - Use of Force\t amostras=7540\t perc: 25.00 %\n",
            "Class= Level 3 - OIS\t amostras=7540\t perc: 25.00 %\n",
            "Class= Level 3 - Use of Force\t amostras=7540\t perc: 25.00 %\n"
          ]
        }
      ]
    },
    {
      "cell_type": "code",
      "source": [
        "# definindo métricas para tabela de resultados\n",
        "MLA_columns = ['Modelo', 'Acc. treinamento', 'Acc. Teste', 'Tempo']\n",
        "MLA_compare = pd.DataFrame(columns = MLA_columns)\n",
        "\n",
        "# definindo hiperparâmetro de validação\n",
        "kfold = KFold(n_splits=10, shuffle=True)\n",
        "\n",
        "index = 0\n",
        "for i in range(len(models)):\n",
        "  \n",
        "  clf = models[i]\n",
        "\n",
        "  MLA_compare.loc[index, 'Modelo'] = clf\n",
        "\n",
        "  scores = cross_validate(clf, X_train_over, y_train_over, cv=kfold, return_train_score=True)\n",
        "\n",
        "\n",
        "  MLA_compare.loc[index, 'Tempo'] = scores['fit_time'].mean()\n",
        "  MLA_compare.loc[index, 'Acc. treinamento'] = scores['train_score'].mean()\n",
        "  MLA_compare.loc[index, 'Acc. Teste'] = scores['test_score'].mean()   \n",
        "\n",
        "  index+=1  \n",
        "\n",
        "MLA_compare.sort_values(by = ['Acc. Teste'], ascending = False, inplace = True)\n",
        "MLA_compare\n"
      ],
      "metadata": {
        "colab": {
          "base_uri": "https://localhost:8080/",
          "height": 206
        },
        "id": "xCi3gFbseIGN",
        "outputId": "e0bbedde-7b8b-4859-cf17-313100a3d38a"
      },
      "execution_count": null,
      "outputs": [
        {
          "output_type": "execute_result",
          "data": {
            "text/plain": [
              "                     Modelo Acc. treinamento Acc. Teste      Tempo\n",
              "0  RandomForestClassifier()          0.98838   0.947646  19.897545\n",
              "4  DecisionTreeClassifier()         0.988384   0.921651   0.874263\n",
              "1                     SVC()         0.935691   0.914191  19.804873\n",
              "3    KNeighborsClassifier()         0.921883   0.885975   0.037918\n",
              "2      LogisticRegression()          0.68123   0.676359   1.531736"
            ],
            "text/html": [
              "\n",
              "  <div id=\"df-39eb6b1a-9f91-4716-9301-05d3fb25bb37\">\n",
              "    <div class=\"colab-df-container\">\n",
              "      <div>\n",
              "<style scoped>\n",
              "    .dataframe tbody tr th:only-of-type {\n",
              "        vertical-align: middle;\n",
              "    }\n",
              "\n",
              "    .dataframe tbody tr th {\n",
              "        vertical-align: top;\n",
              "    }\n",
              "\n",
              "    .dataframe thead th {\n",
              "        text-align: right;\n",
              "    }\n",
              "</style>\n",
              "<table border=\"1\" class=\"dataframe\">\n",
              "  <thead>\n",
              "    <tr style=\"text-align: right;\">\n",
              "      <th></th>\n",
              "      <th>Modelo</th>\n",
              "      <th>Acc. treinamento</th>\n",
              "      <th>Acc. Teste</th>\n",
              "      <th>Tempo</th>\n",
              "    </tr>\n",
              "  </thead>\n",
              "  <tbody>\n",
              "    <tr>\n",
              "      <th>0</th>\n",
              "      <td>RandomForestClassifier()</td>\n",
              "      <td>0.98838</td>\n",
              "      <td>0.947646</td>\n",
              "      <td>19.897545</td>\n",
              "    </tr>\n",
              "    <tr>\n",
              "      <th>4</th>\n",
              "      <td>DecisionTreeClassifier()</td>\n",
              "      <td>0.988384</td>\n",
              "      <td>0.921651</td>\n",
              "      <td>0.874263</td>\n",
              "    </tr>\n",
              "    <tr>\n",
              "      <th>1</th>\n",
              "      <td>SVC()</td>\n",
              "      <td>0.935691</td>\n",
              "      <td>0.914191</td>\n",
              "      <td>19.804873</td>\n",
              "    </tr>\n",
              "    <tr>\n",
              "      <th>3</th>\n",
              "      <td>KNeighborsClassifier()</td>\n",
              "      <td>0.921883</td>\n",
              "      <td>0.885975</td>\n",
              "      <td>0.037918</td>\n",
              "    </tr>\n",
              "    <tr>\n",
              "      <th>2</th>\n",
              "      <td>LogisticRegression()</td>\n",
              "      <td>0.68123</td>\n",
              "      <td>0.676359</td>\n",
              "      <td>1.531736</td>\n",
              "    </tr>\n",
              "  </tbody>\n",
              "</table>\n",
              "</div>\n",
              "      <button class=\"colab-df-convert\" onclick=\"convertToInteractive('df-39eb6b1a-9f91-4716-9301-05d3fb25bb37')\"\n",
              "              title=\"Convert this dataframe to an interactive table.\"\n",
              "              style=\"display:none;\">\n",
              "        \n",
              "  <svg xmlns=\"http://www.w3.org/2000/svg\" height=\"24px\"viewBox=\"0 0 24 24\"\n",
              "       width=\"24px\">\n",
              "    <path d=\"M0 0h24v24H0V0z\" fill=\"none\"/>\n",
              "    <path d=\"M18.56 5.44l.94 2.06.94-2.06 2.06-.94-2.06-.94-.94-2.06-.94 2.06-2.06.94zm-11 1L8.5 8.5l.94-2.06 2.06-.94-2.06-.94L8.5 2.5l-.94 2.06-2.06.94zm10 10l.94 2.06.94-2.06 2.06-.94-2.06-.94-.94-2.06-.94 2.06-2.06.94z\"/><path d=\"M17.41 7.96l-1.37-1.37c-.4-.4-.92-.59-1.43-.59-.52 0-1.04.2-1.43.59L10.3 9.45l-7.72 7.72c-.78.78-.78 2.05 0 2.83L4 21.41c.39.39.9.59 1.41.59.51 0 1.02-.2 1.41-.59l7.78-7.78 2.81-2.81c.8-.78.8-2.07 0-2.86zM5.41 20L4 18.59l7.72-7.72 1.47 1.35L5.41 20z\"/>\n",
              "  </svg>\n",
              "      </button>\n",
              "      \n",
              "  <style>\n",
              "    .colab-df-container {\n",
              "      display:flex;\n",
              "      flex-wrap:wrap;\n",
              "      gap: 12px;\n",
              "    }\n",
              "\n",
              "    .colab-df-convert {\n",
              "      background-color: #E8F0FE;\n",
              "      border: none;\n",
              "      border-radius: 50%;\n",
              "      cursor: pointer;\n",
              "      display: none;\n",
              "      fill: #1967D2;\n",
              "      height: 32px;\n",
              "      padding: 0 0 0 0;\n",
              "      width: 32px;\n",
              "    }\n",
              "\n",
              "    .colab-df-convert:hover {\n",
              "      background-color: #E2EBFA;\n",
              "      box-shadow: 0px 1px 2px rgba(60, 64, 67, 0.3), 0px 1px 3px 1px rgba(60, 64, 67, 0.15);\n",
              "      fill: #174EA6;\n",
              "    }\n",
              "\n",
              "    [theme=dark] .colab-df-convert {\n",
              "      background-color: #3B4455;\n",
              "      fill: #D2E3FC;\n",
              "    }\n",
              "\n",
              "    [theme=dark] .colab-df-convert:hover {\n",
              "      background-color: #434B5C;\n",
              "      box-shadow: 0px 1px 3px 1px rgba(0, 0, 0, 0.15);\n",
              "      filter: drop-shadow(0px 1px 2px rgba(0, 0, 0, 0.3));\n",
              "      fill: #FFFFFF;\n",
              "    }\n",
              "  </style>\n",
              "\n",
              "      <script>\n",
              "        const buttonEl =\n",
              "          document.querySelector('#df-39eb6b1a-9f91-4716-9301-05d3fb25bb37 button.colab-df-convert');\n",
              "        buttonEl.style.display =\n",
              "          google.colab.kernel.accessAllowed ? 'block' : 'none';\n",
              "\n",
              "        async function convertToInteractive(key) {\n",
              "          const element = document.querySelector('#df-39eb6b1a-9f91-4716-9301-05d3fb25bb37');\n",
              "          const dataTable =\n",
              "            await google.colab.kernel.invokeFunction('convertToInteractive',\n",
              "                                                     [key], {});\n",
              "          if (!dataTable) return;\n",
              "\n",
              "          const docLinkHtml = 'Like what you see? Visit the ' +\n",
              "            '<a target=\"_blank\" href=https://colab.research.google.com/notebooks/data_table.ipynb>data table notebook</a>'\n",
              "            + ' to learn more about interactive tables.';\n",
              "          element.innerHTML = '';\n",
              "          dataTable['output_type'] = 'display_data';\n",
              "          await google.colab.output.renderOutput(dataTable, element);\n",
              "          const docLink = document.createElement('div');\n",
              "          docLink.innerHTML = docLinkHtml;\n",
              "          element.appendChild(docLink);\n",
              "        }\n",
              "      </script>\n",
              "    </div>\n",
              "  </div>\n",
              "  "
            ]
          },
          "metadata": {},
          "execution_count": 43
        }
      ]
    },
    {
      "cell_type": "code",
      "source": [
        "classifier = RandomForestClassifier(class_weight='balanced') # atribuindo modelo de maior acurácia no treinamento\n",
        "classifier.fit(X_train_over, y_train_over) # treinando o modelo\n",
        "y_pred = classifier.predict(X_test_prepared) # testando o modelo\n",
        "\n",
        "\n",
        "# resultados\n",
        "print(classification_report(y_test, y_pred))\n",
        "\n",
        "cf_matrix = confusion_matrix(y_test, y_pred)\n",
        "ax = sns.heatmap(cf_matrix, annot=True, cmap='Blues')\n",
        "ax.xaxis.set_ticklabels(['Leve1', 'Level2', 'Level3', 'Level3osi'])\n",
        "ax.yaxis.set_ticklabels(['Leve1', 'Level2', 'Level3', 'Level3osi']);\n",
        "plt.xlabel('Previsão')\n",
        "plt.ylabel('Real')\n",
        "plt.show()"
      ],
      "metadata": {
        "colab": {
          "base_uri": "https://localhost:8080/",
          "height": 476
        },
        "id": "ITOo3ZxNiOJI",
        "outputId": "78c103da-37df-4db3-9333-b4932d65e276"
      },
      "execution_count": null,
      "outputs": [
        {
          "output_type": "stream",
          "name": "stdout",
          "text": [
            "                        precision    recall  f1-score   support\n",
            "\n",
            "Level 1 - Use of Force       0.87      0.91      0.89      1894\n",
            "Level 2 - Use of Force       0.75      0.67      0.71       724\n",
            "         Level 3 - OIS       0.56      0.41      0.47        22\n",
            "Level 3 - Use of Force       0.40      0.35      0.37        23\n",
            "\n",
            "              accuracy                           0.84      2663\n",
            "             macro avg       0.65      0.58      0.61      2663\n",
            "          weighted avg       0.83      0.84      0.83      2663\n",
            "\n"
          ]
        },
        {
          "output_type": "display_data",
          "data": {
            "text/plain": [
              "<Figure size 432x288 with 2 Axes>"
            ],
            "image/png": "[encoded data removed]"
          },
          "metadata": {}
        }
      ]
    },
    {
      "cell_type": "markdown",
      "source": [
        "**A aplicação da técnica de balanceamento dos dados não melhora a acurácia do modelo, há variações na precisão, f1 score e recall nas classificações.**\n",
        "\n",
        "**Essas variações na precisão nas previsões de cada classe se devem ao balanceamento dos dados, contudo, fica nítido, após o balanceamento, que o desbalanceamento não é o problema. É provável que o modelo melhore se encontrarmos uma variável intermediadora para Level 1 e 2 do uso de força, onde há mais conflitos para a classificação**"
      ],
      "metadata": {
        "id": "H4LcMxEfvL8n"
      }
    }
  ]
}